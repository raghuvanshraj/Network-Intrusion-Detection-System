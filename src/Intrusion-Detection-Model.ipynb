{
 "cells": [
  {
   "cell_type": "markdown",
   "metadata": {
    "colab_type": "text",
    "id": "fCBUsT0HwlwY"
   },
   "source": [
    "# Mounting Drive"
   ]
  },
  {
   "cell_type": "code",
   "execution_count": null,
   "metadata": {
    "colab": {
     "base_uri": "https://localhost:8080/",
     "height": 55
    },
    "colab_type": "code",
    "executionInfo": {
     "elapsed": 1166,
     "status": "ok",
     "timestamp": 1577700412173,
     "user": {
      "displayName": "Raghuvansh Raj",
      "photoUrl": "",
      "userId": "11591486281518120801"
     },
     "user_tz": -330
    },
    "id": "xPtBbBVKwkPZ",
    "outputId": "b950f90f-ad3b-4435-c914-2de29ca5eeb4"
   },
   "outputs": [],
   "source": [
    "from google.colab import drive\n",
    "drive.mount('/content/drive')"
   ]
  },
  {
   "cell_type": "markdown",
   "metadata": {
    "colab_type": "text",
    "id": "7GQjYRRu4sDe"
   },
   "source": [
    "# Installations"
   ]
  },
  {
   "cell_type": "code",
   "execution_count": null,
   "metadata": {
    "colab": {
     "base_uri": "https://localhost:8080/",
     "height": 1000
    },
    "colab_type": "code",
    "executionInfo": {
     "elapsed": 65416,
     "status": "ok",
     "timestamp": 1577681593725,
     "user": {
      "displayName": "Raghuvansh Raj",
      "photoUrl": "",
      "userId": "11591486281518120801"
     },
     "user_tz": -330
    },
    "id": "c_UU6sgCbu-T",
    "outputId": "2505bdf8-4c8d-4d6d-9c6a-16261e06b175"
   },
   "outputs": [],
   "source": [
    "!pip install tensorflow --upgrade"
   ]
  },
  {
   "cell_type": "code",
   "execution_count": null,
   "metadata": {
    "colab": {
     "base_uri": "https://localhost:8080/",
     "height": 307
    },
    "colab_type": "code",
    "executionInfo": {
     "elapsed": 69913,
     "status": "ok",
     "timestamp": 1577681598925,
     "user": {
      "displayName": "Raghuvansh Raj",
      "photoUrl": "",
      "userId": "11591486281518120801"
     },
     "user_tz": -330
    },
    "id": "NIgeaMtfb0w6",
    "outputId": "821c0ad6-13bf-4c30-dd5d-98bb00842280"
   },
   "outputs": [],
   "source": [
    "!pip install keras --upgrade"
   ]
  },
  {
   "cell_type": "code",
   "execution_count": null,
   "metadata": {
    "colab": {
     "base_uri": "https://localhost:8080/",
     "height": 379
    },
    "colab_type": "code",
    "executionInfo": {
     "elapsed": 74664,
     "status": "ok",
     "timestamp": 1577681604208,
     "user": {
      "displayName": "Raghuvansh Raj",
      "photoUrl": "",
      "userId": "11591486281518120801"
     },
     "user_tz": -330
    },
    "id": "C6VCI5t_tK_d",
    "outputId": "b90726ef-963a-4858-f770-72c04afd9e56"
   },
   "outputs": [],
   "source": [
    "!pip install yellowbrick==1.0.1"
   ]
  },
  {
   "cell_type": "markdown",
   "metadata": {
    "colab_type": "text",
    "id": "n7lq53pdwyIj"
   },
   "source": [
    "# Imports"
   ]
  },
  {
   "cell_type": "code",
   "execution_count": null,
   "metadata": {
    "colab": {},
    "colab_type": "code",
    "id": "ywp-FI8jwpoA"
   },
   "outputs": [],
   "source": [
    "import torch\n",
    "import torch.nn as nn\n",
    "from torch.utils.data import Dataset, DataLoader\n",
    "import os\n",
    "import numpy as np\n",
    "import pandas as pd\n",
    "import torch.optim as optim\n",
    "import torch.nn.functional as F\n",
    "import matplotlib.pyplot as plt\n",
    "from sklearn.decomposition import PCA\n",
    "import sklearn.cluster as cluster\n",
    "from mpl_toolkits.mplot3d import axes3d\n",
    "# from random import sample, shuffle\n",
    "import joblib\n",
    "from yellowbrick.cluster import KElbowVisualizer\n",
    "from scipy.stats import zscore, multivariate_normal\n",
    "import seaborn as sns\n",
    "from sklearn.metrics import confusion_matrix, f1_score, make_scorer, \\\n",
    "                            accuracy_score, precision_score, recall_score, \\\n",
    "                            precision_recall_curve, roc_curve, auc\n",
    "from sklearn.model_selection import GridSearchCV\n",
    "from sklearn.ensemble import RandomForestClassifier, AdaBoostClassifier\n",
    "from sklearn.utils import shuffle\n",
    "from keras import Sequential\n",
    "from keras.layers import Dense, Dropout, Convolution1D, MaxPooling1D, LSTM\n",
    "from keras.utils import to_categorical\n",
    "from keras.regularizers import l2\n",
    "from keras.optimizers import Adam\n",
    "from keras.utils import plot_model\n",
    "from imblearn.under_sampling import RandomUnderSampler\n",
    "from imblearn.over_sampling import SMOTE, SMOTENC, SVMSMOTE\n",
    "from collections import Counter"
   ]
  },
  {
   "cell_type": "code",
   "execution_count": null,
   "metadata": {
    "colab": {},
    "colab_type": "code",
    "id": "ALOf7WkibmSr"
   },
   "outputs": [],
   "source": [
    "import warnings\n",
    "warnings.filterwarnings('ignore')"
   ]
  },
  {
   "cell_type": "markdown",
   "metadata": {
    "colab_type": "text",
    "id": "KFJhJSuiDBKP"
   },
   "source": [
    "# Constants"
   ]
  },
  {
   "cell_type": "code",
   "execution_count": null,
   "metadata": {
    "colab": {},
    "colab_type": "code",
    "id": "_iG-Kbpa5z5l"
   },
   "outputs": [],
   "source": [
    "CSV_DIR = '/content/drive/My Drive/Colab Notebooks/Intrusion Detection/data/NSL-KDD/csv'\n",
    "BATCH_SIZE = 128\n",
    "FIG_TITLE_SIZE = 15\n",
    "LEGEND_TEXT_SIZE = 11\n",
    "MODELS_DIR = '/content/drive/My Drive/Colab Notebooks/Intrusion Detection/saved_models/grid_search'"
   ]
  },
  {
   "cell_type": "markdown",
   "metadata": {
    "colab_type": "text",
    "id": "jxuZDhhg7tMV"
   },
   "source": [
    "# Device Check for GPU"
   ]
  },
  {
   "cell_type": "code",
   "execution_count": null,
   "metadata": {
    "colab": {
     "base_uri": "https://localhost:8080/",
     "height": 35
    },
    "colab_type": "code",
    "executionInfo": {
     "elapsed": 1601,
     "status": "ok",
     "timestamp": 1577595316366,
     "user": {
      "displayName": "Raghuvansh Raj",
      "photoUrl": "",
      "userId": "11591486281518120801"
     },
     "user_tz": -330
    },
    "id": "i0R51Y9A6XU-",
    "outputId": "3c741c85-eaae-4c0b-d5e3-10ebf82fc136"
   },
   "outputs": [],
   "source": [
    "device = torch.device('cuda: 0' if torch.cuda.is_available() else 'cpu')\n",
    "print(device)"
   ]
  },
  {
   "cell_type": "markdown",
   "metadata": {
    "colab_type": "text",
    "id": "AyhUkQ16ygZA"
   },
   "source": [
    "# Dataset & DataLoader"
   ]
  },
  {
   "cell_type": "markdown",
   "metadata": {
    "colab_type": "text",
    "id": "JWNIO1QwC_5s"
   },
   "source": [
    "## NSLKDDDataset"
   ]
  },
  {
   "cell_type": "code",
   "execution_count": null,
   "metadata": {
    "colab": {},
    "colab_type": "code",
    "id": "vVabswIJyaQQ"
   },
   "outputs": [],
   "source": [
    "class NSLKDDDataset(Dataset):\n",
    "    \n",
    "    def __init__(self, features, labels):\n",
    "        self.features = np.asarray(features)\n",
    "        self.labels = np.asarray(labels)\n",
    "        \n",
    "    def __len__(self):\n",
    "        return self.features.shape[0]\n",
    "    \n",
    "    def __getitem__(self, idx):\n",
    "        return (torch.from_numpy(self.features[idx]), torch.from_numpy(self.labels[idx]))"
   ]
  },
  {
   "cell_type": "markdown",
   "metadata": {
    "colab_type": "text",
    "id": "FxQ9N44MDEX7"
   },
   "source": [
    "## NSLKDDFeatures"
   ]
  },
  {
   "cell_type": "code",
   "execution_count": null,
   "metadata": {
    "colab": {},
    "colab_type": "code",
    "id": "ihki86esDI68"
   },
   "outputs": [],
   "source": [
    "class NSLKDDFeatures(Dataset):\n",
    "    \n",
    "    def __init__(self, features):\n",
    "        self.features = np.asarray(features)\n",
    "        \n",
    "    def __len__(self):\n",
    "        return self.features.shape[0]\n",
    "    \n",
    "    def __getitem__(self, idx):\n",
    "        return torch.from_numpy(self.features[idx])"
   ]
  },
  {
   "cell_type": "markdown",
   "metadata": {
    "colab_type": "text",
    "id": "1ug8ztVBjd3m"
   },
   "source": [
    "## NSLKDDSiameseNetDataSet"
   ]
  },
  {
   "cell_type": "code",
   "execution_count": null,
   "metadata": {
    "colab": {},
    "colab_type": "code",
    "id": "mAwvHLKljh5-"
   },
   "outputs": [],
   "source": [
    "class NSLKDDSiameseNetDataSet(Dataset):\n",
    "\n",
    "    def __init__(self, partitioned_data, indices, labels, nsl_kdd_features):\n",
    "        self.partitioned_data = partitioned_data\n",
    "        self.indices = indices\n",
    "        self.labels = labels\n",
    "        self.nsl_kdd_features = nsl_kdd_features\n",
    "\n",
    "    def __len__(self):\n",
    "        return len(self.indices)\n",
    "\n",
    "    def __getitem__(self, idx):\n",
    "        idx_tuple = self.indices[idx]\n",
    "        if idx_tuple[0] == idx_tuple[1]:\n",
    "            ret_list = self.partitioned_data[idx_tuple[0]][\n",
    "                np.random.choice(\n",
    "                    self.partitioned_data[idx_tuple[0]].shape[0], 2, replace=False\n",
    "                )\n",
    "            ]\n",
    "        else:\n",
    "            ret_list = list(map(\n",
    "                lambda x: self.partitioned_data[x][\n",
    "                    np.random.choice(self.partitioned_data[x].shape[0], 1)[0]\n",
    "                ], \n",
    "                idx_tuple)\n",
    "            )\n",
    "\n",
    "        return (\n",
    "            torch.from_numpy(ret_list[0]),\n",
    "            torch.from_numpy(ret_list[1]),\n",
    "            torch.tensor(self.labels[idx], dtype=torch.int64)\n",
    "        )"
   ]
  },
  {
   "cell_type": "markdown",
   "metadata": {
    "colab_type": "text",
    "id": "QN7GUy0X5asr"
   },
   "source": [
    "## Training Data"
   ]
  },
  {
   "cell_type": "code",
   "execution_count": null,
   "metadata": {
    "colab": {},
    "colab_type": "code",
    "id": "_8x-xm0P5FRX"
   },
   "outputs": [],
   "source": [
    "train_features_pd = pd.read_csv(os.path.join(CSV_DIR, 'training', 'train_features_pca.csv'), header=None)\n",
    "train_labels_multiclass_pd = pd.read_csv(os.path.join(CSV_DIR, 'training', 'train_labels_multiclass.csv'), header=None)\n",
    "train_labels_binary_pd = pd.read_csv(os.path.join(CSV_DIR, 'training', 'train_labels_binary.csv'), header=None)"
   ]
  },
  {
   "cell_type": "code",
   "execution_count": null,
   "metadata": {
    "colab": {
     "base_uri": "https://localhost:8080/",
     "height": 35
    },
    "colab_type": "code",
    "executionInfo": {
     "elapsed": 3019,
     "status": "ok",
     "timestamp": 1577700426499,
     "user": {
      "displayName": "Raghuvansh Raj",
      "photoUrl": "",
      "userId": "11591486281518120801"
     },
     "user_tz": -330
    },
    "id": "kIGSi0csisVb",
    "outputId": "91ad79a7-19a7-4dac-9f91-aee44737b512"
   },
   "outputs": [],
   "source": [
    "train_features_pd.shape"
   ]
  },
  {
   "cell_type": "code",
   "execution_count": null,
   "metadata": {
    "colab": {
     "base_uri": "https://localhost:8080/",
     "height": 190
    },
    "colab_type": "code",
    "executionInfo": {
     "elapsed": 3272,
     "status": "error",
     "timestamp": 1577537198221,
     "user": {
      "displayName": "Raghuvansh Raj",
      "photoUrl": "",
      "userId": "11591486281518120801"
     },
     "user_tz": -330
    },
    "id": "JV1FXalw6M67",
    "outputId": "74b70a86-f8c8-4c9f-ab8b-7cab6f5d0ac0"
   },
   "outputs": [],
   "source": [
    "train_multiclass_ds = NSLKDDDataset(train_features, train_labels_multiclass)\n",
    "train_binary_ds = NSLKDDDataset(train_features, train_labels_binary)"
   ]
  },
  {
   "cell_type": "code",
   "execution_count": null,
   "metadata": {
    "colab": {},
    "colab_type": "code",
    "id": "x0C_nEeKDTBv"
   },
   "outputs": [],
   "source": [
    "train_features_ds = NSLKDDFeatures(train_features)"
   ]
  },
  {
   "cell_type": "code",
   "execution_count": null,
   "metadata": {
    "colab": {},
    "colab_type": "code",
    "id": "ptMyAEKR_JZA"
   },
   "outputs": [],
   "source": [
    "train_multiclass_dl = DataLoader(\n",
    "    train_multiclass_ds,\n",
    "    batch_size=BATCH_SIZE,\n",
    "    shuffle=True\n",
    ")\n",
    "\n",
    "train_binary_dl = DataLoader(\n",
    "    train_binary_ds,\n",
    "    batch_size=BATCH_SIZE,\n",
    "    shuffle=True\n",
    ")\n",
    "\n",
    "train_features_dl = DataLoader(\n",
    "    train_features_ds,\n",
    "    batch_size=BATCH_SIZE,\n",
    "    shuffle=True\n",
    ")"
   ]
  },
  {
   "cell_type": "markdown",
   "metadata": {
    "colab_type": "text",
    "id": "PqOqAdNh5cre"
   },
   "source": [
    "## Testing Data"
   ]
  },
  {
   "cell_type": "code",
   "execution_count": null,
   "metadata": {
    "colab": {},
    "colab_type": "code",
    "id": "-daE3kWp9dA2"
   },
   "outputs": [],
   "source": [
    "test_features_pd = pd.read_csv(os.path.join(CSV_DIR, 'testing', 'test_features_pca.csv'), header=None)\n",
    "test_labels_multiclass_pd = pd.read_csv(os.path.join(CSV_DIR, 'testing', 'test_labels_multiclass.csv'), header=None)\n",
    "test_labels_binary_pd = pd.read_csv(os.path.join(CSV_DIR, 'testing', 'test_labels_binary.csv'), header=None)"
   ]
  },
  {
   "cell_type": "code",
   "execution_count": null,
   "metadata": {
    "colab": {
     "base_uri": "https://localhost:8080/",
     "height": 35
    },
    "colab_type": "code",
    "executionInfo": {
     "elapsed": 1446,
     "status": "ok",
     "timestamp": 1577700428850,
     "user": {
      "displayName": "Raghuvansh Raj",
      "photoUrl": "",
      "userId": "11591486281518120801"
     },
     "user_tz": -330
    },
    "id": "u3qCRq6CjICP",
    "outputId": "b1b79a19-c693-4882-ebb9-227e25ff20af"
   },
   "outputs": [],
   "source": [
    "test_features_pd.shape"
   ]
  },
  {
   "cell_type": "code",
   "execution_count": null,
   "metadata": {
    "colab": {
     "base_uri": "https://localhost:8080/",
     "height": 190
    },
    "colab_type": "code",
    "executionInfo": {
     "elapsed": 1291,
     "status": "error",
     "timestamp": 1577518935423,
     "user": {
      "displayName": "Raghuvansh Raj",
      "photoUrl": "",
      "userId": "11591486281518120801"
     },
     "user_tz": -330
    },
    "id": "MoHqjVlk9eTg",
    "outputId": "f119a40b-290d-4559-cabd-c3650cd17b54"
   },
   "outputs": [],
   "source": [
    "test_multiclass_ds = NSLKDDDataset(test_features, test_labels_multiclass)\n",
    "test_binary_ds = NSLKDDDataset(test_features, test_labels_binary)"
   ]
  },
  {
   "cell_type": "code",
   "execution_count": null,
   "metadata": {
    "colab": {},
    "colab_type": "code",
    "id": "qgTCQG4ED4bU"
   },
   "outputs": [],
   "source": [
    "test_features_ds = NSLKDDFeatures(test_features)"
   ]
  },
  {
   "cell_type": "code",
   "execution_count": null,
   "metadata": {
    "colab": {},
    "colab_type": "code",
    "id": "Bt25FkzI_npT"
   },
   "outputs": [],
   "source": [
    "test_multiclass_dl = DataLoader(\n",
    "    test_multiclass_ds,\n",
    "    batch_size=BATCH_SIZE,\n",
    "    shuffle=True\n",
    ")\n",
    "\n",
    "test_binary_dl = DataLoader(\n",
    "    test_binary_ds,\n",
    "    batch_size=BATCH_SIZE,\n",
    "    shuffle=True\n",
    ")\n",
    "\n",
    "test_features_dl = DataLoader(\n",
    "    test_features_ds,\n",
    "    batch_size=BATCH_SIZE,\n",
    "    shuffle=True\n",
    ")"
   ]
  },
  {
   "cell_type": "markdown",
   "metadata": {
    "colab_type": "text",
    "id": "xlkFQIOJ1hpv"
   },
   "source": [
    "## NumPy Arrays"
   ]
  },
  {
   "cell_type": "code",
   "execution_count": null,
   "metadata": {
    "colab": {},
    "colab_type": "code",
    "id": "uInfBQBH1e5d"
   },
   "outputs": [],
   "source": [
    "train_features_np = np.asarray(train_features_pd)\n",
    "test_features_np = np.asarray(test_features_pd)\n",
    "\n",
    "train_labels_binary_np = np.asarray(train_labels_binary_pd)\n",
    "test_labels_binary_np = np.asarray(test_labels_binary_pd)\n",
    "\n",
    "train_labels_multiclass_np = np.asarray(train_labels_multiclass_pd)\n",
    "test_labels_multiclass_np = np.asarray(test_labels_multiclass_pd)"
   ]
  },
  {
   "cell_type": "markdown",
   "metadata": {
    "colab_type": "text",
    "id": "lirxyPlBBm2M"
   },
   "source": [
    "# Data Plots"
   ]
  },
  {
   "cell_type": "markdown",
   "metadata": {
    "colab_type": "text",
    "id": "Q7esWE2QY5FX"
   },
   "source": [
    "## Plot Pie Chart"
   ]
  },
  {
   "cell_type": "code",
   "execution_count": null,
   "metadata": {
    "colab": {},
    "colab_type": "code",
    "id": "hn6zGXXzBvDm"
   },
   "outputs": [],
   "source": [
    "def plot_pie_chart(labels_one_hot, title, figure_size=(8,8), have_title=True, log_scaling=False):\n",
    "    labels = np.argmax(labels_one_hot, axis=1)\n",
    "    names = ['Normal', 'DoS', 'Probe', 'R2L', 'U2R']\n",
    "    _, sizes = np.unique(labels, return_counts=True)\n",
    "\n",
    "    names_sizes_dict = dict(zip(names, sizes))\n",
    "    sorted_names_sizes_dict = {k: v for k, v in sorted(\n",
    "        names_sizes_dict.items(), \n",
    "        key=lambda item: item[1],\n",
    "        reverse=True\n",
    "    )}\n",
    "\n",
    "\n",
    "    names = list(sorted_names_sizes_dict.keys())\n",
    "    sizes = list(sorted_names_sizes_dict.values())\n",
    "\n",
    "    if log_scaling:\n",
    "        sizes = np.log(sizes)\n",
    "\n",
    "    fig = plt.figure(figsize=figure_size)\n",
    "    ax = fig.add_subplot()\n",
    "\n",
    "    theme = plt.get_cmap('gray')\n",
    "    ax.set_prop_cycle('color', [theme(1. * i / len(sizes))\n",
    "                             for i in range(len(sizes))])\n",
    "    \n",
    "    patches, texts, autotexts = ax.pie(\n",
    "        sizes,\n",
    "        autopct='%1.1f%%',\n",
    "        startangle=90\n",
    "    )\n",
    "\n",
    "    autotexts[0].set_color('w')\n",
    "    autotexts[1].set_color('w')\n",
    "\n",
    "    # for text in autotexts:\n",
    "    #     text.set_fontsize(11)\n",
    "    \n",
    "    ax.axis('equal')  # Equal aspect ratio ensures that pie is drawn as a circle.\n",
    "\n",
    "    if have_title:\n",
    "        plt.title(\n",
    "            title,\n",
    "            fontsize=LEGEND_TEXT_SIZE\n",
    "        )\n",
    "\n",
    "    plt.legend(\n",
    "        names,\n",
    "        fontsize=11\n",
    "    )\n",
    "\n",
    "    plt.savefig(title + '.png')"
   ]
  },
  {
   "cell_type": "code",
   "execution_count": null,
   "metadata": {
    "colab": {
     "base_uri": "https://localhost:8080/",
     "height": 575
    },
    "colab_type": "code",
    "executionInfo": {
     "elapsed": 2679,
     "status": "ok",
     "timestamp": 1577601723232,
     "user": {
      "displayName": "Raghuvansh Raj",
      "photoUrl": "",
      "userId": "11591486281518120801"
     },
     "user_tz": -330
    },
    "id": "mVhh4gmcD-Ot",
    "outputId": "1a44a710-ccf3-486b-e1d7-88d7a65edbef"
   },
   "outputs": [],
   "source": [
    "plot_pie_chart(\n",
    "    train_labels_multiclass_np,\n",
    "    title='Class Distributions: Training Data (log scaled)',\n",
    "    figure_size=(10,10),\n",
    "    have_title=False,\n",
    "    log_scaling=True\n",
    ")"
   ]
  },
  {
   "cell_type": "code",
   "execution_count": null,
   "metadata": {
    "colab": {
     "base_uri": "https://localhost:8080/",
     "height": 575
    },
    "colab_type": "code",
    "executionInfo": {
     "elapsed": 2226,
     "status": "ok",
     "timestamp": 1577601754375,
     "user": {
      "displayName": "Raghuvansh Raj",
      "photoUrl": "",
      "userId": "11591486281518120801"
     },
     "user_tz": -330
    },
    "id": "JpdV33_XRB_v",
    "outputId": "a6a1ba57-b774-4705-bb7c-2669822a5a35"
   },
   "outputs": [],
   "source": [
    "plot_pie_chart(\n",
    "    test_labels_multiclass_np,\n",
    "    title='Class Distributions: Testing Data (log scaled)',\n",
    "    figure_size=(10,10),\n",
    "    have_title=False,\n",
    "    log_scaling=True\n",
    ")"
   ]
  },
  {
   "cell_type": "markdown",
   "metadata": {
    "colab_type": "text",
    "id": "Wn2qhflh79FV"
   },
   "source": [
    "# Model"
   ]
  },
  {
   "cell_type": "markdown",
   "metadata": {
    "colab_type": "text",
    "id": "n7cHToCh7_o9"
   },
   "source": [
    "## Autoencoder"
   ]
  },
  {
   "cell_type": "code",
   "execution_count": null,
   "metadata": {
    "colab": {},
    "colab_type": "code",
    "id": "NdcUQ1Zq7U7Q"
   },
   "outputs": [],
   "source": [
    "class Autoencoder(nn.Module):\n",
    "    \n",
    "    def __init__(self, in_features, out_features):\n",
    "        super(Autoencoder, self).__init__()\n",
    "        \n",
    "        self.encoder = nn.Sequential(\n",
    "            nn.Linear(in_features=in_features, out_features=out_features),\n",
    "            nn.Sigmoid()\n",
    "        )\n",
    "        \n",
    "        self.decoder = nn.Sequential(\n",
    "            nn.Linear(in_features=out_features, out_features=in_features),\n",
    "            nn.Sigmoid()\n",
    "        )\n",
    "        \n",
    "    def forward(self, x):\n",
    "        x = self.encoder(x)\n",
    "        x = self.decoder(x)\n",
    "        \n",
    "        return x"
   ]
  },
  {
   "cell_type": "markdown",
   "metadata": {
    "colab_type": "text",
    "id": "Zh5nljioBTna"
   },
   "source": [
    "## AnomalyDetector"
   ]
  },
  {
   "cell_type": "code",
   "execution_count": null,
   "metadata": {
    "colab": {},
    "colab_type": "code",
    "id": "jwjnw0aHBSh6"
   },
   "outputs": [],
   "source": [
    "class AnomalyDetector(nn.Module):\n",
    "\n",
    "    def __init__(self):\n",
    "        super(AnomalyDetector, self).__init__()\n",
    "        \n",
    "        self.activation = nn.LeakyReLU(inplace=True)\n",
    "\n",
    "        self.model = nn.Sequential(\n",
    "            # nn.BatchNorm1d(num_features=67),\n",
    "            nn.Linear(in_features=67, out_features=100),\n",
    "            self.activation,\n",
    "\n",
    "            nn.BatchNorm1d(num_features=100),\n",
    "            nn.Linear(in_features=100, out_features=120),\n",
    "            self.activation,\n",
    "\n",
    "            nn.BatchNorm1d(num_features=120),\n",
    "            nn.Linear(in_features=120, out_features=60),\n",
    "            self.activation,\n",
    "\n",
    "            nn.BatchNorm1d(num_features=60),\n",
    "            nn.Linear(in_features=60, out_features=30),\n",
    "            self.activation,\n",
    "\n",
    "            nn.BatchNorm1d(num_features=30),\n",
    "            nn.Linear(in_features=30, out_features=10),\n",
    "            self.activation,\n",
    "\n",
    "            nn.BatchNorm1d(num_features=10),\n",
    "            nn.Linear(in_features=10, out_features=2),\n",
    "            nn.Softmax(dim=1)\n",
    "        )\n",
    "    \n",
    "    def forward(self, x):\n",
    "        x = self.model(x)\n",
    "\n",
    "        return x"
   ]
  },
  {
   "cell_type": "markdown",
   "metadata": {
    "colab_type": "text",
    "id": "N4juXYlu1Q8L"
   },
   "source": [
    "\n",
    "## SignatureGenerator"
   ]
  },
  {
   "cell_type": "code",
   "execution_count": null,
   "metadata": {
    "colab": {},
    "colab_type": "code",
    "id": "Czbqld4Yxmna"
   },
   "outputs": [],
   "source": [
    "class SignatureGenerator(nn.Module):\n",
    "\n",
    "    def __init__(self):\n",
    "        super(SignatureGenerator, self).__init__()\n",
    "        \n",
    "        self.activation = nn.LeakyReLU(inplace=True)\n",
    "\n",
    "        self.model = nn.Sequential(\n",
    "            nn.Linear(in_features=67, out_features=100),\n",
    "            self.activation,\n",
    "            nn.BatchNorm1d(num_features=100),\n",
    "\n",
    "            nn.Linear(in_features=100, out_features=80),\n",
    "            self.activation,\n",
    "            nn.BatchNorm1d(num_features=80),\n",
    "\n",
    "            nn.Linear(in_features=80, out_features=60),\n",
    "            self.activation,\n",
    "            nn.BatchNorm1d(num_features=60),\n",
    "\n",
    "            nn.Linear(in_features=60, out_features=40),\n",
    "            self.activation,\n",
    "            nn.BatchNorm1d(num_features=40),\n",
    "\n",
    "            nn.Linear(in_features=40, out_features=20),\n",
    "            self.activation,\n",
    "            nn.BatchNorm1d(num_features=20),\n",
    "\n",
    "            nn.Linear(in_features=20, out_features=10),\n",
    "            nn.Sigmoid()\n",
    "        )\n",
    "        \n",
    "    def forward(self, x):\n",
    "        x = self.model(x)\n",
    "\n",
    "        return x"
   ]
  },
  {
   "cell_type": "markdown",
   "metadata": {
    "colab_type": "text",
    "id": "ImkYpfyt6Z-7"
   },
   "source": [
    "## L1Difference"
   ]
  },
  {
   "cell_type": "code",
   "execution_count": null,
   "metadata": {
    "colab": {},
    "colab_type": "code",
    "id": "kG5AEPVH6fhM"
   },
   "outputs": [],
   "source": [
    "class L1Difference(nn.Module):\n",
    "\n",
    "    def __init__(self):\n",
    "        super(L1Difference, self).__init__()\n",
    "\n",
    "    def forward(self, x1, x2):\n",
    "        return abs(x1 - x2)"
   ]
  },
  {
   "cell_type": "markdown",
   "metadata": {
    "colab_type": "text",
    "id": "8NZLrK2y419Y"
   },
   "source": [
    "## SiameseNet"
   ]
  },
  {
   "cell_type": "code",
   "execution_count": null,
   "metadata": {
    "colab": {},
    "colab_type": "code",
    "id": "hYWjaN4N5L0f"
   },
   "outputs": [],
   "source": [
    "class SiameseNet(nn.Module):\n",
    "\n",
    "    def __init__(self):\n",
    "        super(SiameseNet, self).__init__()\n",
    "\n",
    "        self.signature_gen = SignatureGenerator()\n",
    "        self.l1_diff = L1Difference()\n",
    "        self.fc = nn.Linear(in_features=10, out_features=2)\n",
    "\n",
    "    def forward(self, x1, x2):\n",
    "        x1_sig = self.signature_gen(x1)\n",
    "        x2_sig = self.signature_gen(x2)\n",
    "\n",
    "        l1_diff = self.l1_diff(x1_sig, x2_sig)\n",
    "\n",
    "        out = torch.softmax(self.fc(l1_diff), dim=1)\n",
    "\n",
    "        return out"
   ]
  },
  {
   "cell_type": "markdown",
   "metadata": {
    "colab_type": "text",
    "id": "wWMoGak1cRou"
   },
   "source": [
    "## MultiClassClassifier"
   ]
  },
  {
   "cell_type": "code",
   "execution_count": null,
   "metadata": {
    "colab": {},
    "colab_type": "code",
    "id": "NUY_dQA5caHY"
   },
   "outputs": [],
   "source": [
    "class MultiClassClassifier(nn.Module):\n",
    "\n",
    "    def __init__(self):\n",
    "        super(MultiClassClassifier, self).__init__()\n",
    "\n",
    "        self.model = nn.Sequential(\n",
    "            nn.Linear(in_features=67, out_features=120),\n",
    "            nn.ReLU(inplace=True),\n",
    "            nn.BatchNorm1d(num_features=120),\n",
    "\n",
    "            nn.Linear(in_features=120, out_features=100),\n",
    "            nn.ReLU(inplace=True),\n",
    "            nn.BatchNorm1d(num_features=100),\n",
    "\n",
    "            nn.Linear(in_features=100, out_features=80),\n",
    "            nn.ReLU(inplace=True),\n",
    "            nn.BatchNorm1d(num_features=80),\n",
    "            \n",
    "            nn.Linear(in_features=80, out_features=40),\n",
    "            nn.ReLU(inplace=True),\n",
    "            nn.BatchNorm1d(num_features=40),\n",
    "\n",
    "            nn.Linear(in_features=40, out_features=20),\n",
    "            nn.ReLU(inplace=True),\n",
    "            nn.BatchNorm1d(num_features=20),\n",
    "\n",
    "            nn.Linear(in_features=20, out_features=10),\n",
    "            nn.ReLU(inplace=True),\n",
    "            nn.BatchNorm1d(num_features=10),\n",
    "\n",
    "            nn.Linear(in_features=10, out_features=5),\n",
    "            nn.Softmax(dim=1)\n",
    "        )\n",
    "\n",
    "    def forward(self, x):\n",
    "        return self.model(x)"
   ]
  },
  {
   "cell_type": "markdown",
   "metadata": {
    "colab_type": "text",
    "id": "98gSt69fsNIA"
   },
   "source": [
    "# Training Utilities"
   ]
  },
  {
   "cell_type": "markdown",
   "metadata": {
    "colab_type": "text",
    "id": "SlSgoJAz5_oj"
   },
   "source": [
    "## Network Loss"
   ]
  },
  {
   "cell_type": "code",
   "execution_count": null,
   "metadata": {
    "colab": {},
    "colab_type": "code",
    "id": "WGFU_h0n6CHu"
   },
   "outputs": [],
   "source": [
    "def get_network_loss(net, dataloader):\n",
    "    agg_loss = 0.0\n",
    "\n",
    "    criterion = nn.CrossEntropyLoss()\n",
    "\n",
    "    for i, data in enumerate(dataloader, 0):\n",
    "        x, y = data\n",
    "        y = torch.argmax(y, dim=1)\n",
    "\n",
    "        x = x.to(device)\n",
    "        y = y.to(device)\n",
    "            \n",
    "        outputs = net(x)\n",
    "        loss = criterion(outputs, y)\n",
    "        agg_loss += loss.item()\n",
    "    \n",
    "    return agg_loss / len(dataloader)"
   ]
  },
  {
   "cell_type": "markdown",
   "metadata": {
    "colab_type": "text",
    "id": "H-an2Ig-4Mg1"
   },
   "source": [
    "## Train Network"
   ]
  },
  {
   "cell_type": "code",
   "execution_count": null,
   "metadata": {
    "colab": {},
    "colab_type": "code",
    "id": "wcSEYSYE4PrL"
   },
   "outputs": [],
   "source": [
    "def train_network(net, trainloader, testloader, n_epochs, print_every=500):\n",
    "    net.double()\n",
    "    net.to(device)\n",
    "\n",
    "    optimizer = optim.Adam(net.parameters())\n",
    "    criterion = nn.CrossEntropyLoss()\n",
    "\n",
    "    train_losses = []\n",
    "    test_losses = []\n",
    "    for epoch in range(n_epochs):\n",
    "        running_loss = 0.0\n",
    "        for i, data in enumerate(trainloader):\n",
    "            x, y = data\n",
    "            y = torch.argmax(y, dim=1)\n",
    "\n",
    "            x = x.to(device)\n",
    "            y = y.to(device)\n",
    "\n",
    "            optimizer.zero_grad()\n",
    "            outputs = net(x)\n",
    "            loss = criterion(outputs, y)\n",
    "            loss.backward()\n",
    "            optimizer.step()\n",
    "\n",
    "            running_loss += loss.item()\n",
    "            if i % print_every == print_every-1:\n",
    "                print('[%d, %5d] loss: %.6f' %\n",
    "                  (epoch + 1, i + 1, running_loss / print_every))\n",
    "                running_loss = 0.0\n",
    "\n",
    "        net.eval()\n",
    "        train_loss = get_network_loss(net, trainloader)\n",
    "        test_loss = get_network_loss(net, testloader)\n",
    "        net.train()\n",
    "\n",
    "        train_losses.append(train_loss)\n",
    "        test_losses.append(test_loss)\n",
    "\n",
    "        print('Training Loss: %.6f' % (train_loss))\n",
    "        print('Testing Loss: %.6f' % (test_loss))\n",
    "\n",
    "    return train_losses, test_losses"
   ]
  },
  {
   "cell_type": "markdown",
   "metadata": {
    "colab_type": "text",
    "id": "p_KSPtTPBcmt"
   },
   "source": [
    "## Encoder Loss"
   ]
  },
  {
   "cell_type": "code",
   "execution_count": null,
   "metadata": {
    "colab": {},
    "colab_type": "code",
    "id": "TiGkXlp6__nn"
   },
   "outputs": [],
   "source": [
    "def get_encoder_loss(autoencoder, dataloader, criterion, autoencoder1=None, autoencoder2=None):\n",
    "    agg_loss = 0.0\n",
    "    \n",
    "    for i, data in enumerate(dataloader, 0):\n",
    "        x = data\n",
    "        x = x.to(device)\n",
    "        \n",
    "        if autoencoder1:\n",
    "            x = autoencoder1.encoder(x)\n",
    "        if autoencoder2:\n",
    "            x = autoencoder2.encoder(x)\n",
    "            \n",
    "        outputs = autoencoder(x)\n",
    "        loss = criterion(outputs, x)\n",
    "        agg_loss += loss.item()\n",
    "    \n",
    "    return agg_loss / len(dataloader)"
   ]
  },
  {
   "cell_type": "markdown",
   "metadata": {
    "colab_type": "text",
    "id": "r1xZHxMtsSXh"
   },
   "source": [
    "## Train Encoder"
   ]
  },
  {
   "cell_type": "code",
   "execution_count": null,
   "metadata": {
    "colab": {},
    "colab_type": "code",
    "id": "xN7b241sI1fg"
   },
   "outputs": [],
   "source": [
    "def train_encoder(autoencoder, trainloader, testloader, n_epochs, print_every=500, autoencoder1=None, autoencoder2=None):\n",
    "    autoencoder.double()\n",
    "    autoencoder.to(device)\n",
    "    \n",
    "    optimizer = optim.Adam(autoencoder.parameters())\n",
    "    criterion = nn.MSELoss()\n",
    "    \n",
    "    train_losses = []\n",
    "    test_losses = []\n",
    "    for epoch in range(n_epochs):\n",
    "        running_loss = 0.0\n",
    "        for i, data in enumerate(trainloader, 0):\n",
    "            x = data\n",
    "            x = x.to(device)\n",
    "            \n",
    "            with torch.no_grad():\n",
    "                if autoencoder1:\n",
    "                    x = autoencoder1.encoder(x)\n",
    "                if autoencoder2:\n",
    "                    x = autoencoder2.encoder(x)\n",
    "        \n",
    "            optimizer.zero_grad()\n",
    "            outputs = autoencoder(x)\n",
    "            loss = criterion(outputs, x)\n",
    "            loss.backward()\n",
    "            optimizer.step()\n",
    "            \n",
    "            running_loss += loss.item()\n",
    "            if i % print_every == print_every-1:\n",
    "                print('[%d, %5d] loss: %.6f' %\n",
    "                  (epoch + 1, i + 1, running_loss / print_every))\n",
    "                running_loss = 0.0\n",
    "        \n",
    "        autoencoder.eval()\n",
    "        train_loss = get_encoder_loss(autoencoder, trainloader, criterion, autoencoder1=autoencoder1, autoencoder2=autoencoder2)\n",
    "        test_loss = get_encoder_loss(autoencoder, testloader, criterion, autoencoder1=autoencoder1, autoencoder2=autoencoder2)\n",
    "        autoencoder.train()\n",
    "        \n",
    "        train_losses.append(train_loss)\n",
    "        test_losses.append(test_loss)\n",
    "\n",
    "        print('Training Loss: %.6f' % (train_loss))\n",
    "        print('Testing Loss: %.6f' % (test_loss))\n",
    "                                    \n",
    "    return train_losses, test_losses"
   ]
  },
  {
   "cell_type": "markdown",
   "metadata": {
    "colab_type": "text",
    "id": "k3riTy37UvsU"
   },
   "source": [
    "## SiameseNet Loss"
   ]
  },
  {
   "cell_type": "code",
   "execution_count": null,
   "metadata": {
    "colab": {},
    "colab_type": "code",
    "id": "-OmGbK0gUzPl"
   },
   "outputs": [],
   "source": [
    "def get_siamese_net_loss(siamese_net, dataloader, val_batches):\n",
    "    agg_loss = 0.0\n",
    "    criterion = nn.CrossEntropyLoss()\n",
    "    \n",
    "    for i, data in enumerate(dataloader, 0):\n",
    "        x1, x2, y = data\n",
    "\n",
    "        x1 = x1.to(device)\n",
    "        x2 = x2.to(device)\n",
    "        y = y.to(device)\n",
    "            \n",
    "        outputs = siamese_net(x1.double(), x2.double())\n",
    "        loss = criterion(outputs, y)\n",
    "        agg_loss += loss.item()\n",
    "\n",
    "        if i == val_batches-1:\n",
    "            break\n",
    "    \n",
    "    return agg_loss / val_batches"
   ]
  },
  {
   "cell_type": "markdown",
   "metadata": {
    "colab_type": "text",
    "id": "2Rs-_ho7fWSK"
   },
   "source": [
    "## Train SiameseNet"
   ]
  },
  {
   "cell_type": "code",
   "execution_count": null,
   "metadata": {
    "colab": {},
    "colab_type": "code",
    "id": "nIhI5rnbfTdB"
   },
   "outputs": [],
   "source": [
    "def train_siamese_net(siamese_net, trainloader, testloader, n_epochs, print_every=500, val_batches=1):\n",
    "    siamese_net.double()\n",
    "    siamese_net.to(device)\n",
    "\n",
    "    optimizer = optim.Adam(siamese_net.parameters())\n",
    "    criterion = nn.CrossEntropyLoss()\n",
    "\n",
    "    train_losses = []\n",
    "    test_losses = []\n",
    "    for epoch in range(n_epochs):\n",
    "        running_loss = 0.0\n",
    "        for i, data in enumerate(trainloader):\n",
    "            x1, x2, y = data\n",
    "\n",
    "            x1 = x1.to(device)\n",
    "            x2 = x2.to(device)\n",
    "            y = y.to(device)\n",
    "\n",
    "            optimizer.zero_grad()\n",
    "            outputs = siamese_net(x1.double(), x2.double())\n",
    "            outputs = torch.squeeze(outputs)\n",
    "            loss = criterion(outputs, y)\n",
    "            loss.backward()\n",
    "            optimizer.step()\n",
    "\n",
    "            running_loss += loss.item()\n",
    "            if i % print_every == print_every-1:\n",
    "                print('[%d, %5d] loss: %.6f' %\n",
    "                  (epoch + 1, i + 1, running_loss / print_every))\n",
    "                running_loss = 0.0\n",
    "\n",
    "        siamese_net.eval()\n",
    "        train_loss = get_siamese_net_loss(siamese_net, trainloader, val_batches)\n",
    "        test_loss = get_siamese_net_loss(siamese_net, testloader, val_batches)\n",
    "        siamese_net.train()\n",
    "\n",
    "        train_losses.append(train_loss)\n",
    "        test_losses.append(test_loss)\n",
    "\n",
    "        print('Training Loss: %.6f' % (train_loss))\n",
    "        print('Testing Loss: %.6f' % (test_loss))\n",
    "\n",
    "    return train_losses, test_losses"
   ]
  },
  {
   "cell_type": "markdown",
   "metadata": {
    "colab_type": "text",
    "id": "xdM9-5hlWR_c"
   },
   "source": [
    "## Partition Dataset"
   ]
  },
  {
   "cell_type": "code",
   "execution_count": null,
   "metadata": {
    "colab": {},
    "colab_type": "code",
    "id": "xX54g8bUWIFJ"
   },
   "outputs": [],
   "source": [
    "def partition_dataset(data, labels):\n",
    "    unique_labels = np.unique(labels)\n",
    "    final_data = [None] * len(unique_labels)\n",
    "    n_samples = len(labels)\n",
    "    for i in range(n_samples):\n",
    "        curr_class = labels[i]\n",
    "        if final_data[curr_class]:\n",
    "            final_data[curr_class].append(data[i])\n",
    "        else:\n",
    "            final_data[curr_class] = [data[i]]\n",
    "\n",
    "    return list(map(lambda x: np.asarray(x), final_data))"
   ]
  },
  {
   "cell_type": "markdown",
   "metadata": {
    "colab_type": "text",
    "id": "RQ4g7cRFsUeQ"
   },
   "source": [
    "## Plotting Losses"
   ]
  },
  {
   "cell_type": "code",
   "execution_count": null,
   "metadata": {
    "colab": {},
    "colab_type": "code",
    "id": "JnPg2CHGTaac"
   },
   "outputs": [],
   "source": [
    "def plot_losses(train_losses, test_losses, title, xlabel, ylabel, start_idx=1, interval_length=1, figure_size=(14,14)):\n",
    "    train_losses_aggregated = []\n",
    "    test_losses_aggregated = []\n",
    "    n_epochs = len(train_losses)\n",
    "\n",
    "    start_idx -= 1\n",
    "    \n",
    "    i = start_idx\n",
    "    while i < n_epochs:\n",
    "        curr_train_sum = sum(train_losses[i : min(n_epochs, i + interval_length)])\n",
    "        curr_test_sum = sum(test_losses[i : min(n_epochs, i + interval_length)])\n",
    "        \n",
    "        train_losses_aggregated.append(curr_train_sum / interval_length)\n",
    "        test_losses_aggregated.append(curr_test_sum / interval_length)\n",
    "        \n",
    "        i += interval_length\n",
    "        \n",
    "    n = len(train_losses_aggregated)\n",
    "    x = list(map(lambda x: (x * interval_length) + start_idx, np.arange(1, n+1)))\n",
    "    \n",
    "    plt.figure(figsize=figure_size)\n",
    "    plt.plot(x, train_losses_aggregated, marker='o', linestyle='dashed')\n",
    "    plt.plot(x, test_losses_aggregated, marker='o', linestyle='dashed')\n",
    "    plt.legend(['Training Loss', 'Testing Loss'])\n",
    "    plt.xlabel(xlabel)\n",
    "    plt.ylabel(ylabel)\n",
    "    plt.title(title)\n",
    "    plt.grid()\n",
    "    plt.xticks(x)\n",
    "    \n",
    "    plt.savefig(title + '.png')\n",
    "    plt.show()"
   ]
  },
  {
   "cell_type": "markdown",
   "metadata": {
    "colab_type": "text",
    "id": "ogZ3HJRWU-_g"
   },
   "source": [
    "## Saving and Loading Models"
   ]
  },
  {
   "cell_type": "code",
   "execution_count": null,
   "metadata": {
    "colab": {},
    "colab_type": "code",
    "id": "qBLWseuVVQ32"
   },
   "outputs": [],
   "source": [
    "def save_state_dict(model, filename):\n",
    "    torch.save(model.state_dict(), filename)"
   ]
  },
  {
   "cell_type": "code",
   "execution_count": null,
   "metadata": {
    "colab": {},
    "colab_type": "code",
    "id": "02phZlb9VB2V"
   },
   "outputs": [],
   "source": [
    "def load_state_dict(model, state_dict_path):\n",
    "    state_dict = torch.load(state_dict_path)\n",
    "    model.load_state_dict(state_dict)\n",
    "    model.double()\n",
    "    model.to(device)"
   ]
  },
  {
   "cell_type": "markdown",
   "metadata": {
    "colab_type": "text",
    "id": "Vvgbqne0GjZf"
   },
   "source": [
    "# Training"
   ]
  },
  {
   "cell_type": "markdown",
   "metadata": {
    "colab_type": "text",
    "id": "n9hzrdFAGlYi"
   },
   "source": [
    "## Autoencoders"
   ]
  },
  {
   "cell_type": "markdown",
   "metadata": {
    "colab_type": "text",
    "id": "oxmLo9uJy2s3"
   },
   "source": [
    "### Label Encoding"
   ]
  },
  {
   "cell_type": "markdown",
   "metadata": {
    "colab_type": "text",
    "id": "x87WWpOVsnLn"
   },
   "source": [
    "#### Autoencoder 1"
   ]
  },
  {
   "cell_type": "code",
   "execution_count": null,
   "metadata": {
    "colab": {
     "base_uri": "https://localhost:8080/",
     "height": 197
    },
    "colab_type": "code",
    "executionInfo": {
     "elapsed": 1680,
     "status": "ok",
     "timestamp": 1576216547532,
     "user": {
      "displayName": "Raghuvansh Raj",
      "photoUrl": "",
      "userId": "11591486281518120801"
     },
     "user_tz": -330
    },
    "id": "0d3HkUGCHXCI",
    "outputId": "24708506-9e12-4016-d2c8-4edcf9fc8954"
   },
   "outputs": [],
   "source": [
    "autoencoder_label_1 = Autoencoder(in_features=40, out_features=20)\n",
    "print(autoencoder_label_1)"
   ]
  },
  {
   "cell_type": "code",
   "execution_count": null,
   "metadata": {
    "colab": {
     "base_uri": "https://localhost:8080/",
     "height": 1000
    },
    "colab_type": "code",
    "executionInfo": {
     "elapsed": 186732,
     "status": "ok",
     "timestamp": 1576216732854,
     "user": {
      "displayName": "Raghuvansh Raj",
      "photoUrl": "",
      "userId": "11591486281518120801"
     },
     "user_tz": -330
    },
    "id": "sOBBmLdFMhv3",
    "outputId": "50f8078b-15af-4119-c184-d8c7fd32ab5b"
   },
   "outputs": [],
   "source": [
    "train_losses_encoder_label_1, test_losses_encoder_label_1 = train_encoder(\n",
    "    autoencoder_label_1, \n",
    "    trainloader=train_label_loader, \n",
    "    testloader=test_label_loader,\n",
    "    n_epochs=30\n",
    ")"
   ]
  },
  {
   "cell_type": "code",
   "execution_count": null,
   "metadata": {
    "colab": {
     "base_uri": "https://localhost:8080/",
     "height": 513
    },
    "colab_type": "code",
    "executionInfo": {
     "elapsed": 2128,
     "status": "ok",
     "timestamp": 1576217119845,
     "user": {
      "displayName": "Raghuvansh Raj",
      "photoUrl": "",
      "userId": "11591486281518120801"
     },
     "user_tz": -330
    },
    "id": "aGNQtKQojMGj",
    "outputId": "f123910b-8410-4e70-87a1-190302691a15"
   },
   "outputs": [],
   "source": [
    "plot_losses(\n",
    "    train_losses_encoder_label_1, \n",
    "    test_losses_encoder_label_1,\n",
    "    # start_idx=11, \n",
    "    title='autoencoder_label_1', \n",
    "    xlabel='Epochs', \n",
    "    ylabel='Losses', \n",
    "    interval_length=1, \n",
    "    figure_size=(14,8)\n",
    ")"
   ]
  },
  {
   "cell_type": "code",
   "execution_count": null,
   "metadata": {
    "colab": {},
    "colab_type": "code",
    "id": "6zFsD3iX6w_s"
   },
   "outputs": [],
   "source": [
    "save_state_dict(autoencoder_label_1, 'autoencoder_label_1.pth')"
   ]
  },
  {
   "cell_type": "markdown",
   "metadata": {
    "colab_type": "text",
    "id": "utSKgJSUsqA1"
   },
   "source": [
    "#### Autoencoder 2"
   ]
  },
  {
   "cell_type": "code",
   "execution_count": null,
   "metadata": {
    "colab": {
     "base_uri": "https://localhost:8080/",
     "height": 197
    },
    "colab_type": "code",
    "executionInfo": {
     "elapsed": 1329,
     "status": "ok",
     "timestamp": 1576216896431,
     "user": {
      "displayName": "Raghuvansh Raj",
      "photoUrl": "",
      "userId": "11591486281518120801"
     },
     "user_tz": -330
    },
    "id": "HQrzMUCTjUAI",
    "outputId": "d4e533fb-ee94-41ae-aafc-31dcbe8fa328"
   },
   "outputs": [],
   "source": [
    "autoencoder_label_2 = Autoencoder(in_features=20, out_features=10)\n",
    "print(autoencoder_label_2)"
   ]
  },
  {
   "cell_type": "code",
   "execution_count": null,
   "metadata": {
    "colab": {
     "base_uri": "https://localhost:8080/",
     "height": 1000
    },
    "colab_type": "code",
    "executionInfo": {
     "elapsed": 201235,
     "status": "ok",
     "timestamp": 1576217117695,
     "user": {
      "displayName": "Raghuvansh Raj",
      "photoUrl": "",
      "userId": "11591486281518120801"
     },
     "user_tz": -330
    },
    "id": "7aKT9coHszo8",
    "outputId": "dd6fb189-ed09-4d8f-9c54-97da2052064f"
   },
   "outputs": [],
   "source": [
    "train_losses_encoder_label_2, test_losses_encoder_label_2 = train_encoder(\n",
    "    autoencoder_label_2,\n",
    "    autoencoder1=autoencoder_label_1,\n",
    "    trainloader=train_label_loader, \n",
    "    testloader=test_label_loader,\n",
    "    n_epochs=30\n",
    ")"
   ]
  },
  {
   "cell_type": "code",
   "execution_count": null,
   "metadata": {
    "colab": {
     "base_uri": "https://localhost:8080/",
     "height": 513
    },
    "colab_type": "code",
    "executionInfo": {
     "elapsed": 3549,
     "status": "ok",
     "timestamp": 1576217233401,
     "user": {
      "displayName": "Raghuvansh Raj",
      "photoUrl": "",
      "userId": "11591486281518120801"
     },
     "user_tz": -330
    },
    "id": "hVg-hPhRs6SC",
    "outputId": "fec25cdb-2954-43c8-d598-9c55a2f0f9c4"
   },
   "outputs": [],
   "source": [
    "plot_losses(\n",
    "    train_losses_encoder_label_2, \n",
    "    test_losses_encoder_label_2,\n",
    "    # start_idx=11,\n",
    "    title='autoencoder_label_2', \n",
    "    xlabel='Epochs', \n",
    "    ylabel='Losses', \n",
    "    interval_length=1, \n",
    "    figure_size=(14,8)\n",
    ")"
   ]
  },
  {
   "cell_type": "code",
   "execution_count": null,
   "metadata": {
    "colab": {},
    "colab_type": "code",
    "id": "T3lMRxnn6spA"
   },
   "outputs": [],
   "source": [
    "save_state_dict(autoencoder_label_2, 'autoencoder_label_2.pth')"
   ]
  },
  {
   "cell_type": "markdown",
   "metadata": {
    "colab_type": "text",
    "id": "00RwNV1s60Z0"
   },
   "source": [
    "## Networks"
   ]
  },
  {
   "cell_type": "code",
   "execution_count": null,
   "metadata": {
    "colab": {},
    "colab_type": "code",
    "id": "yMcQ6XRdc7YK"
   },
   "outputs": [],
   "source": [
    "LOAD_DIR = '/content/drive/My Drive/Colab Notebooks/Intrusion Detection/saved_models'"
   ]
  },
  {
   "cell_type": "markdown",
   "metadata": {
    "colab_type": "text",
    "id": "jh8qkLpw68FE"
   },
   "source": [
    "### Loading Autoencoder 1"
   ]
  },
  {
   "cell_type": "code",
   "execution_count": null,
   "metadata": {
    "colab": {},
    "colab_type": "code",
    "id": "-ZpQsL7w62dP"
   },
   "outputs": [],
   "source": [
    "autoencoder_label_1 = Autoencoder(in_features=40, out_features=20)\n",
    "load_state_dict(autoencoder_label_1, os.path.join(LOAD_DIR, 'autoencoder_label_1.pth'))"
   ]
  },
  {
   "cell_type": "markdown",
   "metadata": {
    "colab_type": "text",
    "id": "2qm_2wayrq5p"
   },
   "source": [
    "### Loading Autoencoder 2"
   ]
  },
  {
   "cell_type": "code",
   "execution_count": null,
   "metadata": {
    "colab": {},
    "colab_type": "code",
    "id": "J7h7fRvwrukm"
   },
   "outputs": [],
   "source": [
    "autoencoder_label_2 = Autoencoder(in_features=20, out_features=10)\n",
    "load_state_dict(autoencoder_label_2, os.path.join(LOAD_DIR, 'autoencoder_label_2.pth'))"
   ]
  },
  {
   "cell_type": "markdown",
   "metadata": {
    "colab_type": "text",
    "id": "jzzDAWR6i6xK"
   },
   "source": [
    "### AnomalyDetector"
   ]
  },
  {
   "cell_type": "code",
   "execution_count": null,
   "metadata": {
    "colab": {
     "base_uri": "https://localhost:8080/",
     "height": 413
    },
    "colab_type": "code",
    "executionInfo": {
     "elapsed": 936,
     "status": "ok",
     "timestamp": 1577271741818,
     "user": {
      "displayName": "Raghuvansh Raj",
      "photoUrl": "",
      "userId": "11591486281518120801"
     },
     "user_tz": -330
    },
    "id": "T0Ci5URJi_xG",
    "outputId": "31289ab9-5bf2-434c-e8bf-630f6e6e0189"
   },
   "outputs": [],
   "source": [
    "anomaly_detector = AnomalyDetector()\n",
    "\n",
    "print(anomaly_detector)"
   ]
  },
  {
   "cell_type": "code",
   "execution_count": null,
   "metadata": {
    "colab": {
     "base_uri": "https://localhost:8080/",
     "height": 1000
    },
    "colab_type": "code",
    "executionInfo": {
     "elapsed": 54651,
     "status": "error",
     "timestamp": 1577271817267,
     "user": {
      "displayName": "Raghuvansh Raj",
      "photoUrl": "",
      "userId": "11591486281518120801"
     },
     "user_tz": -330
    },
    "id": "LfUTdH2OjJC6",
    "outputId": "e53ba6fd-aece-454a-ba65-df92d35d6eeb"
   },
   "outputs": [],
   "source": [
    "train_losses_anomaly_detector, test_losses_anomaly_detector = train_network(\n",
    "    anomaly_detector,\n",
    "    trainloader=train_binary_dl, \n",
    "    testloader=test_binary_dl,\n",
    "    n_epochs=50,\n",
    "    print_every=100\n",
    ")"
   ]
  },
  {
   "cell_type": "code",
   "execution_count": null,
   "metadata": {
    "colab": {
     "base_uri": "https://localhost:8080/",
     "height": 513
    },
    "colab_type": "code",
    "executionInfo": {
     "elapsed": 2612,
     "status": "ok",
     "timestamp": 1576225288521,
     "user": {
      "displayName": "Raghuvansh Raj",
      "photoUrl": "",
      "userId": "11591486281518120801"
     },
     "user_tz": -330
    },
    "id": "k96mSn3dmwSS",
    "outputId": "fc4400e2-6ae2-4743-81f5-193e4fae6158"
   },
   "outputs": [],
   "source": [
    "plot_losses(\n",
    "    train_losses_network_label, \n",
    "    test_losses_network_label,\n",
    "    # start_idx=37,\n",
    "    title='network_label_double_encoder',\n",
    "    xlabel='Epochs', \n",
    "    ylabel='Losses', \n",
    "    interval_length=1, \n",
    "    figure_size=(14,8))"
   ]
  },
  {
   "cell_type": "markdown",
   "metadata": {
    "colab_type": "text",
    "id": "swUBCJ42aErk"
   },
   "source": [
    "## Data Distributions"
   ]
  },
  {
   "cell_type": "markdown",
   "metadata": {
    "colab_type": "text",
    "id": "jJISKALjbBP-"
   },
   "source": [
    "### PCA"
   ]
  },
  {
   "cell_type": "code",
   "execution_count": null,
   "metadata": {
    "colab": {
     "base_uri": "https://localhost:8080/",
     "height": 53
    },
    "colab_type": "code",
    "executionInfo": {
     "elapsed": 1945,
     "status": "ok",
     "timestamp": 1577272222553,
     "user": {
      "displayName": "Raghuvansh Raj",
      "photoUrl": "",
      "userId": "11591486281518120801"
     },
     "user_tz": -330
    },
    "id": "EN7e9yPObAF-",
    "outputId": "0732e23b-95f2-415e-9e0c-2e7078e18d24"
   },
   "outputs": [],
   "source": [
    "pca = PCA(n_components=3)\n",
    "pca.fit(train_features_np)"
   ]
  },
  {
   "cell_type": "code",
   "execution_count": null,
   "metadata": {
    "colab": {},
    "colab_type": "code",
    "id": "ISWtX5nOjyL0"
   },
   "outputs": [],
   "source": [
    "train_features_3dims = pca.transform(train_features_np)\n",
    "test_features_3dims = pca.transform(test_features_np)"
   ]
  },
  {
   "cell_type": "markdown",
   "metadata": {
    "colab_type": "text",
    "id": "yy2A6hoe2wND"
   },
   "source": [
    "### Groups"
   ]
  },
  {
   "cell_type": "code",
   "execution_count": null,
   "metadata": {
    "colab": {},
    "colab_type": "code",
    "id": "eIOlwgr1VChY"
   },
   "outputs": [],
   "source": [
    "groups_multiclass = [\n",
    "    'Normal',\n",
    "    'DoS',\n",
    "    'Probe',\n",
    "    'R2L',\n",
    "    'U2R'\n",
    "]\n",
    "\n",
    "groups_binary = [\n",
    "    'Normal',\n",
    "    'Malicious'\n",
    "]\n",
    "\n",
    "groups_malicious_classes = [\n",
    "    'DoS',\n",
    "    'Probe',\n",
    "    'R2L',\n",
    "    'U2R'\n",
    "]"
   ]
  },
  {
   "cell_type": "markdown",
   "metadata": {
    "colab_type": "text",
    "id": "STGzLidwYt0r"
   },
   "source": [
    "### Plot Points"
   ]
  },
  {
   "cell_type": "code",
   "execution_count": null,
   "metadata": {
    "colab": {},
    "colab_type": "code",
    "id": "gA30x_WKbjtG"
   },
   "outputs": [],
   "source": [
    "def plot_points(\n",
    "        features,\n",
    "        labels,\n",
    "        title, \n",
    "        groups,\n",
    "        class_idx=None,\n",
    "        one_hot_labels=True, \n",
    "        figure_size=(8,8)\n",
    "    ):\n",
    "\n",
    "    fig = plt.figure(figsize=figure_size)\n",
    "    ax = fig.add_subplot(111, projection='3d')\n",
    "\n",
    "    if one_hot_labels:\n",
    "        labels_indices = np.asarray(list(map(lambda x: np.argmax(x), labels)))\n",
    "    else:\n",
    "        labels_indices = labels\n",
    "\n",
    "    data = []\n",
    "    if class_idx:\n",
    "        i = class_idx\n",
    "        curr_data_indices = np.where(labels_indices == i)[0]\n",
    "        curr_data = features[curr_data_indices]\n",
    "        data.append(curr_data)\n",
    "    else:\n",
    "        for i in range(len(groups)):\n",
    "            curr_data_indices = np.where(labels_indices == i)[0]\n",
    "            curr_data = features[curr_data_indices]\n",
    "            data.append(curr_data)\n",
    "\n",
    "    all_colors = (\n",
    "        'grey',\n",
    "        'orange',\n",
    "        'cyan',\n",
    "        'green',\n",
    "        'maroon',\n",
    "        'chocolate',\n",
    "        'lightgreen',\n",
    "        'dodgerblue',\n",
    "        'darkslategray',\n",
    "        'lightseagreen',\n",
    "        'mediumspringgreen',\n",
    "        'rebeccapurple',\n",
    "        'hotpink',\n",
    "        'indigo',\n",
    "        'midnightblue',\n",
    "        'gold',\n",
    "        'black',\n",
    "        'crimson',\n",
    "        'darkkhaki',\n",
    "        'aqua'\n",
    "    )\n",
    "\n",
    "    colors = sample(all_colors, len(groups))\n",
    "\n",
    "    for features, color, group in zip(data, colors, groups):\n",
    "        x = list(map(lambda x: x[0], features))\n",
    "        y = list(map(lambda x: x[1], features))\n",
    "        z = list(map(lambda x: x[2], features))\n",
    "        ax.scatter(\n",
    "            x, y, z,\n",
    "            c=color,\n",
    "            label=group,\n",
    "        )\n",
    "\n",
    "    plt.legend()\n",
    "    plt.title(\n",
    "        title,\n",
    "        fontsize=15,\n",
    "        loc='left'\n",
    "    )\n",
    "\n",
    "    plt.savefig(title + '.png')"
   ]
  },
  {
   "cell_type": "markdown",
   "metadata": {
    "colab_type": "text",
    "id": "NyCeSoD_aaUR"
   },
   "source": [
    "### Training Data Plots"
   ]
  },
  {
   "cell_type": "markdown",
   "metadata": {
    "colab_type": "text",
    "id": "4JsPkC93Y6VX"
   },
   "source": [
    "#### Binary Class Distribution"
   ]
  },
  {
   "cell_type": "code",
   "execution_count": null,
   "metadata": {
    "colab": {
     "base_uri": "https://localhost:8080/",
     "height": 809
    },
    "colab_type": "code",
    "executionInfo": {
     "elapsed": 10642,
     "status": "ok",
     "timestamp": 1577269129019,
     "user": {
      "displayName": "Raghuvansh Raj",
      "photoUrl": "",
      "userId": "11591486281518120801"
     },
     "user_tz": -330
    },
    "id": "_YVMutiW3uBA",
    "outputId": "39d25c18-8c01-4b1b-96ee-1a889fa9ab64"
   },
   "outputs": [],
   "source": [
    "plot_points(\n",
    "    train_features_3dims,\n",
    "    train_labels_binary_np,\n",
    "    groups=groups_binary,\n",
    "    title='Binary Class Distribution',\n",
    "    figure_size=(14,14)\n",
    ")"
   ]
  },
  {
   "cell_type": "markdown",
   "metadata": {
    "colab_type": "text",
    "id": "-12qcdJ0aWH7"
   },
   "source": [
    "#### Multi Class Distribution"
   ]
  },
  {
   "cell_type": "code",
   "execution_count": null,
   "metadata": {
    "colab": {
     "base_uri": "https://localhost:8080/",
     "height": 809
    },
    "colab_type": "code",
    "executionInfo": {
     "elapsed": 19085,
     "status": "ok",
     "timestamp": 1577269137798,
     "user": {
      "displayName": "Raghuvansh Raj",
      "photoUrl": "",
      "userId": "11591486281518120801"
     },
     "user_tz": -330
    },
    "id": "dzoEVRLeZZ7o",
    "outputId": "c923c811-b954-4e57-f71f-aab8ed2e1af3"
   },
   "outputs": [],
   "source": [
    "plot_points(\n",
    "    train_features_3dims,\n",
    "    train_labels_multiclass_np,\n",
    "    groups=groups_multiclass,\n",
    "    title='Multi Class Distribution',\n",
    "    figure_size=(14,14)\n",
    ")"
   ]
  },
  {
   "cell_type": "markdown",
   "metadata": {
    "colab_type": "text",
    "id": "4R6_PCcpcE_z"
   },
   "source": [
    "#### Malicious Data Point Distributions"
   ]
  },
  {
   "cell_type": "markdown",
   "metadata": {
    "colab_type": "text",
    "id": "4UFRWo9PcL46"
   },
   "source": [
    "##### DoS"
   ]
  },
  {
   "cell_type": "code",
   "execution_count": null,
   "metadata": {
    "colab": {
     "base_uri": "https://localhost:8080/",
     "height": 809
    },
    "colab_type": "code",
    "executionInfo": {
     "elapsed": 21691,
     "status": "ok",
     "timestamp": 1577269141384,
     "user": {
      "displayName": "Raghuvansh Raj",
      "photoUrl": "",
      "userId": "11591486281518120801"
     },
     "user_tz": -330
    },
    "id": "_QWbPHwgcXa6",
    "outputId": "485dbac4-635c-4ac9-ddf9-cb1bddc98f8c"
   },
   "outputs": [],
   "source": [
    "plot_points(\n",
    "    train_features_3dims,\n",
    "    train_labels_multiclass_np,\n",
    "    class_idx=1,\n",
    "    groups=['DoS'],\n",
    "    title='DoS',\n",
    "    figure_size=(14,14)\n",
    ")"
   ]
  },
  {
   "cell_type": "markdown",
   "metadata": {
    "colab_type": "text",
    "id": "IbxEAxZncKIE"
   },
   "source": [
    "##### Probe"
   ]
  },
  {
   "cell_type": "code",
   "execution_count": null,
   "metadata": {
    "colab": {
     "base_uri": "https://localhost:8080/",
     "height": 809
    },
    "colab_type": "code",
    "executionInfo": {
     "elapsed": 22564,
     "status": "ok",
     "timestamp": 1577269142651,
     "user": {
      "displayName": "Raghuvansh Raj",
      "photoUrl": "",
      "userId": "11591486281518120801"
     },
     "user_tz": -330
    },
    "id": "yUJHhyOsfZci",
    "outputId": "87c869d1-9c73-405c-89fd-dcb9fbb05f6a"
   },
   "outputs": [],
   "source": [
    "plot_points(\n",
    "    train_features_3dims,\n",
    "    train_labels_multiclass_np,\n",
    "    class_idx=2,\n",
    "    groups=['Probe'],\n",
    "    title='Probe',\n",
    "    figure_size=(14,14)\n",
    ")"
   ]
  },
  {
   "cell_type": "markdown",
   "metadata": {
    "colab_type": "text",
    "id": "gz0nb3eCcSHo"
   },
   "source": [
    "##### R2L"
   ]
  },
  {
   "cell_type": "code",
   "execution_count": null,
   "metadata": {
    "colab": {
     "base_uri": "https://localhost:8080/",
     "height": 809
    },
    "colab_type": "code",
    "executionInfo": {
     "elapsed": 23308,
     "status": "ok",
     "timestamp": 1577269143737,
     "user": {
      "displayName": "Raghuvansh Raj",
      "photoUrl": "",
      "userId": "11591486281518120801"
     },
     "user_tz": -330
    },
    "id": "33wIkzqwfgyW",
    "outputId": "3ec989c0-f868-4a19-8512-f3b960e9d067"
   },
   "outputs": [],
   "source": [
    "plot_points(\n",
    "    train_features_3dims,\n",
    "    train_labels_multiclass_np,\n",
    "    class_idx=3,\n",
    "    groups=['R2L'],\n",
    "    title='R2L',\n",
    "    figure_size=(14,14)\n",
    ")"
   ]
  },
  {
   "cell_type": "markdown",
   "metadata": {
    "colab_type": "text",
    "id": "qA1yDqRccUyW"
   },
   "source": [
    "##### U2R"
   ]
  },
  {
   "cell_type": "code",
   "execution_count": null,
   "metadata": {
    "colab": {
     "base_uri": "https://localhost:8080/",
     "height": 809
    },
    "colab_type": "code",
    "executionInfo": {
     "elapsed": 24036,
     "status": "ok",
     "timestamp": 1577269144815,
     "user": {
      "displayName": "Raghuvansh Raj",
      "photoUrl": "",
      "userId": "11591486281518120801"
     },
     "user_tz": -330
    },
    "id": "iSCT83Z_ZsLo",
    "outputId": "603f0df7-c143-4a22-8b91-eded04b8409b"
   },
   "outputs": [],
   "source": [
    "plot_points(\n",
    "    train_features_3dims,\n",
    "    train_labels_multiclass_np,\n",
    "    class_idx=4,\n",
    "    groups=['U2R'],\n",
    "    title='U2R',\n",
    "    figure_size=(14,14)\n",
    ")"
   ]
  },
  {
   "cell_type": "markdown",
   "metadata": {
    "colab_type": "text",
    "id": "X8wGYRI-h2IB"
   },
   "source": [
    "## Anomaly Detection"
   ]
  },
  {
   "cell_type": "markdown",
   "metadata": {
    "colab_type": "text",
    "id": "lW25nG9vo15C"
   },
   "source": [
    "### Utilities"
   ]
  },
  {
   "cell_type": "markdown",
   "metadata": {
    "colab_type": "text",
    "id": "OfbNXf3uo6GL"
   },
   "source": [
    "#### Plot Confusion Matrix"
   ]
  },
  {
   "cell_type": "code",
   "execution_count": null,
   "metadata": {
    "colab": {},
    "colab_type": "code",
    "id": "G3FCqHQqo4tP"
   },
   "outputs": [],
   "source": [
    "def plot_confusion_matrix(\n",
    "        cm, classes,\n",
    "        normalize=False,\n",
    "        title='Confusion Matrix',\n",
    "        cmap=plt.cm.Blues,\n",
    "        print_cm=False,\n",
    "        save=False\n",
    "    ):\n",
    "    \"\"\"\n",
    "    This function prints and plots the confusion matrix.\n",
    "    Normalization can be applied by setting `normalize=True`.\n",
    "    \"\"\"\n",
    "    \n",
    "    import matplotlib.pyplot as plt\n",
    "    import numpy as np\n",
    "    import itertools\n",
    "\n",
    "    if normalize:\n",
    "        cm = cm.astype('float') / cm.sum(axis=1)[:, np.newaxis]\n",
    "        print(\"Normalized confusion matrix\")\n",
    "    else:\n",
    "        print('Confusion matrix, without normalization')\n",
    "    \n",
    "    if print_cm:\n",
    "        print(cm)\n",
    "    \n",
    "    plt.imshow(cm, interpolation='nearest', cmap=cmap)\n",
    "    # plt.title(title)\n",
    "    plt.colorbar()\n",
    "    tick_marks = np.arange(len(classes))\n",
    "    plt.xticks(tick_marks, classes, rotation=45)\n",
    "    plt.yticks(tick_marks, classes)\n",
    "\n",
    "    fmt = '.2f' if normalize else 'd'\n",
    "    thresh = cm.max() / 2.\n",
    "    for i, j in itertools.product(range(cm.shape[0]), range(cm.shape[1])):\n",
    "        plt.text(j, i, format(cm[i, j], fmt),\n",
    "                 horizontalalignment=\"center\",\n",
    "                 color=\"white\" if cm[i, j] > thresh else \"black\")\n",
    "\n",
    "    plt.ylabel('True')\n",
    "    plt.xlabel('Predicted')\n",
    "    # plt.xticks([])\n",
    "    # plt.yticks([])\n",
    "    plt.grid(False)\n",
    "\n",
    "    if save:\n",
    "        plt.savefig(title + '.png')"
   ]
  },
  {
   "cell_type": "markdown",
   "metadata": {
    "colab_type": "text",
    "id": "y1kZjihZpAUe"
   },
   "source": [
    "#### One Hot to Label Encoding"
   ]
  },
  {
   "cell_type": "code",
   "execution_count": null,
   "metadata": {
    "colab": {},
    "colab_type": "code",
    "id": "c35-ZBhvpD2z"
   },
   "outputs": [],
   "source": [
    "def to_label(arr):\n",
    "    return np.argmax(arr, axis=1)"
   ]
  },
  {
   "cell_type": "markdown",
   "metadata": {
    "colab_type": "text",
    "id": "uL4_xyfopJCd"
   },
   "source": [
    "#### Get Predictions"
   ]
  },
  {
   "cell_type": "code",
   "execution_count": null,
   "metadata": {
    "colab": {},
    "colab_type": "code",
    "id": "Z3nyN3EypNbY"
   },
   "outputs": [],
   "source": [
    "def get_predictions(estimator, features, labels):\n",
    "    return to_label(labels), estimator.predict(features), estimator.predict_proba(features)"
   ]
  },
  {
   "cell_type": "markdown",
   "metadata": {
    "colab_type": "text",
    "id": "LRjQNm8-VVAu"
   },
   "source": [
    "#### Get Scores"
   ]
  },
  {
   "cell_type": "code",
   "execution_count": null,
   "metadata": {
    "colab": {},
    "colab_type": "code",
    "id": "W3Wz1RwRVWxE"
   },
   "outputs": [],
   "source": [
    "def get_scores(y_true, y_pred):\n",
    "    accuracy = accuracy_score(y_true, y_pred)\n",
    "    precision = precision_score(y_true, y_pred)\n",
    "    recall = recall_score(y_true, y_pred)\n",
    "    f1 = f1_score(y_true, y_pred)\n",
    "\n",
    "    return {\n",
    "        'accuracy': accuracy,\n",
    "        'precision': precision,\n",
    "        'recall': recall,\n",
    "        'f1': f1\n",
    "    }"
   ]
  },
  {
   "cell_type": "markdown",
   "metadata": {
    "colab_type": "text",
    "id": "BVoJgqwcbF5C"
   },
   "source": [
    "#### Get Adjusted Classes"
   ]
  },
  {
   "cell_type": "code",
   "execution_count": null,
   "metadata": {
    "colab": {},
    "colab_type": "code",
    "id": "HSU-Ijn4bEOX"
   },
   "outputs": [],
   "source": [
    "def get_adjusted_classes(y_probs, thresh=0.5):\n",
    "    return [int(y_prob >= thresh) for y_prob in y_probs]"
   ]
  },
  {
   "cell_type": "markdown",
   "metadata": {
    "colab_type": "text",
    "id": "KxSeQfbpbt2x"
   },
   "source": [
    "#### Plot ROC Curve"
   ]
  },
  {
   "cell_type": "code",
   "execution_count": null,
   "metadata": {
    "colab": {},
    "colab_type": "code",
    "id": "fRhjnodLbv1U"
   },
   "outputs": [],
   "source": [
    "def plot_roc_curve(fpr, tpr, title, label=None, figure_size=(8,8)):\n",
    "    \"\"\"\n",
    "    The ROC curve, modified from \n",
    "    Hands-On Machine learning with Scikit-Learn and TensorFlow; p.91\n",
    "    \"\"\"\n",
    "    plt.figure(figsize=figure_size)\n",
    "    plt.title('ROC Curve')\n",
    "    plt.plot(fpr, tpr, linewidth=2, label=label)\n",
    "    plt.plot([0, 1], [0, 1], 'k--')\n",
    "    plt.axis([-0.005, 1, 0, 1.005])\n",
    "    plt.xticks(np.arange(0,1, 0.05), rotation=90)\n",
    "    plt.xlabel(\"False Positive Rate\")\n",
    "    plt.ylabel(\"True Positive Rate (Recall)\")\n",
    "    plt.legend(loc='best')\n",
    "\n",
    "    plt.savefig(title + '.png')"
   ]
  },
  {
   "cell_type": "markdown",
   "metadata": {
    "colab_type": "text",
    "id": "1ARs6OcxbwOv"
   },
   "source": [
    "#### Plot Precision Vs Recall"
   ]
  },
  {
   "cell_type": "code",
   "execution_count": null,
   "metadata": {
    "colab": {},
    "colab_type": "code",
    "id": "ysdt8-RSbzxy"
   },
   "outputs": [],
   "source": [
    "def plot_precision_recall_curve(p, r, y_scores, y_test, thresholds, title, t=0.5, figure_size=(8,8)):\n",
    "    \"\"\"\n",
    "    Plots the precision recall curve and shows the current value for each\n",
    "    by identifying the classifier's threshold (t).\n",
    "    \"\"\"\n",
    "    \n",
    "    # generate new class predictions based on the adjusted_classes\n",
    "    # function above and view the resulting confusion matrix.\n",
    "    y_pred_adj = get_adjusted_classes(y_scores, t)\n",
    "        \n",
    "    # plot the curve\n",
    "    plt.figure(figsize=figure_size)\n",
    "    plt.title(title)\n",
    "    plt.step(r, p, color='b', alpha=0.2,\n",
    "             where='post')\n",
    "    plt.fill_between(r, p, step='post', alpha=0.2,\n",
    "                     color='b')\n",
    "    plt.ylim([0.5, 1.01]);\n",
    "    plt.xlim([0.5, 1.01]);\n",
    "    plt.xlabel('Recall');\n",
    "    plt.ylabel('Precision');\n",
    "    \n",
    "    # plot the current threshold on the line\n",
    "    close_default_clf = np.argmin(np.abs(thresholds - t))\n",
    "    plt.plot(r[close_default_clf] - 0.01, p[close_default_clf], '.', c='k',\n",
    "            markersize=15)\n",
    "    plt.text(r[close_default_clf], p[close_default_clf], 'Current Threshold')\n",
    "\n",
    "    plt.savefig(title + '.png')"
   ]
  },
  {
   "cell_type": "markdown",
   "metadata": {
    "colab_type": "text",
    "id": "OGMWKeV-b0K5"
   },
   "source": [
    "#### Plot Precision and Recall Vs Threshold"
   ]
  },
  {
   "cell_type": "code",
   "execution_count": null,
   "metadata": {
    "colab": {},
    "colab_type": "code",
    "id": "YkbiuoEQb5fv"
   },
   "outputs": [],
   "source": [
    "def plot_precision_recall_vs_threshold(precisions, recalls, thresholds, title, figure_size=(8,8)):\n",
    "    \"\"\"\n",
    "    Modified from:\n",
    "    Hands-On Machine learning with Scikit-Learn\n",
    "    and TensorFlow; p.89\n",
    "    \"\"\"\n",
    "    idx = np.argmin(abs(precisions - recalls))\n",
    "    plt.figure(figsize=figure_size)\n",
    "    plt.title(title)\n",
    "    plt.plot(thresholds, precisions[:-1], \"k--\", label=\"Precision\")\n",
    "    plt.plot(thresholds, recalls[:-1], \"k-\", label=\"Recall\")\n",
    "    plt.plot(thresholds[idx], precisions[idx], 'ro')\n",
    "    plt.text(thresholds[idx] + 0.01, precisions[idx], f'Threshold = {thresholds[idx]}')\n",
    "    plt.ylabel(\"Score\")\n",
    "    plt.xlabel(\"Decision Threshold\")\n",
    "    plt.legend(loc='best')\n",
    "    \n",
    "    plt.savefig(title + '.png')\n",
    "\n",
    "    return thresholds[idx]"
   ]
  },
  {
   "cell_type": "markdown",
   "metadata": {
    "colab_type": "text",
    "id": "WnXkW8UsixcO"
   },
   "source": [
    "### Clustering Normal Points"
   ]
  },
  {
   "cell_type": "code",
   "execution_count": null,
   "metadata": {
    "colab": {
     "base_uri": "https://localhost:8080/",
     "height": 809
    },
    "colab_type": "code",
    "executionInfo": {
     "elapsed": 28691,
     "status": "ok",
     "timestamp": 1577269150055,
     "user": {
      "displayName": "Raghuvansh Raj",
      "photoUrl": "",
      "userId": "11591486281518120801"
     },
     "user_tz": -330
    },
    "id": "qwbYh5MpivjS",
    "outputId": "28aa10a8-30cb-4d02-fee8-50c9bc75d439"
   },
   "outputs": [],
   "source": [
    "plot_points(\n",
    "    train_features_3dims,\n",
    "    train_labels_multiclass_np,\n",
    "    class_idx=0,\n",
    "    groups=['Normal'],\n",
    "    title='Normal',\n",
    "    figure_size=(14,14)\n",
    ")"
   ]
  },
  {
   "cell_type": "code",
   "execution_count": null,
   "metadata": {
    "colab": {},
    "colab_type": "code",
    "id": "G_3RWYUskiLg"
   },
   "outputs": [],
   "source": [
    "train_labels = np.asarray(list(map(lambda x: np.argmax(x), train_labels_binary_np)))\n",
    "train_indices_normal = np.where(train_labels == 0)[0]\n",
    "train_features_normal = train_features_np[train_indices_normal]\n",
    "\n",
    "test_labels = np.asarray(list(map(lambda x: np.argmax(x), test_labels_binary_np)))\n",
    "test_indices_normal = np.where(test_labels == 0)[0]\n",
    "test_features_normal = test_features_np[test_indices_normal]"
   ]
  },
  {
   "cell_type": "code",
   "execution_count": null,
   "metadata": {
    "colab": {
     "base_uri": "https://localhost:8080/",
     "height": 35
    },
    "colab_type": "code",
    "executionInfo": {
     "elapsed": 1216,
     "status": "ok",
     "timestamp": 1577269151316,
     "user": {
      "displayName": "Raghuvansh Raj",
      "photoUrl": "",
      "userId": "11591486281518120801"
     },
     "user_tz": -330
    },
    "id": "T1tb8-w5mRPk",
    "outputId": "56013894-09aa-45ec-a1de-d4fb18a8719c"
   },
   "outputs": [],
   "source": [
    "train_features_normal.shape"
   ]
  },
  {
   "cell_type": "code",
   "execution_count": null,
   "metadata": {
    "colab": {
     "base_uri": "https://localhost:8080/",
     "height": 35
    },
    "colab_type": "code",
    "executionInfo": {
     "elapsed": 1205,
     "status": "ok",
     "timestamp": 1577269151321,
     "user": {
      "displayName": "Raghuvansh Raj",
      "photoUrl": "",
      "userId": "11591486281518120801"
     },
     "user_tz": -330
    },
    "id": "SfsEOiyKqZI3",
    "outputId": "24c0f114-58a1-48ef-a1b0-8aefe3fed5f1"
   },
   "outputs": [],
   "source": [
    "test_features_normal.shape"
   ]
  },
  {
   "cell_type": "markdown",
   "metadata": {
    "colab_type": "text",
    "id": "Pq9A0A-XkYjC"
   },
   "source": [
    "#### K-Means"
   ]
  },
  {
   "cell_type": "markdown",
   "metadata": {
    "colab_type": "text",
    "id": "adPlrPCOpatn"
   },
   "source": [
    "##### Finding Optimal Clusters using K-Elbow Visualizer"
   ]
  },
  {
   "cell_type": "code",
   "execution_count": null,
   "metadata": {
    "colab": {
     "base_uri": "https://localhost:8080/",
     "height": 401
    },
    "colab_type": "code",
    "executionInfo": {
     "elapsed": 23734,
     "status": "ok",
     "timestamp": 1577269173870,
     "user": {
      "displayName": "Raghuvansh Raj",
      "photoUrl": "",
      "userId": "11591486281518120801"
     },
     "user_tz": -330
    },
    "id": "YFJhWv4Lpezq",
    "outputId": "585d7436-28c6-4ca8-dbaa-5194f14038fc"
   },
   "outputs": [],
   "source": [
    "model = cluster.KMeans(random_state=42)\n",
    "visualizer = KElbowVisualizer(\n",
    "    model, \n",
    "    k=(2,11),\n",
    "    metric='calinski_harabasz'\n",
    ")\n",
    "\n",
    "visualizer.fit(train_features_normal)"
   ]
  },
  {
   "cell_type": "markdown",
   "metadata": {
    "colab_type": "text",
    "id": "dw22SPNwvjo0"
   },
   "source": [
    "##### Fitting"
   ]
  },
  {
   "cell_type": "code",
   "execution_count": null,
   "metadata": {
    "colab": {},
    "colab_type": "code",
    "id": "rSRc5NlQnhTI"
   },
   "outputs": [],
   "source": [
    "N_CLUSTERS = 4"
   ]
  },
  {
   "cell_type": "code",
   "execution_count": null,
   "metadata": {
    "colab": {
     "base_uri": "https://localhost:8080/",
     "height": 71
    },
    "colab_type": "code",
    "executionInfo": {
     "elapsed": 25690,
     "status": "ok",
     "timestamp": 1577269175854,
     "user": {
      "displayName": "Raghuvansh Raj",
      "photoUrl": "",
      "userId": "11591486281518120801"
     },
     "user_tz": -330
    },
    "id": "XhoQQbjRi91X",
    "outputId": "67296c79-74c8-44db-e93b-c38d0b2a5c21"
   },
   "outputs": [],
   "source": [
    "kmeans_normal = cluster.KMeans(n_clusters=N_CLUSTERS, random_state=42)\n",
    "kmeans_normal.fit(train_features_normal)"
   ]
  },
  {
   "cell_type": "code",
   "execution_count": null,
   "metadata": {
    "colab": {
     "base_uri": "https://localhost:8080/",
     "height": 35
    },
    "colab_type": "code",
    "executionInfo": {
     "elapsed": 25677,
     "status": "ok",
     "timestamp": 1577269175856,
     "user": {
      "displayName": "Raghuvansh Raj",
      "photoUrl": "",
      "userId": "11591486281518120801"
     },
     "user_tz": -330
    },
    "id": "SK8PURO-4ud2",
    "outputId": "e69054b5-acf3-4219-b05a-8316bfa4ead7"
   },
   "outputs": [],
   "source": [
    "kmeans_normal.inertia_"
   ]
  },
  {
   "cell_type": "code",
   "execution_count": null,
   "metadata": {
    "colab": {},
    "colab_type": "code",
    "id": "d6JiVXDSaukV"
   },
   "outputs": [],
   "source": [
    "train_labels_normal = kmeans_normal.predict(train_features_normal)"
   ]
  },
  {
   "cell_type": "code",
   "execution_count": null,
   "metadata": {
    "colab": {
     "base_uri": "https://localhost:8080/",
     "height": 809
    },
    "colab_type": "code",
    "executionInfo": {
     "elapsed": 31664,
     "status": "ok",
     "timestamp": 1577269181869,
     "user": {
      "displayName": "Raghuvansh Raj",
      "photoUrl": "",
      "userId": "11591486281518120801"
     },
     "user_tz": -330
    },
    "id": "BZoy5Kgymji0",
    "outputId": "ee73f016-1db4-4366-c7cb-6052772bab05"
   },
   "outputs": [],
   "source": [
    "plot_points(\n",
    "    features=pca.transform(train_features_normal),\n",
    "    labels=train_labels_normal,\n",
    "    groups=['Cluster ' + str(i+1) for i in range(N_CLUSTERS)],\n",
    "    one_hot_labels=False,\n",
    "    title='K-Means Clustering on Normal Data Points - Training',\n",
    "    figure_size=(14,14)\n",
    ")"
   ]
  },
  {
   "cell_type": "code",
   "execution_count": null,
   "metadata": {
    "colab": {},
    "colab_type": "code",
    "id": "4QF5eq2Valo3"
   },
   "outputs": [],
   "source": [
    "test_labels_normal = kmeans_normal.predict(test_features_normal)"
   ]
  },
  {
   "cell_type": "code",
   "execution_count": null,
   "metadata": {
    "colab": {
     "base_uri": "https://localhost:8080/",
     "height": 809
    },
    "colab_type": "code",
    "executionInfo": {
     "elapsed": 33532,
     "status": "ok",
     "timestamp": 1577269183767,
     "user": {
      "displayName": "Raghuvansh Raj",
      "photoUrl": "",
      "userId": "11591486281518120801"
     },
     "user_tz": -330
    },
    "id": "YD9hkZDtp_Oo",
    "outputId": "24121e06-bace-47c3-901e-224dda74795b"
   },
   "outputs": [],
   "source": [
    "plot_points(\n",
    "    features=pca.transform(test_features_normal),\n",
    "    labels=test_labels_normal,\n",
    "    groups=['Cluster ' + str(i+1) for i in range(N_CLUSTERS)],\n",
    "    one_hot_labels=False,\n",
    "    title='K-Means Clustering on Normal Data Points - Testing',\n",
    "    figure_size=(14,14)\n",
    ")"
   ]
  },
  {
   "cell_type": "code",
   "execution_count": null,
   "metadata": {
    "colab": {
     "base_uri": "https://localhost:8080/",
     "height": 35
    },
    "colab_type": "code",
    "executionInfo": {
     "elapsed": 33513,
     "status": "ok",
     "timestamp": 1577269183768,
     "user": {
      "displayName": "Raghuvansh Raj",
      "photoUrl": "",
      "userId": "11591486281518120801"
     },
     "user_tz": -330
    },
    "id": "9WOJaSVTn9Px",
    "outputId": "f7e995b5-3d0b-4bd3-f46e-5ce280d3c8d5"
   },
   "outputs": [],
   "source": [
    "joblib.dump(kmeans_normal, 'kmeans_normal.joblib')"
   ]
  },
  {
   "cell_type": "markdown",
   "metadata": {
    "colab_type": "text",
    "id": "hw46fOb-aFuo"
   },
   "source": [
    "##### Partitioning Dataset"
   ]
  },
  {
   "cell_type": "code",
   "execution_count": null,
   "metadata": {
    "colab": {},
    "colab_type": "code",
    "id": "1k_zEpznaKCA"
   },
   "outputs": [],
   "source": [
    "partitioned_training_data_normal = partition_dataset(train_features_normal, train_labels_normal)"
   ]
  },
  {
   "cell_type": "code",
   "execution_count": null,
   "metadata": {
    "colab": {
     "base_uri": "https://localhost:8080/",
     "height": 89
    },
    "colab_type": "code",
    "executionInfo": {
     "elapsed": 1187,
     "status": "ok",
     "timestamp": 1577272237129,
     "user": {
      "displayName": "Raghuvansh Raj",
      "photoUrl": "",
      "userId": "11591486281518120801"
     },
     "user_tz": -330
    },
    "id": "3kov2qQjcpXG",
    "outputId": "0b3a273f-a305-4962-876d-5506fd6c0c74"
   },
   "outputs": [],
   "source": [
    "for data in partitioned_training_data_normal:\n",
    "    print(data.shape)"
   ]
  },
  {
   "cell_type": "code",
   "execution_count": null,
   "metadata": {
    "colab": {},
    "colab_type": "code",
    "id": "chOsDEsOeVct"
   },
   "outputs": [],
   "source": [
    "partitioned_testing_data_normal = partition_dataset(test_features_normal, test_labels_normal)"
   ]
  },
  {
   "cell_type": "code",
   "execution_count": null,
   "metadata": {
    "colab": {
     "base_uri": "https://localhost:8080/",
     "height": 89
    },
    "colab_type": "code",
    "executionInfo": {
     "elapsed": 1013,
     "status": "ok",
     "timestamp": 1577272240165,
     "user": {
      "displayName": "Raghuvansh Raj",
      "photoUrl": "",
      "userId": "11591486281518120801"
     },
     "user_tz": -330
    },
    "id": "PfuUrWhxebhX",
    "outputId": "ca5311d1-308b-433b-bab9-128e2898ec4c"
   },
   "outputs": [],
   "source": [
    "for data in partitioned_testing_data_normal:\n",
    "    print(data.shape)"
   ]
  },
  {
   "cell_type": "markdown",
   "metadata": {
    "colab_type": "text",
    "id": "-ZuS_SOE35DH"
   },
   "source": [
    "##### SiameseNet"
   ]
  },
  {
   "cell_type": "markdown",
   "metadata": {
    "colab_type": "text",
    "id": "-Wn1GOL9mov8"
   },
   "source": [
    "###### Generating Data for NSLKDDSiameseNetDataset Instance"
   ]
  },
  {
   "cell_type": "code",
   "execution_count": null,
   "metadata": {
    "colab": {},
    "colab_type": "code",
    "id": "gNm8buP6oZ-S"
   },
   "outputs": [],
   "source": [
    "TRAIN_MULT_FACTOR = 100000\n",
    "TEST_MULT_FACTOR = 20000"
   ]
  },
  {
   "cell_type": "code",
   "execution_count": null,
   "metadata": {
    "colab": {},
    "colab_type": "code",
    "id": "EML7ervQmxec"
   },
   "outputs": [],
   "source": [
    "indices = []\n",
    "for i in range(N_CLUSTERS):\n",
    "    for j in range(i, N_CLUSTERS):\n",
    "        indices.append((i,j))\n",
    "\n",
    "train_indices_final = indices * TRAIN_MULT_FACTOR\n",
    "shuffle(train_indices_final)\n",
    "test_indices_final = indices * TEST_MULT_FACTOR\n",
    "shuffle(test_indices_final)"
   ]
  },
  {
   "cell_type": "code",
   "execution_count": null,
   "metadata": {
    "colab": {
     "base_uri": "https://localhost:8080/",
     "height": 35
    },
    "colab_type": "code",
    "executionInfo": {
     "elapsed": 1254,
     "status": "ok",
     "timestamp": 1577272247544,
     "user": {
      "displayName": "Raghuvansh Raj",
      "photoUrl": "",
      "userId": "11591486281518120801"
     },
     "user_tz": -330
    },
    "id": "JIr5J_Etosla",
    "outputId": "f52410d8-b875-4670-a1c7-acff66341d32"
   },
   "outputs": [],
   "source": [
    "len(train_indices_final), len(test_indices_final)"
   ]
  },
  {
   "cell_type": "code",
   "execution_count": null,
   "metadata": {
    "colab": {},
    "colab_type": "code",
    "id": "ph1Jv3BvqVCA"
   },
   "outputs": [],
   "source": [
    "train_labels = list(map(lambda x: int(x[0] == x[1]), train_indices_final))\n",
    "test_labels = list(map(lambda x: int(x[0] == x[1]), test_indices_final))"
   ]
  },
  {
   "cell_type": "code",
   "execution_count": null,
   "metadata": {
    "colab": {
     "base_uri": "https://localhost:8080/",
     "height": 35
    },
    "colab_type": "code",
    "executionInfo": {
     "elapsed": 700,
     "status": "ok",
     "timestamp": 1577272249130,
     "user": {
      "displayName": "Raghuvansh Raj",
      "photoUrl": "",
      "userId": "11591486281518120801"
     },
     "user_tz": -330
    },
    "id": "QQJbsE5lrHaJ",
    "outputId": "bad5a723-afb1-411d-e1de-f1ad86d30727"
   },
   "outputs": [],
   "source": [
    "len(train_labels), len(test_labels)"
   ]
  },
  {
   "cell_type": "markdown",
   "metadata": {
    "colab_type": "text",
    "id": "Y4BlJ_-SrOy_"
   },
   "source": [
    "###### NSLKDDSiameseNetDataset Instance"
   ]
  },
  {
   "cell_type": "code",
   "execution_count": null,
   "metadata": {
    "colab": {},
    "colab_type": "code",
    "id": "afdJGqdprWPX"
   },
   "outputs": [],
   "source": [
    "train_data_siamese_net = NSLKDDSiameseNetDataSet(\n",
    "    partitioned_training_data_normal,\n",
    "    train_indices_final,\n",
    "    np.asarray(train_labels),\n",
    "    train_features\n",
    ")"
   ]
  },
  {
   "cell_type": "code",
   "execution_count": null,
   "metadata": {
    "colab": {},
    "colab_type": "code",
    "id": "yF_qatx_X-e4"
   },
   "outputs": [],
   "source": [
    "trainloader_siamese_net = DataLoader(\n",
    "    train_data_siamese_net,\n",
    "    batch_size=256,\n",
    "    shuffle=True\n",
    ")"
   ]
  },
  {
   "cell_type": "code",
   "execution_count": null,
   "metadata": {
    "colab": {},
    "colab_type": "code",
    "id": "pA1XF0rQr7_t"
   },
   "outputs": [],
   "source": [
    "test_data_siamese_net = NSLKDDSiameseNetDataSet(\n",
    "    partitioned_testing_data_normal,\n",
    "    test_indices_final,\n",
    "    np.asarray(test_labels),\n",
    "    train_features\n",
    ")"
   ]
  },
  {
   "cell_type": "code",
   "execution_count": null,
   "metadata": {
    "colab": {},
    "colab_type": "code",
    "id": "JlIz6ovJYKf1"
   },
   "outputs": [],
   "source": [
    "testloader_siamese_net = DataLoader(\n",
    "    test_data_siamese_net,\n",
    "    batch_size=256,\n",
    "    shuffle=True\n",
    ")"
   ]
  },
  {
   "cell_type": "markdown",
   "metadata": {
    "colab_type": "text",
    "id": "m8chre4FxQFW"
   },
   "source": [
    "###### Training Signatures for Each Cluster"
   ]
  },
  {
   "cell_type": "code",
   "execution_count": null,
   "metadata": {
    "colab": {
     "base_uri": "https://localhost:8080/",
     "height": 485
    },
    "colab_type": "code",
    "executionInfo": {
     "elapsed": 1173,
     "status": "ok",
     "timestamp": 1577272419551,
     "user": {
      "displayName": "Raghuvansh Raj",
      "photoUrl": "",
      "userId": "11591486281518120801"
     },
     "user_tz": -330
    },
    "id": "JshxlOkPXiwX",
    "outputId": "b4150fd5-6836-41d7-ce7e-57d4ca4a13d0"
   },
   "outputs": [],
   "source": [
    "siamese_net = SiameseNet()\n",
    "print(siamese_net)"
   ]
  },
  {
   "cell_type": "code",
   "execution_count": null,
   "metadata": {
    "colab": {
     "base_uri": "https://localhost:8080/",
     "height": 1000
    },
    "colab_type": "code",
    "executionInfo": {
     "elapsed": 7244868,
     "status": "error",
     "timestamp": 1577279679894,
     "user": {
      "displayName": "Raghuvansh Raj",
      "photoUrl": "",
      "userId": "11591486281518120801"
     },
     "user_tz": -330
    },
    "id": "J07VT22vpv1v",
    "outputId": "6b38688e-b134-4193-94c1-772736171e26"
   },
   "outputs": [],
   "source": [
    "train_losses_siamese_net, test_losses_siamese_net = train_siamese_net(\n",
    "    siamese_net,\n",
    "    trainloader=trainloader_siamese_net,\n",
    "    testloader=testloader_siamese_net,\n",
    "    n_epochs=50\n",
    ")"
   ]
  },
  {
   "cell_type": "code",
   "execution_count": null,
   "metadata": {
    "colab": {},
    "colab_type": "code",
    "id": "uek3oX0MYc9b"
   },
   "outputs": [],
   "source": []
  },
  {
   "cell_type": "markdown",
   "metadata": {
    "colab_type": "text",
    "id": "bx93awQK6L7L"
   },
   "source": [
    "#### Z-Score"
   ]
  },
  {
   "cell_type": "code",
   "execution_count": null,
   "metadata": {
    "colab": {},
    "colab_type": "code",
    "id": "083EhSQ1CHq4"
   },
   "outputs": [],
   "source": [
    "curr_cluster = partitioned_training_data_normal[0]"
   ]
  },
  {
   "cell_type": "code",
   "execution_count": null,
   "metadata": {
    "colab": {
     "base_uri": "https://localhost:8080/",
     "height": 35
    },
    "colab_type": "code",
    "executionInfo": {
     "elapsed": 1024,
     "status": "ok",
     "timestamp": 1577004763167,
     "user": {
      "displayName": "Raghuvansh Raj",
      "photoUrl": "",
      "userId": "11591486281518120801"
     },
     "user_tz": -330
    },
    "id": "Vht-fkO7DBWi",
    "outputId": "7fb60711-a43e-410f-be6f-bf5dde981855"
   },
   "outputs": [],
   "source": [
    "curr_cluster.shape"
   ]
  },
  {
   "cell_type": "code",
   "execution_count": null,
   "metadata": {
    "colab": {},
    "colab_type": "code",
    "id": "WEC0uM7m5v8B"
   },
   "outputs": [],
   "source": [
    "z_scores = zscore(curr_cluster)"
   ]
  },
  {
   "cell_type": "code",
   "execution_count": null,
   "metadata": {
    "colab": {
     "base_uri": "https://localhost:8080/",
     "height": 35
    },
    "colab_type": "code",
    "executionInfo": {
     "elapsed": 1084,
     "status": "ok",
     "timestamp": 1577006474632,
     "user": {
      "displayName": "Raghuvansh Raj",
      "photoUrl": "",
      "userId": "11591486281518120801"
     },
     "user_tz": -330
    },
    "id": "8bHGNFx06Q_3",
    "outputId": "a98c15d6-2f2d-4a99-b1e5-c1afe25f2968"
   },
   "outputs": [],
   "source": [
    "z_scores.shape"
   ]
  },
  {
   "cell_type": "code",
   "execution_count": null,
   "metadata": {
    "colab": {
     "base_uri": "https://localhost:8080/",
     "height": 365
    },
    "colab_type": "code",
    "executionInfo": {
     "elapsed": 1217,
     "status": "ok",
     "timestamp": 1577009311896,
     "user": {
      "displayName": "Raghuvansh Raj",
      "photoUrl": "",
      "userId": "11591486281518120801"
     },
     "user_tz": -330
    },
    "id": "KVAhq1waqHA3",
    "outputId": "ab433248-ffc8-4077-fabc-31e524f84556"
   },
   "outputs": [],
   "source": [
    "sns.kdeplot(z_scores[:,5])"
   ]
  },
  {
   "cell_type": "markdown",
   "metadata": {
    "colab_type": "text",
    "id": "nbCz1Y2lJTRq"
   },
   "source": [
    "### Random Forest Classifier"
   ]
  },
  {
   "cell_type": "markdown",
   "metadata": {
    "colab_type": "text",
    "id": "ZwuGsftpJX54"
   },
   "source": [
    "#### Grid Search"
   ]
  },
  {
   "cell_type": "markdown",
   "metadata": {
    "colab_type": "text",
    "id": "QJ7IV_TH-y8n"
   },
   "source": [
    "##### Recall"
   ]
  },
  {
   "cell_type": "code",
   "execution_count": null,
   "metadata": {
    "colab": {},
    "colab_type": "code",
    "id": "lXmjguMD_lSD"
   },
   "outputs": [],
   "source": [
    "rfc = RandomForestClassifier(\n",
    "    class_weight='balanced',\n",
    "    max_depth=58,\n",
    "    min_samples_leaf=2    \n",
    ")\n",
    "\n",
    "param_grid = {\n",
    "    'n_estimators': np.arange(100, 120),\n",
    "}\n",
    "\n",
    "rfc_grid_search_recall = GridSearchCV(\n",
    "    estimator=rfc,\n",
    "    param_grid=param_grid,\n",
    "    scoring=make_scorer(recall_score),\n",
    "    verbose=2,\n",
    "    cv=5,\n",
    "    n_jobs=5\n",
    ")"
   ]
  },
  {
   "cell_type": "code",
   "execution_count": null,
   "metadata": {
    "colab": {
     "base_uri": "https://localhost:8080/",
     "height": 469
    },
    "colab_type": "code",
    "executionInfo": {
     "elapsed": 3862381,
     "status": "ok",
     "timestamp": 1577516963417,
     "user": {
      "displayName": "Raghuvansh Raj",
      "photoUrl": "",
      "userId": "11591486281518120801"
     },
     "user_tz": -330
    },
    "id": "WFaaRXiG-mmk",
    "outputId": "185d9bea-0e52-45ef-dd61-e8c4de1c80f1"
   },
   "outputs": [],
   "source": [
    "rfc_grid_search_recall.fit(train_features_np, to_label(train_labels_binary_np))"
   ]
  },
  {
   "cell_type": "code",
   "execution_count": null,
   "metadata": {
    "colab": {
     "base_uri": "https://localhost:8080/",
     "height": 35
    },
    "colab_type": "code",
    "executionInfo": {
     "elapsed": 819,
     "status": "ok",
     "timestamp": 1577516994644,
     "user": {
      "displayName": "Raghuvansh Raj",
      "photoUrl": "",
      "userId": "11591486281518120801"
     },
     "user_tz": -330
    },
    "id": "CmZ3yV0n-o9U",
    "outputId": "666c3224-88d2-46dc-8519-ec708e049913"
   },
   "outputs": [],
   "source": [
    "rfc_grid_search_recall.best_score_"
   ]
  },
  {
   "cell_type": "code",
   "execution_count": null,
   "metadata": {
    "colab": {
     "base_uri": "https://localhost:8080/",
     "height": 35
    },
    "colab_type": "code",
    "executionInfo": {
     "elapsed": 1148,
     "status": "ok",
     "timestamp": 1577517012508,
     "user": {
      "displayName": "Raghuvansh Raj",
      "photoUrl": "",
      "userId": "11591486281518120801"
     },
     "user_tz": -330
    },
    "id": "eU6hPbm6Vww-",
    "outputId": "20fcddee-8efd-440a-a5d4-82ebf54855e7"
   },
   "outputs": [],
   "source": [
    "rfc_grid_search_recall.best_params_"
   ]
  },
  {
   "cell_type": "code",
   "execution_count": null,
   "metadata": {
    "colab": {
     "base_uri": "https://localhost:8080/",
     "height": 35
    },
    "colab_type": "code",
    "executionInfo": {
     "elapsed": 1075,
     "status": "ok",
     "timestamp": 1577517041685,
     "user": {
      "displayName": "Raghuvansh Raj",
      "photoUrl": "",
      "userId": "11591486281518120801"
     },
     "user_tz": -330
    },
    "id": "6uCCnOVnVzPK",
    "outputId": "a6bdbe1e-341f-43d6-9b04-2fc23c0fa854"
   },
   "outputs": [],
   "source": [
    "joblib.dump(rfc_grid_search_recall, 'rfc_grid_search_recall.joblib')"
   ]
  },
  {
   "cell_type": "markdown",
   "metadata": {
    "colab_type": "text",
    "id": "Nr-792HeV-k6"
   },
   "source": [
    "#### Model"
   ]
  },
  {
   "cell_type": "code",
   "execution_count": null,
   "metadata": {
    "colab": {},
    "colab_type": "code",
    "id": "v5Kn3CaCdPuL"
   },
   "outputs": [],
   "source": [
    "rfc_grid_search_recall = joblib.load(os.path.join(MODELS_DIR, 'rfc_grid_search_recall.joblib'))"
   ]
  },
  {
   "cell_type": "code",
   "execution_count": null,
   "metadata": {
    "colab": {},
    "colab_type": "code",
    "id": "YdTfokH2V8KM"
   },
   "outputs": [],
   "source": [
    "rfc = rfc_grid_search_recall.best_estimator_\n",
    "\n",
    "y_true, y_pred, y_probs = get_predictions(\n",
    "    rfc,\n",
    "    test_features_np,\n",
    "    test_labels_binary_np\n",
    ")"
   ]
  },
  {
   "cell_type": "code",
   "execution_count": null,
   "metadata": {
    "colab": {},
    "colab_type": "code",
    "id": "af7SBxGbWTY7"
   },
   "outputs": [],
   "source": [
    "cm = confusion_matrix(\n",
    "    y_pred=y_pred,\n",
    "    y_true=y_true\n",
    ")"
   ]
  },
  {
   "cell_type": "code",
   "execution_count": null,
   "metadata": {
    "colab": {
     "base_uri": "https://localhost:8080/",
     "height": 395
    },
    "colab_type": "code",
    "executionInfo": {
     "elapsed": 1517,
     "status": "ok",
     "timestamp": 1577708951841,
     "user": {
      "displayName": "Raghuvansh Raj",
      "photoUrl": "",
      "userId": "11591486281518120801"
     },
     "user_tz": -330
    },
    "id": "1NDOoMXrWWeC",
    "outputId": "e3610dee-508e-4804-ace8-af932dfd6abb"
   },
   "outputs": [],
   "source": [
    "plot_confusion_matrix(\n",
    "    cm,\n",
    "    classes=[0,1],\n",
    "    title='Random Forest Classifier with Optimized Recall',\n",
    "    save=True,\n",
    "    normalize=True,\n",
    "    cmap=plt.cm.Greys\n",
    ")"
   ]
  },
  {
   "cell_type": "code",
   "execution_count": null,
   "metadata": {
    "colab": {},
    "colab_type": "code",
    "id": "6K-NTrfhYuNv"
   },
   "outputs": [],
   "source": [
    "p, r, thresholds = precision_recall_curve(y_true, y_probs[:,1])"
   ]
  },
  {
   "cell_type": "code",
   "execution_count": null,
   "metadata": {
    "colab": {
     "base_uri": "https://localhost:8080/",
     "height": 512
    },
    "colab_type": "code",
    "executionInfo": {
     "elapsed": 1968,
     "status": "ok",
     "timestamp": 1577709157959,
     "user": {
      "displayName": "Raghuvansh Raj",
      "photoUrl": "",
      "userId": "11591486281518120801"
     },
     "user_tz": -330
    },
    "id": "24wSTGGgZoNo",
    "outputId": "25e59394-e48f-451c-e82f-dee309a26d9d"
   },
   "outputs": [],
   "source": [
    "best_threshold_rfc = plot_precision_recall_vs_threshold(\n",
    "    p, r, thresholds,\n",
    "    title='Precision and Recall Scores as a Function of the Decision Threshold',\n",
    ")"
   ]
  },
  {
   "cell_type": "code",
   "execution_count": null,
   "metadata": {
    "colab": {
     "base_uri": "https://localhost:8080/",
     "height": 512
    },
    "colab_type": "code",
    "executionInfo": {
     "elapsed": 1647,
     "status": "ok",
     "timestamp": 1577708975912,
     "user": {
      "displayName": "Raghuvansh Raj",
      "photoUrl": "",
      "userId": "11591486281518120801"
     },
     "user_tz": -330
    },
    "id": "20CbE-RrZWl-",
    "outputId": "ff6d7873-cf68-4771-8590-7048b1821516"
   },
   "outputs": [],
   "source": [
    "plot_precision_recall_curve(\n",
    "    p, r, y_probs[:,1], y_true, thresholds,\n",
    "    title='Precision Recall Curve',\n",
    "    t=best_threshold_rfc,\n",
    ")"
   ]
  },
  {
   "cell_type": "code",
   "execution_count": null,
   "metadata": {
    "colab": {},
    "colab_type": "code",
    "id": "E5xLXd9FbDtS"
   },
   "outputs": [],
   "source": [
    "fpr, tpr, auc_thresholds = roc_curve(y_true, y_probs[:,1])"
   ]
  },
  {
   "cell_type": "code",
   "execution_count": null,
   "metadata": {
    "colab": {
     "base_uri": "https://localhost:8080/",
     "height": 35
    },
    "colab_type": "code",
    "executionInfo": {
     "elapsed": 823,
     "status": "ok",
     "timestamp": 1577708978932,
     "user": {
      "displayName": "Raghuvansh Raj",
      "photoUrl": "",
      "userId": "11591486281518120801"
     },
     "user_tz": -330
    },
    "id": "XAvXTigBbkFJ",
    "outputId": "0c616636-a3e2-4eee-ad89-81aa5d630a69"
   },
   "outputs": [],
   "source": [
    "auc(fpr, tpr)"
   ]
  },
  {
   "cell_type": "code",
   "execution_count": null,
   "metadata": {
    "colab": {
     "base_uri": "https://localhost:8080/",
     "height": 521
    },
    "colab_type": "code",
    "executionInfo": {
     "elapsed": 1893,
     "status": "ok",
     "timestamp": 1577708981285,
     "user": {
      "displayName": "Raghuvansh Raj",
      "photoUrl": "",
      "userId": "11591486281518120801"
     },
     "user_tz": -330
    },
    "id": "m-ZpBkOPb0mR",
    "outputId": "4d230c44-2240-4dbd-c5a7-b900beb4403a"
   },
   "outputs": [],
   "source": [
    "plot_roc_curve(\n",
    "    fpr, tpr,\n",
    "    title='ROC Curve',\n",
    "    label='Recall Optimized'\n",
    ")"
   ]
  },
  {
   "cell_type": "code",
   "execution_count": null,
   "metadata": {
    "colab": {},
    "colab_type": "code",
    "id": "3jWYh5ceb3Yw"
   },
   "outputs": [],
   "source": [
    "y_pred_adjusted = get_adjusted_classes(y_probs[:,1], thresh=best_threshold_rfc)"
   ]
  },
  {
   "cell_type": "code",
   "execution_count": null,
   "metadata": {
    "colab": {},
    "colab_type": "code",
    "id": "fJJTqWGHh30t"
   },
   "outputs": [],
   "source": [
    "cm = confusion_matrix(\n",
    "    y_pred=y_pred_adjusted,\n",
    "    y_true=y_true\n",
    ")"
   ]
  },
  {
   "cell_type": "code",
   "execution_count": null,
   "metadata": {
    "colab": {
     "base_uri": "https://localhost:8080/",
     "height": 380
    },
    "colab_type": "code",
    "executionInfo": {
     "elapsed": 1151,
     "status": "ok",
     "timestamp": 1577709046930,
     "user": {
      "displayName": "Raghuvansh Raj",
      "photoUrl": "",
      "userId": "11591486281518120801"
     },
     "user_tz": -330
    },
    "id": "0cnuDKKJh7vd",
    "outputId": "c74a5638-d895-43f7-d311-4d316e729b27"
   },
   "outputs": [],
   "source": [
    "plot_confusion_matrix(\n",
    "    cm,\n",
    "    classes=[0,1],\n",
    "    title='Random Forest Classifier with Optimized Recall',\n",
    "    save=True,\n",
    "    normalize=True,\n",
    "    cmap=plt.cm.Greys\n",
    ")"
   ]
  },
  {
   "cell_type": "markdown",
   "metadata": {
    "colab_type": "text",
    "id": "OkB9412SGRkl"
   },
   "source": [
    "### AdaBoost Classifier"
   ]
  },
  {
   "cell_type": "markdown",
   "metadata": {
    "colab_type": "text",
    "id": "90_PzDMZGaUa"
   },
   "source": [
    "#### Grid Search"
   ]
  },
  {
   "cell_type": "markdown",
   "metadata": {
    "colab_type": "text",
    "id": "4H0cmg6oGcpw"
   },
   "source": [
    "##### Recall"
   ]
  },
  {
   "cell_type": "code",
   "execution_count": null,
   "metadata": {
    "colab": {},
    "colab_type": "code",
    "id": "rB8MyL7QiA_8"
   },
   "outputs": [],
   "source": [
    "adaboost_clf = AdaBoostClassifier()\n",
    "\n",
    "param_grid = {\n",
    "    'n_estimators': np.arange(50, 70)\n",
    "}\n",
    "\n",
    "adaboost_clf_grid_search_recall = GridSearchCV(\n",
    "    estimator=adaboost_clf,\n",
    "    param_grid=param_grid,\n",
    "    scoring=make_scorer(recall_score),\n",
    "    verbose=2,\n",
    "    cv=5,\n",
    "    n_jobs=5\n",
    ")"
   ]
  },
  {
   "cell_type": "code",
   "execution_count": null,
   "metadata": {
    "colab": {
     "base_uri": "https://localhost:8080/",
     "height": 358
    },
    "colab_type": "code",
    "executionInfo": {
     "elapsed": 17103,
     "status": "error",
     "timestamp": 1577540547279,
     "user": {
      "displayName": "Raghuvansh Raj",
      "photoUrl": "",
      "userId": "11591486281518120801"
     },
     "user_tz": -330
    },
    "id": "UZQP5dqWG2ue",
    "outputId": "9300fa54-faff-4860-d08f-19c9f910cc89"
   },
   "outputs": [],
   "source": [
    "adaboost_clf_grid_search_recall.fit(train_features_np, to_label(train_labels_binary_np))"
   ]
  },
  {
   "cell_type": "code",
   "execution_count": null,
   "metadata": {
    "colab": {
     "base_uri": "https://localhost:8080/",
     "height": 192
    },
    "colab_type": "code",
    "executionInfo": {
     "elapsed": 1177,
     "status": "error",
     "timestamp": 1577709229223,
     "user": {
      "displayName": "Raghuvansh Raj",
      "photoUrl": "",
      "userId": "11591486281518120801"
     },
     "user_tz": -330
    },
    "id": "v9LwO5mrG_q-",
    "outputId": "e904588b-5f55-40dc-d8d3-c500302e0c16"
   },
   "outputs": [],
   "source": [
    "joblib.dump(adaboost_clf_grid_search_recall, 'adaboost_clf_grid_search_recall.joblib')"
   ]
  },
  {
   "cell_type": "markdown",
   "metadata": {
    "colab_type": "text",
    "id": "R1cIhd4UU0rF"
   },
   "source": [
    "#### Model"
   ]
  },
  {
   "cell_type": "code",
   "execution_count": null,
   "metadata": {
    "colab": {},
    "colab_type": "code",
    "id": "HuIet-n2zJ1J"
   },
   "outputs": [],
   "source": [
    "adaboost_clf_grid_search_recall = joblib.load(os.path.join(MODELS_DIR, 'adaboost_clf_grid_search_recall.joblib'))"
   ]
  },
  {
   "cell_type": "code",
   "execution_count": null,
   "metadata": {
    "colab": {},
    "colab_type": "code",
    "id": "sqOMDnToUxD6"
   },
   "outputs": [],
   "source": [
    "adaboost_clf = adaboost_clf_grid_search_recall.best_estimator_\n",
    "\n",
    "y_true, y_pred, y_probs = get_predictions(\n",
    "    adaboost_clf,\n",
    "    test_features_np,\n",
    "    test_labels_binary_np\n",
    ")"
   ]
  },
  {
   "cell_type": "code",
   "execution_count": null,
   "metadata": {
    "colab": {},
    "colab_type": "code",
    "id": "v6d-e0TcU6Q-"
   },
   "outputs": [],
   "source": [
    "cm = confusion_matrix(\n",
    "    y_pred=y_pred,\n",
    "    y_true=y_true\n",
    ")"
   ]
  },
  {
   "cell_type": "code",
   "execution_count": null,
   "metadata": {
    "colab": {
     "base_uri": "https://localhost:8080/",
     "height": 380
    },
    "colab_type": "code",
    "executionInfo": {
     "elapsed": 1044,
     "status": "ok",
     "timestamp": 1577709376183,
     "user": {
      "displayName": "Raghuvansh Raj",
      "photoUrl": "",
      "userId": "11591486281518120801"
     },
     "user_tz": -330
    },
    "id": "f3tlSCIhVFI2",
    "outputId": "5d0177d0-9dab-44d0-af2d-458c620bc344"
   },
   "outputs": [],
   "source": [
    "plot_confusion_matrix(\n",
    "    cm,\n",
    "    classes=[0,1],\n",
    "    title='AdaBoost Classifier with Optimized Recall',\n",
    "    save=True,\n",
    "    normalize=True,\n",
    "    cmap=plt.cm.Greys\n",
    ")"
   ]
  },
  {
   "cell_type": "code",
   "execution_count": null,
   "metadata": {
    "colab": {},
    "colab_type": "code",
    "id": "NNj3QMKWVIGt"
   },
   "outputs": [],
   "source": [
    "p, r, thresholds = precision_recall_curve(y_true, y_probs[:,1])"
   ]
  },
  {
   "cell_type": "code",
   "execution_count": null,
   "metadata": {
    "colab": {
     "base_uri": "https://localhost:8080/",
     "height": 512
    },
    "colab_type": "code",
    "executionInfo": {
     "elapsed": 1631,
     "status": "ok",
     "timestamp": 1577709391650,
     "user": {
      "displayName": "Raghuvansh Raj",
      "photoUrl": "",
      "userId": "11591486281518120801"
     },
     "user_tz": -330
    },
    "id": "JLGj8Hv1VPMk",
    "outputId": "cf5d9d7c-dfac-48e2-a424-b538b0e4fff3"
   },
   "outputs": [],
   "source": [
    "best_threshold = plot_precision_recall_vs_threshold(\n",
    "    p, r, thresholds,\n",
    "    title='Precision and Recall Scores as a Function of the Decision Threshold',\n",
    ")"
   ]
  },
  {
   "cell_type": "code",
   "execution_count": null,
   "metadata": {
    "colab": {
     "base_uri": "https://localhost:8080/",
     "height": 512
    },
    "colab_type": "code",
    "executionInfo": {
     "elapsed": 1774,
     "status": "ok",
     "timestamp": 1577533698173,
     "user": {
      "displayName": "Raghuvansh Raj",
      "photoUrl": "",
      "userId": "11591486281518120801"
     },
     "user_tz": -330
    },
    "id": "E_ANM-vfVVE0",
    "outputId": "fd6a14a5-911f-4e94-f6d8-e299317145f6"
   },
   "outputs": [],
   "source": [
    "plot_precision_recall_curve(\n",
    "    p, r, y_probs[:,1], y_true, thresholds,\n",
    "    title='Precision Recall Curve',\n",
    "    t=best_threshold,\n",
    ")"
   ]
  },
  {
   "cell_type": "code",
   "execution_count": null,
   "metadata": {
    "colab": {},
    "colab_type": "code",
    "id": "fJsmirlYVejE"
   },
   "outputs": [],
   "source": [
    "fpr, tpr, auc_thresholds = roc_curve(y_true, y_probs[:,1])"
   ]
  },
  {
   "cell_type": "code",
   "execution_count": null,
   "metadata": {
    "colab": {
     "base_uri": "https://localhost:8080/",
     "height": 35
    },
    "colab_type": "code",
    "executionInfo": {
     "elapsed": 1093,
     "status": "ok",
     "timestamp": 1577709400928,
     "user": {
      "displayName": "Raghuvansh Raj",
      "photoUrl": "",
      "userId": "11591486281518120801"
     },
     "user_tz": -330
    },
    "id": "hUNsMmQZVlXb",
    "outputId": "1a960828-1213-47d8-f178-d0534ff3f74b"
   },
   "outputs": [],
   "source": [
    "auc(fpr, tpr)"
   ]
  },
  {
   "cell_type": "code",
   "execution_count": null,
   "metadata": {
    "colab": {
     "base_uri": "https://localhost:8080/",
     "height": 521
    },
    "colab_type": "code",
    "executionInfo": {
     "elapsed": 1526,
     "status": "ok",
     "timestamp": 1577709403501,
     "user": {
      "displayName": "Raghuvansh Raj",
      "photoUrl": "",
      "userId": "11591486281518120801"
     },
     "user_tz": -330
    },
    "id": "KQpxb4Z1VoUy",
    "outputId": "2ec7b8af-ce80-41e1-bfb6-ccffc5f3c2aa"
   },
   "outputs": [],
   "source": [
    "plot_roc_curve(\n",
    "    fpr, tpr,\n",
    "    title='ROC Curve',\n",
    "    label='Recall Optimized'\n",
    ")"
   ]
  },
  {
   "cell_type": "code",
   "execution_count": null,
   "metadata": {
    "colab": {},
    "colab_type": "code",
    "id": "7ab4fOanVr97"
   },
   "outputs": [],
   "source": [
    "y_pred_adjusted = get_adjusted_classes(y_probs[:,1], thresh=best_threshold)"
   ]
  },
  {
   "cell_type": "code",
   "execution_count": null,
   "metadata": {
    "colab": {},
    "colab_type": "code",
    "id": "NRJUPqVVVwJJ"
   },
   "outputs": [],
   "source": [
    "cm = confusion_matrix(\n",
    "    y_pred=y_pred_adjusted,\n",
    "    y_true=y_true\n",
    ")"
   ]
  },
  {
   "cell_type": "code",
   "execution_count": null,
   "metadata": {
    "colab": {
     "base_uri": "https://localhost:8080/",
     "height": 380
    },
    "colab_type": "code",
    "executionInfo": {
     "elapsed": 1125,
     "status": "ok",
     "timestamp": 1577709420054,
     "user": {
      "displayName": "Raghuvansh Raj",
      "photoUrl": "",
      "userId": "11591486281518120801"
     },
     "user_tz": -330
    },
    "id": "lZzQd0ABV0LY",
    "outputId": "9929f829-df8c-4130-b863-e56516e2ce92"
   },
   "outputs": [],
   "source": [
    "plot_confusion_matrix(\n",
    "    cm,\n",
    "    classes=[0,1],\n",
    "    title='AdaBoost Classifier with Optimized Recall',\n",
    "    save=True,\n",
    "    normalize=True,\n",
    "    cmap=plt.cm.Greys\n",
    ")"
   ]
  },
  {
   "cell_type": "code",
   "execution_count": null,
   "metadata": {
    "colab": {},
    "colab_type": "code",
    "id": "zXpLhbHnV3dy"
   },
   "outputs": [],
   "source": []
  },
  {
   "cell_type": "markdown",
   "metadata": {
    "colab_type": "text",
    "id": "d39o0J5nhpKA"
   },
   "source": [
    "## MultiClassClassifier"
   ]
  },
  {
   "cell_type": "markdown",
   "metadata": {
    "colab_type": "text",
    "id": "HDz7QHTBjz1O"
   },
   "source": [
    "#### Utilities"
   ]
  },
  {
   "cell_type": "code",
   "execution_count": null,
   "metadata": {
    "colab": {},
    "colab_type": "code",
    "id": "HMd8In9hpVcl"
   },
   "outputs": [],
   "source": [
    "def print_counts(labels):\n",
    "    labels = np.argmax(labels, axis=1)\n",
    "    for i in range(5):\n",
    "        print(len(np.where(labels == i)[0]))"
   ]
  },
  {
   "cell_type": "code",
   "execution_count": null,
   "metadata": {
    "colab": {
     "base_uri": "https://localhost:8080/",
     "height": 107
    },
    "colab_type": "code",
    "executionInfo": {
     "elapsed": 1660,
     "status": "ok",
     "timestamp": 1577606279994,
     "user": {
      "displayName": "Raghuvansh Raj",
      "photoUrl": "",
      "userId": "11591486281518120801"
     },
     "user_tz": -330
    },
    "id": "ygH4Ht0Dp3rb",
    "outputId": "b4fc1f22-d757-4931-ea23-daca64f99458"
   },
   "outputs": [],
   "source": [
    "print_counts(test_labels_multiclass_np)"
   ]
  },
  {
   "cell_type": "markdown",
   "metadata": {
    "colab_type": "text",
    "id": "imSx-MWrpTw1"
   },
   "source": [
    "#### Model"
   ]
  },
  {
   "cell_type": "code",
   "execution_count": null,
   "metadata": {
    "colab": {},
    "colab_type": "code",
    "id": "jc8CCu68xIp_"
   },
   "outputs": [],
   "source": [
    "over_sampler = SVMSMOTE()"
   ]
  },
  {
   "cell_type": "code",
   "execution_count": null,
   "metadata": {
    "colab": {},
    "colab_type": "code",
    "id": "YJf2g9v5xo8r"
   },
   "outputs": [],
   "source": [
    "x_train, y_train = over_sampler.fit_resample(\n",
    "    train_features_np, np.argmax(\n",
    "        train_labels_multiclass_np,\n",
    "        axis=1\n",
    "    )\n",
    ")"
   ]
  },
  {
   "cell_type": "code",
   "execution_count": null,
   "metadata": {
    "colab": {},
    "colab_type": "code",
    "id": "uY4xOYUybljI"
   },
   "outputs": [],
   "source": [
    "x_train, y_train = shuffle(x_train, y_train)"
   ]
  },
  {
   "cell_type": "code",
   "execution_count": null,
   "metadata": {
    "colab": {
     "base_uri": "https://localhost:8080/",
     "height": 35
    },
    "colab_type": "code",
    "executionInfo": {
     "elapsed": 349493,
     "status": "ok",
     "timestamp": 1577700815739,
     "user": {
      "displayName": "Raghuvansh Raj",
      "photoUrl": "",
      "userId": "11591486281518120801"
     },
     "user_tz": -330
    },
    "id": "Wz2aZAvkcMt9",
    "outputId": "acfad9a7-9798-49cd-fd35-63bb401e179c"
   },
   "outputs": [],
   "source": [
    "Counter(y_train)"
   ]
  },
  {
   "cell_type": "code",
   "execution_count": null,
   "metadata": {
    "colab": {},
    "colab_type": "code",
    "id": "D1pzD0IOlLu6"
   },
   "outputs": [],
   "source": [
    "x_test, y_test = test_features_np, test_labels_multiclass_np"
   ]
  },
  {
   "cell_type": "code",
   "execution_count": null,
   "metadata": {
    "colab": {
     "base_uri": "https://localhost:8080/",
     "height": 35
    },
    "colab_type": "code",
    "executionInfo": {
     "elapsed": 348329,
     "status": "ok",
     "timestamp": 1577700815741,
     "user": {
      "displayName": "Raghuvansh Raj",
      "photoUrl": "",
      "userId": "11591486281518120801"
     },
     "user_tz": -330
    },
    "id": "85T0G4B6yJs2",
    "outputId": "c71ea6f1-e3c2-4872-d54f-436dedac62a7"
   },
   "outputs": [],
   "source": [
    "x_train.shape, x_test.shape, y_train.shape, y_test.shape"
   ]
  },
  {
   "cell_type": "code",
   "execution_count": null,
   "metadata": {
    "colab": {},
    "colab_type": "code",
    "id": "9p-44H-YRi6I"
   },
   "outputs": [],
   "source": [
    "lstm_output_size = 70"
   ]
  },
  {
   "cell_type": "code",
   "execution_count": null,
   "metadata": {
    "colab": {},
    "colab_type": "code",
    "id": "Vp_46QD2nEre"
   },
   "outputs": [],
   "source": [
    "cnn = Sequential()\n",
    "cnn.add(Convolution1D(64, 3, border_mode=\"same\",activation=\"relu\",input_shape=(67, 1)))\n",
    "cnn.add(Convolution1D(64, 3, border_mode=\"same\", activation=\"relu\"))\n",
    "cnn.add(MaxPooling1D(pool_length=(2)))\n",
    "cnn.add(Convolution1D(128, 3, border_mode=\"same\", activation=\"relu\"))\n",
    "cnn.add(Convolution1D(128, 3, border_mode=\"same\", activation=\"relu\"))\n",
    "cnn.add(MaxPooling1D(pool_length=(2)))\n",
    "cnn.add(LSTM(lstm_output_size))\n",
    "cnn.add(Dropout(0.1))\n",
    "cnn.add(Dense(5, activation=\"softmax\"))"
   ]
  },
  {
   "cell_type": "code",
   "execution_count": null,
   "metadata": {
    "colab": {
     "base_uri": "https://localhost:8080/",
     "height": 485
    },
    "colab_type": "code",
    "executionInfo": {
     "elapsed": 1313,
     "status": "ok",
     "timestamp": 1577702698165,
     "user": {
      "displayName": "Raghuvansh Raj",
      "photoUrl": "",
      "userId": "11591486281518120801"
     },
     "user_tz": -330
    },
    "id": "houQBasWT3qT",
    "outputId": "47beacfe-b69f-4b83-a72a-bb6784817cab"
   },
   "outputs": [],
   "source": [
    "cnn.summary()"
   ]
  },
  {
   "cell_type": "code",
   "execution_count": null,
   "metadata": {
    "colab": {},
    "colab_type": "code",
    "id": "kAfSjF8JRZYU"
   },
   "outputs": [],
   "source": [
    "cnn.compile(loss='categorical_crossentropy', optimizer='adam', metrics=['accuracy'])"
   ]
  },
  {
   "cell_type": "code",
   "execution_count": null,
   "metadata": {
    "colab": {
     "base_uri": "https://localhost:8080/",
     "height": 235
    },
    "colab_type": "code",
    "executionInfo": {
     "elapsed": 1093314,
     "status": "ok",
     "timestamp": 1577704970838,
     "user": {
      "displayName": "Raghuvansh Raj",
      "photoUrl": "",
      "userId": "11591486281518120801"
     },
     "user_tz": -330
    },
    "id": "vtleSn4dR6ZU",
    "outputId": "32924962-261a-4a22-d28a-b93ceba614bd"
   },
   "outputs": [],
   "source": [
    "history_1 = cnn.fit(\n",
    "    np.expand_dims(x_train, axis=2), to_categorical(\n",
    "        y_train,\n",
    "        num_classes=5\n",
    "    ),\n",
    "    batch_size=128,\n",
    "    epochs=5,\n",
    "    validation_data=(\n",
    "        np.expand_dims(x_test, axis=2), y_test\n",
    "    )\n",
    ")"
   ]
  },
  {
   "cell_type": "code",
   "execution_count": null,
   "metadata": {
    "colab": {},
    "colab_type": "code",
    "id": "b0T131w4j8mE"
   },
   "outputs": [],
   "source": [
    "all_losses = []"
   ]
  },
  {
   "cell_type": "code",
   "execution_count": null,
   "metadata": {
    "colab": {},
    "colab_type": "code",
    "id": "lmFOhYB1jfoq"
   },
   "outputs": [],
   "source": [
    "for loss in history_1.history['loss']:\n",
    "    all_losses.append(loss)"
   ]
  },
  {
   "cell_type": "code",
   "execution_count": null,
   "metadata": {
    "colab": {},
    "colab_type": "code",
    "id": "unMzT23CkAp1"
   },
   "outputs": [],
   "source": [
    "all_acc = []"
   ]
  },
  {
   "cell_type": "code",
   "execution_count": null,
   "metadata": {
    "colab": {},
    "colab_type": "code",
    "id": "2K5SGT-ZkCwG"
   },
   "outputs": [],
   "source": [
    "for acc in history_1.history['accuracy']:\n",
    "    all_acc.append(acc)"
   ]
  },
  {
   "cell_type": "code",
   "execution_count": null,
   "metadata": {
    "colab": {
     "base_uri": "https://localhost:8080/",
     "height": 35
    },
    "colab_type": "code",
    "executionInfo": {
     "elapsed": 948,
     "status": "ok",
     "timestamp": 1577705328875,
     "user": {
      "displayName": "Raghuvansh Raj",
      "photoUrl": "",
      "userId": "11591486281518120801"
     },
     "user_tz": -330
    },
    "id": "itXn0X3lj5Tm",
    "outputId": "b791dcf4-a50d-4919-e09c-464c99fee53f"
   },
   "outputs": [],
   "source": [
    "len(all_losses), len(all_acc)"
   ]
  },
  {
   "cell_type": "code",
   "execution_count": null,
   "metadata": {
    "colab": {
     "base_uri": "https://localhost:8080/",
     "height": 497
    },
    "colab_type": "code",
    "executionInfo": {
     "elapsed": 1374,
     "status": "ok",
     "timestamp": 1577706908734,
     "user": {
      "displayName": "Raghuvansh Raj",
      "photoUrl": "",
      "userId": "11591486281518120801"
     },
     "user_tz": -330
    },
    "id": "4l_hVCvTkQgT",
    "outputId": "04bc3c10-0c07-4d43-a724-4aea46bb5a82"
   },
   "outputs": [],
   "source": [
    "plt.figure(figsize=(8,8))\n",
    "\n",
    "plt.plot(\n",
    "    np.linspace(1, 10, 10) * 10,\n",
    "    all_losses,\n",
    "    'k--',\n",
    "    marker='D'\n",
    ")\n",
    "\n",
    "plt.xlabel('Epochs')\n",
    "plt.ylabel('Loss')\n",
    "\n",
    "plt.savefig('Loss.png')"
   ]
  },
  {
   "cell_type": "code",
   "execution_count": null,
   "metadata": {
    "colab": {
     "base_uri": "https://localhost:8080/",
     "height": 497
    },
    "colab_type": "code",
    "executionInfo": {
     "elapsed": 1339,
     "status": "ok",
     "timestamp": 1577706459487,
     "user": {
      "displayName": "Raghuvansh Raj",
      "photoUrl": "",
      "userId": "11591486281518120801"
     },
     "user_tz": -330
    },
    "id": "3FfEUoJmkzD2",
    "outputId": "4da6333c-b574-46b0-c9e1-fb0442150cb7"
   },
   "outputs": [],
   "source": [
    "plt.figure(figsize=(8,8))\n",
    "\n",
    "plt.plot(\n",
    "    np.linspace(1, 10, 10) * 10,\n",
    "    all_acc,\n",
    "    'k--',\n",
    "    marker='D'\n",
    ")\n",
    "\n",
    "plt.xlabel('Epochs')\n",
    "plt.ylabel('Accuracy')\n",
    "\n",
    "plt.savefig('Accuracy.png')"
   ]
  },
  {
   "cell_type": "code",
   "execution_count": null,
   "metadata": {
    "colab": {},
    "colab_type": "code",
    "id": "tj6gUjkmSpSv"
   },
   "outputs": [],
   "source": [
    "cnn.save('conv_model.h5')"
   ]
  },
  {
   "cell_type": "code",
   "execution_count": null,
   "metadata": {
    "colab": {},
    "colab_type": "code",
    "id": "nEcEVcs7SyXz"
   },
   "outputs": [],
   "source": [
    "import pickle as pk\n",
    "\n",
    "with open('history.pkl', 'wb') as f:\n",
    "    pk.dump(history, f)"
   ]
  },
  {
   "cell_type": "code",
   "execution_count": null,
   "metadata": {
    "colab": {},
    "colab_type": "code",
    "id": "VPZghFdVneIX"
   },
   "outputs": [],
   "source": [
    "import pickle as pk\n",
    "\n",
    "with open('history_1.pkl', 'wb') as f:\n",
    "    pk.dump(history_1, f)"
   ]
  },
  {
   "cell_type": "code",
   "execution_count": null,
   "metadata": {
    "colab": {
     "base_uri": "https://localhost:8080/",
     "height": 1000
    },
    "colab_type": "code",
    "executionInfo": {
     "elapsed": 1531,
     "status": "ok",
     "timestamp": 1577707143605,
     "user": {
      "displayName": "Raghuvansh Raj",
      "photoUrl": "",
      "userId": "11591486281518120801"
     },
     "user_tz": -330
    },
    "id": "VaZYOi29niH4",
    "outputId": "6f41c0ed-cf3a-4407-c038-c84230d268eb"
   },
   "outputs": [],
   "source": [
    "plot_model(cnn, show_layer_names=False, show_shapes=True, t)"
   ]
  },
  {
   "cell_type": "code",
   "execution_count": null,
   "metadata": {
    "colab": {},
    "colab_type": "code",
    "id": "TyUq3qbdt4zy"
   },
   "outputs": [],
   "source": [
    "y_pred_rfc = rfc.predict(test_features_np)"
   ]
  },
  {
   "cell_type": "code",
   "execution_count": null,
   "metadata": {
    "colab": {},
    "colab_type": "code",
    "id": "mRjYlZU9wIMO"
   },
   "outputs": [],
   "source": [
    "normal_samples_indices = np.where(y_pred_rfc == 0)[0]\n",
    "x_train_normal = test_features_np[normal_samples_indices]\n",
    "y_train_multiclass_normal = test_labels_multiclass_np[normal_samples_indices]"
   ]
  },
  {
   "cell_type": "code",
   "execution_count": null,
   "metadata": {
    "colab": {
     "base_uri": "https://localhost:8080/",
     "height": 143
    },
    "colab_type": "code",
    "executionInfo": {
     "elapsed": 993,
     "status": "ok",
     "timestamp": 1577710396299,
     "user": {
      "displayName": "Raghuvansh Raj",
      "photoUrl": "",
      "userId": "11591486281518120801"
     },
     "user_tz": -330
    },
    "id": "OBVl0zgX29Py",
    "outputId": "d8f1eb8a-9533-4a5d-d9a4-dedece73e57f"
   },
   "outputs": [],
   "source": [
    "y_train_multiclass_normal"
   ]
  },
  {
   "cell_type": "code",
   "execution_count": null,
   "metadata": {
    "colab": {
     "base_uri": "https://localhost:8080/",
     "height": 35
    },
    "colab_type": "code",
    "executionInfo": {
     "elapsed": 948,
     "status": "ok",
     "timestamp": 1577710399922,
     "user": {
      "displayName": "Raghuvansh Raj",
      "photoUrl": "",
      "userId": "11591486281518120801"
     },
     "user_tz": -330
    },
    "id": "_RYw7x66werd",
    "outputId": "f876156a-734c-45bf-be4c-edf9d7bd65c5"
   },
   "outputs": [],
   "source": [
    "x_train_normal.shape, y_train_multiclass_normal.shape"
   ]
  },
  {
   "cell_type": "code",
   "execution_count": null,
   "metadata": {
    "colab": {},
    "colab_type": "code",
    "id": "zCXhm5XKt9Qi"
   },
   "outputs": [],
   "source": [
    "malicious_samples_indices = np.where(y_pred_rfc == 1)[0]\n",
    "x_train_malicious = test_features_np[malicious_samples_indices]\n",
    "y_train_multiclass_malicious = test_labels_multiclass_np[malicious_samples_indices]"
   ]
  },
  {
   "cell_type": "code",
   "execution_count": null,
   "metadata": {
    "colab": {
     "base_uri": "https://localhost:8080/",
     "height": 35
    },
    "colab_type": "code",
    "executionInfo": {
     "elapsed": 928,
     "status": "ok",
     "timestamp": 1577710416164,
     "user": {
      "displayName": "Raghuvansh Raj",
      "photoUrl": "",
      "userId": "11591486281518120801"
     },
     "user_tz": -330
    },
    "id": "20iQZe6ruP5n",
    "outputId": "27ce4fba-b925-42a0-c09d-2273414204cd"
   },
   "outputs": [],
   "source": [
    "x_train_malicious.shape, y_train_multiclass_malicious.shape"
   ]
  },
  {
   "cell_type": "code",
   "execution_count": null,
   "metadata": {
    "colab": {},
    "colab_type": "code",
    "id": "Y35fkQK3qkC0"
   },
   "outputs": [],
   "source": [
    "y_true, y_pred, _ = get_predictions(\n",
    "    cnn,\n",
    "    np.expand_dims(x_train_malicious, axis=2),\n",
    "    y_train_multiclass_malicious\n",
    ")"
   ]
  },
  {
   "cell_type": "code",
   "execution_count": null,
   "metadata": {
    "colab": {},
    "colab_type": "code",
    "id": "gN0o2d33uz4J"
   },
   "outputs": [],
   "source": [
    "y_true_with_zeros = np.concatenate((y_true, np.argmax(y_train_multiclass_normal, axis=1)))"
   ]
  },
  {
   "cell_type": "code",
   "execution_count": null,
   "metadata": {
    "colab": {
     "base_uri": "https://localhost:8080/",
     "height": 35
    },
    "colab_type": "code",
    "executionInfo": {
     "elapsed": 937,
     "status": "ok",
     "timestamp": 1577710428138,
     "user": {
      "displayName": "Raghuvansh Raj",
      "photoUrl": "",
      "userId": "11591486281518120801"
     },
     "user_tz": -330
    },
    "id": "ENrkOm2X1jqy",
    "outputId": "e310b8ac-54a0-4209-8fac-6682fc424c2c"
   },
   "outputs": [],
   "source": [
    "y_true_with_zeros.shape"
   ]
  },
  {
   "cell_type": "code",
   "execution_count": null,
   "metadata": {
    "colab": {},
    "colab_type": "code",
    "id": "1sJUD2KNu31b"
   },
   "outputs": [],
   "source": [
    "pred = np.argmax(y_pred, axis=1)"
   ]
  },
  {
   "cell_type": "code",
   "execution_count": null,
   "metadata": {
    "colab": {},
    "colab_type": "code",
    "id": "HmxPfX4q03OE"
   },
   "outputs": [],
   "source": [
    "pred_with_zeros = np.concatenate((pred, np.asarray([0] * 13920)))"
   ]
  },
  {
   "cell_type": "code",
   "execution_count": null,
   "metadata": {
    "colab": {
     "base_uri": "https://localhost:8080/",
     "height": 35
    },
    "colab_type": "code",
    "executionInfo": {
     "elapsed": 1075,
     "status": "ok",
     "timestamp": 1577710483964,
     "user": {
      "displayName": "Raghuvansh Raj",
      "photoUrl": "",
      "userId": "11591486281518120801"
     },
     "user_tz": -330
    },
    "id": "eTh7Hd6z1LpO",
    "outputId": "b82493f1-a367-408e-b317-5fc94d93c961"
   },
   "outputs": [],
   "source": [
    "pred_with_zeros.shape"
   ]
  },
  {
   "cell_type": "code",
   "execution_count": null,
   "metadata": {
    "colab": {
     "base_uri": "https://localhost:8080/",
     "height": 35
    },
    "colab_type": "code",
    "executionInfo": {
     "elapsed": 1386,
     "status": "ok",
     "timestamp": 1577710487138,
     "user": {
      "displayName": "Raghuvansh Raj",
      "photoUrl": "",
      "userId": "11591486281518120801"
     },
     "user_tz": -330
    },
    "id": "Kjq-tfns1UJA",
    "outputId": "b2736433-cb78-4b29-b0ee-c7a0636874ba"
   },
   "outputs": [],
   "source": [
    "pred_with_zeros"
   ]
  },
  {
   "cell_type": "code",
   "execution_count": null,
   "metadata": {
    "colab": {},
    "colab_type": "code",
    "id": "bB_4vcV1sMmA"
   },
   "outputs": [],
   "source": [
    "cm = confusion_matrix(\n",
    "    y_pred=pred_with_zeros,\n",
    "    y_true=y_true_with_zeros\n",
    ")"
   ]
  },
  {
   "cell_type": "code",
   "execution_count": null,
   "metadata": {
    "colab": {
     "base_uri": "https://localhost:8080/",
     "height": 399
    },
    "colab_type": "code",
    "executionInfo": {
     "elapsed": 2198,
     "status": "ok",
     "timestamp": 1577710490581,
     "user": {
      "displayName": "Raghuvansh Raj",
      "photoUrl": "",
      "userId": "11591486281518120801"
     },
     "user_tz": -330
    },
    "id": "tjh_rwS2stGV",
    "outputId": "93ce84ae-948a-495c-99d7-5a22a23ed54f"
   },
   "outputs": [],
   "source": [
    "plot_confusion_matrix(\n",
    "    cm,\n",
    "    classes=['Normal', 'DoS', 'Probe', 'U2R', 'R2L'],\n",
    "    title='Final Confusion',\n",
    "    save=True,\n",
    "    normalize=True,\n",
    "    cmap=plt.cm.Greys\n",
    ")"
   ]
  },
  {
   "cell_type": "code",
   "execution_count": null,
   "metadata": {
    "colab": {},
    "colab_type": "code",
    "id": "vu6Kd4G7s7KF"
   },
   "outputs": [],
   "source": []
  }
 ],
 "metadata": {
  "accelerator": "GPU",
  "colab": {
   "collapsed_sections": [
    "JWNIO1QwC_5s",
    "FxQ9N44MDEX7",
    "1ug8ztVBjd3m",
    "Wn2qhflh79FV",
    "98gSt69fsNIA",
    "n9hzrdFAGlYi",
    "oxmLo9uJy2s3",
    "00RwNV1s60Z0",
    "jzzDAWR6i6xK"
   ],
   "machine_shape": "hm",
   "name": "Intrusion-Detection-Model.ipynb",
   "provenance": [],
   "toc_visible": true
  },
  "kernelspec": {
   "display_name": "Python 3",
   "language": "python",
   "name": "python3"
  },
  "language_info": {
   "codemirror_mode": {
    "name": "ipython",
    "version": 3
   },
   "file_extension": ".py",
   "mimetype": "text/x-python",
   "name": "python",
   "nbconvert_exporter": "python",
   "pygments_lexer": "ipython3",
   "version": "3.7.6"
  }
 },
 "nbformat": 4,
 "nbformat_minor": 1
}
