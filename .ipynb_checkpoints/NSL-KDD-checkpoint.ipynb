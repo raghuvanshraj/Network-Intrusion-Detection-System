{
 "cells": [
  {
   "cell_type": "markdown",
   "metadata": {
    "colab_type": "text",
    "id": "dSH1KOsADNJZ"
   },
   "source": [
    "## Mounting Google Drive"
   ]
  },
  {
   "cell_type": "code",
   "execution_count": null,
   "metadata": {
    "colab": {
     "base_uri": "https://localhost:8080/",
     "height": 127
    },
    "colab_type": "code",
    "executionInfo": {
     "elapsed": 23612,
     "status": "ok",
     "timestamp": 1577696025636,
     "user": {
      "displayName": "Raghuvansh Raj",
      "photoUrl": "",
      "userId": "11591486281518120801"
     },
     "user_tz": -330
    },
    "id": "aca6eqoTDERE",
    "outputId": "47cbb469-2127-47e0-f442-a89753fdeb4a"
   },
   "outputs": [],
   "source": [
    "from google.colab import drive\n",
    "drive.mount('/content/drive')"
   ]
  },
  {
   "cell_type": "markdown",
   "metadata": {
    "colab_type": "text",
    "id": "a3ZB5KKgtaOn"
   },
   "source": [
    "## Imports"
   ]
  },
  {
   "cell_type": "code",
   "execution_count": null,
   "metadata": {
    "colab": {},
    "colab_type": "code",
    "id": "pnEHyOYmDFQ9"
   },
   "outputs": [],
   "source": [
    "import pandas as pd\n",
    "import os\n",
    "import numpy as np\n",
    "from sklearn.preprocessing import OneHotEncoder, MinMaxScaler\n",
    "from sklearn.decomposition import PCA\n",
    "import joblib\n",
    "import matplotlib.pyplot as plt"
   ]
  },
  {
   "cell_type": "markdown",
   "metadata": {
    "colab_type": "text",
    "id": "BhxA5PlkDRIV"
   },
   "source": [
    "## Reading Data"
   ]
  },
  {
   "cell_type": "code",
   "execution_count": null,
   "metadata": {
    "colab": {},
    "colab_type": "code",
    "id": "yIZk4qPTDZR1"
   },
   "outputs": [],
   "source": [
    "DATA_DIR = '/content/drive/My Drive/Colab Notebooks/Intrusion Detection/data/NSL-KDD'"
   ]
  },
  {
   "cell_type": "markdown",
   "metadata": {
    "colab_type": "text",
    "id": "l9ZeF6W4137G"
   },
   "source": [
    "### Training Data"
   ]
  },
  {
   "cell_type": "code",
   "execution_count": null,
   "metadata": {
    "colab": {},
    "colab_type": "code",
    "id": "vAnppxafDsR4"
   },
   "outputs": [],
   "source": [
    "train_data = pd.read_csv(os.path.join(DATA_DIR, 'KDDTrain+.txt'), header=None)"
   ]
  },
  {
   "cell_type": "code",
   "execution_count": null,
   "metadata": {
    "colab": {
     "base_uri": "https://localhost:8080/",
     "height": 224
    },
    "colab_type": "code",
    "executionInfo": {
     "elapsed": 4183,
     "status": "ok",
     "timestamp": 1577696037838,
     "user": {
      "displayName": "Raghuvansh Raj",
      "photoUrl": "",
      "userId": "11591486281518120801"
     },
     "user_tz": -330
    },
    "id": "-wFqAck4D0jd",
    "outputId": "53932467-a3d6-42b3-dcd6-ce3405390a24"
   },
   "outputs": [],
   "source": [
    "train_data.head()"
   ]
  },
  {
   "cell_type": "markdown",
   "metadata": {
    "colab_type": "text",
    "id": "svBpEYS716fd"
   },
   "source": [
    "### Testing Data"
   ]
  },
  {
   "cell_type": "code",
   "execution_count": null,
   "metadata": {
    "colab": {},
    "colab_type": "code",
    "id": "pb-5yBCa18eS"
   },
   "outputs": [],
   "source": [
    "test_data = pd.read_csv(os.path.join(DATA_DIR, 'KDDTest+.txt'), header=None)"
   ]
  },
  {
   "cell_type": "code",
   "execution_count": null,
   "metadata": {
    "colab": {
     "base_uri": "https://localhost:8080/",
     "height": 224
    },
    "colab_type": "code",
    "executionInfo": {
     "elapsed": 1206,
     "status": "ok",
     "timestamp": 1577696038354,
     "user": {
      "displayName": "Raghuvansh Raj",
      "photoUrl": "",
      "userId": "11591486281518120801"
     },
     "user_tz": -330
    },
    "id": "eG_1xG6V187V",
    "outputId": "2f886df1-48b7-4e4a-a72c-dd8031ac5a21"
   },
   "outputs": [],
   "source": [
    "test_data.head()"
   ]
  },
  {
   "cell_type": "markdown",
   "metadata": {
    "colab_type": "text",
    "id": "A_JxF4QPEB7k"
   },
   "source": [
    "## Splitting Data Into Numeric and Nominal Features"
   ]
  },
  {
   "cell_type": "markdown",
   "metadata": {
    "colab_type": "text",
    "id": "0D3Gcrds10Cr"
   },
   "source": [
    "### Dropping Redundant Columns"
   ]
  },
  {
   "cell_type": "code",
   "execution_count": null,
   "metadata": {
    "colab": {},
    "colab_type": "code",
    "id": "dxH2GUamSlpu"
   },
   "outputs": [],
   "source": [
    "def remove_redundant_attributes(train_data, test_data):\n",
    "    drop_cols = []\n",
    "    for i in range(41):\n",
    "        if train_data.loc[:, i].min() == train_data.loc[:, i].max():\n",
    "            drop_cols.append(i)\n",
    "    \n",
    "    train_data_dropped = train_data.drop(drop_cols, axis=1)\n",
    "    test_data_dropped = test_data.drop(drop_cols, axis=1)\n",
    "\n",
    "    return train_data_dropped, test_data_dropped, drop_cols"
   ]
  },
  {
   "cell_type": "code",
   "execution_count": null,
   "metadata": {
    "colab": {},
    "colab_type": "code",
    "id": "y3I2I3sLUNcN"
   },
   "outputs": [],
   "source": [
    "train_data_dropped, test_data_dropped, dropped_cols = remove_redundant_attributes(\n",
    "    train_data, test_data\n",
    ")"
   ]
  },
  {
   "cell_type": "code",
   "execution_count": null,
   "metadata": {
    "colab": {
     "base_uri": "https://localhost:8080/",
     "height": 35
    },
    "colab_type": "code",
    "executionInfo": {
     "elapsed": 1120,
     "status": "ok",
     "timestamp": 1577696041719,
     "user": {
      "displayName": "Raghuvansh Raj",
      "photoUrl": "",
      "userId": "11591486281518120801"
     },
     "user_tz": -330
    },
    "id": "DpOI3xTVtEAN",
    "outputId": "97500d6c-0ec1-4e73-f09b-547d6988f5bb"
   },
   "outputs": [],
   "source": [
    "dropped_cols"
   ]
  },
  {
   "cell_type": "code",
   "execution_count": null,
   "metadata": {
    "colab": {
     "base_uri": "https://localhost:8080/",
     "height": 224
    },
    "colab_type": "code",
    "executionInfo": {
     "elapsed": 960,
     "status": "ok",
     "timestamp": 1577696042155,
     "user": {
      "displayName": "Raghuvansh Raj",
      "photoUrl": "",
      "userId": "11591486281518120801"
     },
     "user_tz": -330
    },
    "id": "Kr1yWjhFUPzV",
    "outputId": "7436ff6f-34ab-4cd1-f321-80cf5ae26396"
   },
   "outputs": [],
   "source": [
    "train_data_dropped.head()"
   ]
  },
  {
   "cell_type": "code",
   "execution_count": null,
   "metadata": {
    "colab": {
     "base_uri": "https://localhost:8080/",
     "height": 224
    },
    "colab_type": "code",
    "executionInfo": {
     "elapsed": 1225,
     "status": "ok",
     "timestamp": 1577696042886,
     "user": {
      "displayName": "Raghuvansh Raj",
      "photoUrl": "",
      "userId": "11591486281518120801"
     },
     "user_tz": -330
    },
    "id": "zcX--ZiztI0D",
    "outputId": "1dac32bb-c150-4791-c79f-a4536354cc4f"
   },
   "outputs": [],
   "source": [
    "test_data_dropped.head()"
   ]
  },
  {
   "cell_type": "markdown",
   "metadata": {
    "colab_type": "text",
    "id": "bjXvqGUYku2F"
   },
   "source": [
    "### Numeric Features"
   ]
  },
  {
   "cell_type": "code",
   "execution_count": null,
   "metadata": {
    "colab": {},
    "colab_type": "code",
    "id": "fLUj8qB89FGF"
   },
   "outputs": [],
   "source": [
    "numeric_features = np.asarray(\n",
    "    pd.concat(\n",
    "        [pd.DataFrame(train_data_dropped.loc[:,0]), train_data_dropped.loc[:, 4:40]],\n",
    "        axis=1\n",
    "    )\n",
    ")"
   ]
  },
  {
   "cell_type": "markdown",
   "metadata": {
    "colab_type": "text",
    "id": "4x9aJ9so14hz"
   },
   "source": [
    "#### MinMaxScaler"
   ]
  },
  {
   "cell_type": "code",
   "execution_count": null,
   "metadata": {
    "colab": {
     "base_uri": "https://localhost:8080/",
     "height": 35
    },
    "colab_type": "code",
    "executionInfo": {
     "elapsed": 950,
     "status": "ok",
     "timestamp": 1577696044893,
     "user": {
      "displayName": "Raghuvansh Raj",
      "photoUrl": "",
      "userId": "11591486281518120801"
     },
     "user_tz": -330
    },
    "id": "RBQtxkNeSBr8",
    "outputId": "af87bd7d-d7cc-4da8-dc59-8b6a5e991e37"
   },
   "outputs": [],
   "source": [
    "min_max_scaler_numeric = MinMaxScaler()\n",
    "min_max_scaler_numeric.fit(numeric_features)"
   ]
  },
  {
   "cell_type": "markdown",
   "metadata": {
    "colab_type": "text",
    "id": "3W53Wemz9Vlm"
   },
   "source": [
    "#### Extraction"
   ]
  },
  {
   "cell_type": "code",
   "execution_count": null,
   "metadata": {
    "colab": {},
    "colab_type": "code",
    "id": "lTD_OQp62bH7"
   },
   "outputs": [],
   "source": [
    "def extract_numeric_features(data, min_max_scaler):\n",
    "    numeric_features = np.asarray(\n",
    "        pd.concat(\n",
    "            [pd.DataFrame(data.loc[:,0]), data.loc[:, 4:40]],\n",
    "            axis=1\n",
    "        )\n",
    "    )\n",
    "    \n",
    "    numeric_features_scaled = min_max_scaler.transform(numeric_features)\n",
    "    numeric_features_final = numeric_features_scaled.astype('float64')\n",
    "    \n",
    "    return np.asarray(numeric_features_final)"
   ]
  },
  {
   "cell_type": "code",
   "execution_count": null,
   "metadata": {
    "colab": {},
    "colab_type": "code",
    "id": "kH9dOSHr3hfE"
   },
   "outputs": [],
   "source": [
    "numeric_features_train = extract_numeric_features(train_data_dropped, min_max_scaler_numeric)"
   ]
  },
  {
   "cell_type": "code",
   "execution_count": null,
   "metadata": {
    "colab": {
     "base_uri": "https://localhost:8080/",
     "height": 35
    },
    "colab_type": "code",
    "executionInfo": {
     "elapsed": 1553,
     "status": "ok",
     "timestamp": 1577696055755,
     "user": {
      "displayName": "Raghuvansh Raj",
      "photoUrl": "",
      "userId": "11591486281518120801"
     },
     "user_tz": -330
    },
    "id": "Hpxpx_FW3sYb",
    "outputId": "6a699d56-9cc2-4e1c-cd3d-662b535ab747"
   },
   "outputs": [],
   "source": [
    "numeric_features_train.shape"
   ]
  },
  {
   "cell_type": "code",
   "execution_count": null,
   "metadata": {
    "colab": {},
    "colab_type": "code",
    "id": "elFu9zkE314Z"
   },
   "outputs": [],
   "source": [
    "numeric_features_test = extract_numeric_features(test_data_dropped, min_max_scaler_numeric)"
   ]
  },
  {
   "cell_type": "code",
   "execution_count": null,
   "metadata": {
    "colab": {
     "base_uri": "https://localhost:8080/",
     "height": 35
    },
    "colab_type": "code",
    "executionInfo": {
     "elapsed": 664,
     "status": "ok",
     "timestamp": 1577696055764,
     "user": {
      "displayName": "Raghuvansh Raj",
      "photoUrl": "",
      "userId": "11591486281518120801"
     },
     "user_tz": -330
    },
    "id": "C_cYS6pu37AA",
    "outputId": "6c0afb11-d8ca-4f54-bfc2-b95553b400ad"
   },
   "outputs": [],
   "source": [
    "numeric_features_test.shape"
   ]
  },
  {
   "cell_type": "markdown",
   "metadata": {
    "colab_type": "text",
    "id": "PWIfKl9ik1f9"
   },
   "source": [
    "### Nominal Features"
   ]
  },
  {
   "cell_type": "code",
   "execution_count": null,
   "metadata": {
    "colab": {},
    "colab_type": "code",
    "id": "Mi2YEvSw_Tcw"
   },
   "outputs": [],
   "source": [
    "nominal_features = np.asarray(train_data.loc[:, 1:3])"
   ]
  },
  {
   "cell_type": "markdown",
   "metadata": {
    "colab_type": "text",
    "id": "wPh3aTAE628p"
   },
   "source": [
    "#### One Hot Encoder"
   ]
  },
  {
   "cell_type": "code",
   "execution_count": null,
   "metadata": {
    "colab": {
     "base_uri": "https://localhost:8080/",
     "height": 71
    },
    "colab_type": "code",
    "executionInfo": {
     "elapsed": 828,
     "status": "ok",
     "timestamp": 1577696057440,
     "user": {
      "displayName": "Raghuvansh Raj",
      "photoUrl": "",
      "userId": "11591486281518120801"
     },
     "user_tz": -330
    },
    "id": "9aMcEZgV6fzt",
    "outputId": "133522fb-7c5a-4cb5-caaa-b7ff28298678"
   },
   "outputs": [],
   "source": [
    "one_hot_encoder = OneHotEncoder(sparse=False)\n",
    "one_hot_encoder.fit(nominal_features)"
   ]
  },
  {
   "cell_type": "code",
   "execution_count": null,
   "metadata": {
    "colab": {
     "base_uri": "https://localhost:8080/",
     "height": 35
    },
    "colab_type": "code",
    "executionInfo": {
     "elapsed": 648,
     "status": "ok",
     "timestamp": 1577696057446,
     "user": {
      "displayName": "Raghuvansh Raj",
      "photoUrl": "",
      "userId": "11591486281518120801"
     },
     "user_tz": -330
    },
    "id": "Of-wjFZq7DF3",
    "outputId": "55c72bf5-41a6-4091-e6fd-4f3f56c87a7f"
   },
   "outputs": [],
   "source": [
    "list(map(len, one_hot_encoder.categories_))"
   ]
  },
  {
   "cell_type": "markdown",
   "metadata": {
    "colab_type": "text",
    "id": "_kg3IHr97uai"
   },
   "source": [
    "#### Extraction"
   ]
  },
  {
   "cell_type": "code",
   "execution_count": null,
   "metadata": {
    "colab": {},
    "colab_type": "code",
    "id": "8eeYDQUN3MKr"
   },
   "outputs": [],
   "source": [
    "def extract_nominal_features(data, one_hot_encoder):\n",
    "    nominal_features = np.asarray(data.loc[:, 1:3])\n",
    "\n",
    "    nominal_features_one_hot = one_hot_encoder.transform(nominal_features)\n",
    "    nominal_features_final = nominal_features_one_hot.astype('float64')\n",
    "    \n",
    "    return nominal_features_final"
   ]
  },
  {
   "cell_type": "code",
   "execution_count": null,
   "metadata": {
    "colab": {},
    "colab_type": "code",
    "id": "GdpaScrM3_4O"
   },
   "outputs": [],
   "source": [
    "nominal_features_train = extract_nominal_features(train_data, one_hot_encoder)"
   ]
  },
  {
   "cell_type": "code",
   "execution_count": null,
   "metadata": {
    "colab": {
     "base_uri": "https://localhost:8080/",
     "height": 35
    },
    "colab_type": "code",
    "executionInfo": {
     "elapsed": 1295,
     "status": "ok",
     "timestamp": 1577696059732,
     "user": {
      "displayName": "Raghuvansh Raj",
      "photoUrl": "",
      "userId": "11591486281518120801"
     },
     "user_tz": -330
    },
    "id": "-yNEotvV4IGg",
    "outputId": "2fff51b9-8981-4b81-bc35-f4adb527e515"
   },
   "outputs": [],
   "source": [
    "nominal_features_train.shape"
   ]
  },
  {
   "cell_type": "code",
   "execution_count": null,
   "metadata": {
    "colab": {},
    "colab_type": "code",
    "id": "x3AcZL4Z4SNx"
   },
   "outputs": [],
   "source": [
    "nominal_features_test = extract_nominal_features(test_data, one_hot_encoder)"
   ]
  },
  {
   "cell_type": "code",
   "execution_count": null,
   "metadata": {
    "colab": {
     "base_uri": "https://localhost:8080/",
     "height": 35
    },
    "colab_type": "code",
    "executionInfo": {
     "elapsed": 1133,
     "status": "ok",
     "timestamp": 1577696060421,
     "user": {
      "displayName": "Raghuvansh Raj",
      "photoUrl": "",
      "userId": "11591486281518120801"
     },
     "user_tz": -330
    },
    "id": "8rdoBGQI4WRs",
    "outputId": "d1c4396f-f8b6-43da-c666-0179099ca1cb"
   },
   "outputs": [],
   "source": [
    "nominal_features_test.shape"
   ]
  },
  {
   "cell_type": "markdown",
   "metadata": {
    "colab_type": "text",
    "id": "CvbLtfAX8gS7"
   },
   "source": [
    "## Final Features"
   ]
  },
  {
   "cell_type": "markdown",
   "metadata": {
    "colab_type": "text",
    "id": "Xm7vJz7f8nlK"
   },
   "source": [
    "### Training"
   ]
  },
  {
   "cell_type": "code",
   "execution_count": null,
   "metadata": {
    "colab": {},
    "colab_type": "code",
    "id": "4eYQaYbKha1E"
   },
   "outputs": [],
   "source": [
    "final_features_train = np.concatenate([numeric_features_train, nominal_features_train], axis=1)"
   ]
  },
  {
   "cell_type": "code",
   "execution_count": null,
   "metadata": {
    "colab": {
     "base_uri": "https://localhost:8080/",
     "height": 35
    },
    "colab_type": "code",
    "executionInfo": {
     "elapsed": 994,
     "status": "ok",
     "timestamp": 1577696061971,
     "user": {
      "displayName": "Raghuvansh Raj",
      "photoUrl": "",
      "userId": "11591486281518120801"
     },
     "user_tz": -330
    },
    "id": "W_h04avCl6pH",
    "outputId": "096bb1d8-af73-448e-bf08-96e5f860361e"
   },
   "outputs": [],
   "source": [
    "final_features_train.shape"
   ]
  },
  {
   "cell_type": "markdown",
   "metadata": {
    "colab_type": "text",
    "id": "JQgvMkxEHPow"
   },
   "source": [
    "### Testing"
   ]
  },
  {
   "cell_type": "code",
   "execution_count": null,
   "metadata": {
    "colab": {},
    "colab_type": "code",
    "id": "KCRjoDQj-GDM"
   },
   "outputs": [],
   "source": [
    "final_features_test = np.concatenate([numeric_features_test, nominal_features_test], axis=1)"
   ]
  },
  {
   "cell_type": "code",
   "execution_count": null,
   "metadata": {
    "colab": {
     "base_uri": "https://localhost:8080/",
     "height": 35
    },
    "colab_type": "code",
    "executionInfo": {
     "elapsed": 1209,
     "status": "ok",
     "timestamp": 1577696063135,
     "user": {
      "displayName": "Raghuvansh Raj",
      "photoUrl": "",
      "userId": "11591486281518120801"
     },
     "user_tz": -330
    },
    "id": "39V9LnIo-LLp",
    "outputId": "c191d17f-d09a-4d85-aa9a-753d9b62822b"
   },
   "outputs": [],
   "source": [
    "final_features_test.shape"
   ]
  },
  {
   "cell_type": "markdown",
   "metadata": {
    "colab_type": "text",
    "id": "cJ51LtZoN6W-"
   },
   "source": [
    "### PCA"
   ]
  },
  {
   "cell_type": "code",
   "execution_count": null,
   "metadata": {
    "colab": {
     "base_uri": "https://localhost:8080/",
     "height": 53
    },
    "colab_type": "code",
    "executionInfo": {
     "elapsed": 4162,
     "status": "ok",
     "timestamp": 1577706332820,
     "user": {
      "displayName": "Raghuvansh Raj",
      "photoUrl": "",
      "userId": "11591486281518120801"
     },
     "user_tz": -330
    },
    "id": "N65rIRlwN7nE",
    "outputId": "f361e784-d663-483f-dd52-07244ce391b8"
   },
   "outputs": [],
   "source": [
    "pca = PCA()\n",
    "pca.fit(final_features_train)"
   ]
  },
  {
   "cell_type": "code",
   "execution_count": null,
   "metadata": {
    "colab": {},
    "colab_type": "code",
    "id": "3M7sHFz3OLn6"
   },
   "outputs": [],
   "source": [
    "def get_components(pca, threshold):\n",
    "    if threshold >= 1:\n",
    "        threshold /= 100\n",
    "    \n",
    "    ratio_sum = 0\n",
    "    i = 0\n",
    "    for ratio in pca.explained_variance_ratio_:\n",
    "        i += 1\n",
    "        ratio_sum += ratio\n",
    "        if ratio_sum >= threshold:\n",
    "            return i, ratio_sum\n",
    "    \n",
    "    return None, None"
   ]
  },
  {
   "cell_type": "code",
   "execution_count": null,
   "metadata": {
    "colab": {
     "base_uri": "https://localhost:8080/",
     "height": 35
    },
    "colab_type": "code",
    "executionInfo": {
     "elapsed": 1100,
     "status": "ok",
     "timestamp": 1577706333179,
     "user": {
      "displayName": "Raghuvansh Raj",
      "photoUrl": "",
      "userId": "11591486281518120801"
     },
     "user_tz": -330
    },
    "id": "joj-UzQmOOv5",
    "outputId": "93168f8d-bb04-4faf-8c62-4b78a32eb315"
   },
   "outputs": [],
   "source": [
    "get_components(pca, threshold=0.99)"
   ]
  },
  {
   "cell_type": "code",
   "execution_count": null,
   "metadata": {
    "colab": {
     "base_uri": "https://localhost:8080/",
     "height": 35
    },
    "colab_type": "code",
    "executionInfo": {
     "elapsed": 911,
     "status": "ok",
     "timestamp": 1577706333183,
     "user": {
      "displayName": "Raghuvansh Raj",
      "photoUrl": "",
      "userId": "11591486281518120801"
     },
     "user_tz": -330
    },
    "id": "1mxOQsw7BaFw",
    "outputId": "fa9823de-3794-4e97-97cc-6a883677437f"
   },
   "outputs": [],
   "source": [
    "variance_ratios = [0]\n",
    "curr_sum = 0\n",
    "for ratio in pca.explained_variance_ratio_:\n",
    "    curr_sum += ratio\n",
    "    variance_ratios.append(curr_sum)\n",
    "\n",
    "len(variance_ratios)"
   ]
  },
  {
   "cell_type": "code",
   "execution_count": null,
   "metadata": {
    "colab": {
     "base_uri": "https://localhost:8080/",
     "height": 35
    },
    "colab_type": "code",
    "executionInfo": {
     "elapsed": 751,
     "status": "ok",
     "timestamp": 1577706333742,
     "user": {
      "displayName": "Raghuvansh Raj",
      "photoUrl": "",
      "userId": "11591486281518120801"
     },
     "user_tz": -330
    },
    "id": "xgCSxBG_PYXm",
    "outputId": "194f866a-481c-4261-f113-43e4c608528b"
   },
   "outputs": [],
   "source": [
    "np.linspace(10, 120, 12, dtype='int64') - 1"
   ]
  },
  {
   "cell_type": "code",
   "execution_count": null,
   "metadata": {
    "colab": {
     "base_uri": "https://localhost:8080/",
     "height": 497
    },
    "colab_type": "code",
    "executionInfo": {
     "elapsed": 1497,
     "status": "ok",
     "timestamp": 1577706334868,
     "user": {
      "displayName": "Raghuvansh Raj",
      "photoUrl": "",
      "userId": "11591486281518120801"
     },
     "user_tz": -330
    },
    "id": "g2Z3djo2Fl8d",
    "outputId": "6e153856-ee5e-49d4-bba4-ffd2280726f5"
   },
   "outputs": [],
   "source": [
    "plt.figure(figsize=(8,8))\n",
    "plt.plot(\n",
    "    np.arange(122),\n",
    "    variance_ratios,\n",
    "    'k--',\n",
    "    markevery=20,\n",
    "    marker='D'\n",
    ")\n",
    "\n",
    "plt.grid()\n",
    "\n",
    "plt.xlabel('Retained Components')\n",
    "plt.ylabel('Retained Variance Ratio')\n",
    "\n",
    "plt.savefig('Principal Component Analysis.png')"
   ]
  },
  {
   "cell_type": "markdown",
   "metadata": {
    "colab_type": "text",
    "id": "MePEAO89OlJk"
   },
   "source": [
    "#### 67 Components"
   ]
  },
  {
   "cell_type": "code",
   "execution_count": null,
   "metadata": {
    "colab": {
     "base_uri": "https://localhost:8080/",
     "height": 53
    },
    "colab_type": "code",
    "executionInfo": {
     "elapsed": 5794,
     "status": "ok",
     "timestamp": 1577682377859,
     "user": {
      "displayName": "Raghuvansh Raj",
      "photoUrl": "",
      "userId": "11591486281518120801"
     },
     "user_tz": -330
    },
    "id": "nqOjmm-JOnsx",
    "outputId": "339b2d5b-cacf-4a2b-b1b2-b4b428ae0ca3"
   },
   "outputs": [],
   "source": [
    "pca_67dims = PCA(n_components=67)\n",
    "pca_67dims.fit(final_features_train)"
   ]
  },
  {
   "cell_type": "code",
   "execution_count": null,
   "metadata": {
    "colab": {},
    "colab_type": "code",
    "id": "nCUNuFfZOwuf"
   },
   "outputs": [],
   "source": [
    "train_features_pca = pca_67dims.transform(final_features_train)\n",
    "test_features_pca = pca_67dims.transform(final_features_test)"
   ]
  },
  {
   "cell_type": "markdown",
   "metadata": {
    "colab_type": "text",
    "id": "pUUzfPGYMxc7"
   },
   "source": [
    "### MinMaxScaling"
   ]
  },
  {
   "cell_type": "code",
   "execution_count": null,
   "metadata": {
    "colab": {
     "base_uri": "https://localhost:8080/",
     "height": 35
    },
    "colab_type": "code",
    "executionInfo": {
     "elapsed": 1279,
     "status": "ok",
     "timestamp": 1577682475873,
     "user": {
      "displayName": "Raghuvansh Raj",
      "photoUrl": "",
      "userId": "11591486281518120801"
     },
     "user_tz": -330
    },
    "id": "5vf1bMQuM0Lq",
    "outputId": "120d4967-767a-42d7-c71c-983f4780b0e6"
   },
   "outputs": [],
   "source": [
    "min_max_scaler_pca = MinMaxScaler()\n",
    "min_max_scaler_pca.fit(train_features_pca)"
   ]
  },
  {
   "cell_type": "code",
   "execution_count": null,
   "metadata": {
    "colab": {},
    "colab_type": "code",
    "id": "tu7yd_L8NCpr"
   },
   "outputs": [],
   "source": [
    "train_features_scaled = min_max_scaler_pca.transform(train_features_pca)\n",
    "test_features_scaled = min_max_scaler_pca.transform(test_features_pca)"
   ]
  },
  {
   "cell_type": "code",
   "execution_count": null,
   "metadata": {
    "colab": {
     "base_uri": "https://localhost:8080/",
     "height": 35
    },
    "colab_type": "code",
    "executionInfo": {
     "elapsed": 1672,
     "status": "ok",
     "timestamp": 1577683133710,
     "user": {
      "displayName": "Raghuvansh Raj",
      "photoUrl": "",
      "userId": "11591486281518120801"
     },
     "user_tz": -330
    },
    "id": "lbd5z2pRPf6O",
    "outputId": "82198b9a-c8f8-4cf2-c025-3682f7307b50"
   },
   "outputs": [],
   "source": [
    "train_features_scaled.shape"
   ]
  },
  {
   "cell_type": "code",
   "execution_count": null,
   "metadata": {
    "colab": {
     "base_uri": "https://localhost:8080/",
     "height": 35
    },
    "colab_type": "code",
    "executionInfo": {
     "elapsed": 1257,
     "status": "ok",
     "timestamp": 1577683143474,
     "user": {
      "displayName": "Raghuvansh Raj",
      "photoUrl": "",
      "userId": "11591486281518120801"
     },
     "user_tz": -330
    },
    "id": "nuvYrffvPivu",
    "outputId": "abb5c980-ecde-4cfa-d47a-f387752b7d37"
   },
   "outputs": [],
   "source": [
    "test_features_scaled.shape"
   ]
  },
  {
   "cell_type": "markdown",
   "metadata": {
    "colab_type": "text",
    "id": "dA28WpdFqaPi"
   },
   "source": [
    "## Processing Labels"
   ]
  },
  {
   "cell_type": "code",
   "execution_count": null,
   "metadata": {
    "colab": {},
    "colab_type": "code",
    "id": "EpNlGqKrDwpf"
   },
   "outputs": [],
   "source": [
    "def combine_classes(labels, combine_dict):\n",
    "    labels_multiclass = np.zeros((labels.shape[0], 5))\n",
    "    for i in range(labels.shape[0]):\n",
    "        labels_multiclass[i, combine_dict[labels[i]]] = 1\n",
    "\n",
    "    labels_binary = np.zeros((labels.shape[0], 2))\n",
    "    for i in range(labels.shape[0]):\n",
    "        if labels[i] == 'normal':\n",
    "            labels_binary[i, 0] = 1\n",
    "        else:\n",
    "            labels_binary[i, 1] = 1\n",
    "        \n",
    "    return pd.DataFrame(labels_multiclass).astype('int64'), pd.DataFrame(labels_binary).astype('int64')"
   ]
  },
  {
   "cell_type": "code",
   "execution_count": null,
   "metadata": {
    "colab": {},
    "colab_type": "code",
    "id": "pEHoUUjE-QAL"
   },
   "outputs": [],
   "source": [
    "def extract_labels(data):\n",
    "    labels = np.asarray(data.loc[:, 41])\n",
    "    combine_dict = {\n",
    "        'normal': 0,\n",
    "        'neptune': 1,\n",
    "        'warezclient': 3,\n",
    "        'ipsweep': 2,\n",
    "        'portsweep': 2,\n",
    "        'teardrop': 1, \n",
    "        'nmap': 2, \n",
    "        'satan': 2, \n",
    "        'smurf': 1, \n",
    "        'pod': 1, \n",
    "        'back': 1,\n",
    "        'guess_passwd': 3, \n",
    "        'ftp_write': 3, \n",
    "        'multihop': 3, \n",
    "        'rootkit': 4,\n",
    "        'buffer_overflow': 4, \n",
    "        'imap': 3, \n",
    "        'warezmaster': 3, \n",
    "        'phf': 3, \n",
    "        'land': 1,\n",
    "        'loadmodule': 4, \n",
    "        'spy': 3, \n",
    "        'perl': 4,\n",
    "        'saint': 2,\n",
    "        'mscan': 2,\n",
    "        'apache2': 1,\n",
    "        'snmpgetattack': 3,\n",
    "        'processtable': 1,\n",
    "        'httptunnel': 3,\n",
    "        'ps': 4,\n",
    "        'snmpguess': 3,\n",
    "        'named': 3,\n",
    "        'sendmail': 3,\n",
    "        'xterm': 3,\n",
    "        'worm': 1,\n",
    "        'xlock': 3,\n",
    "        'xsnoop': 3,\n",
    "        'sqlattack': 4,\n",
    "        'udpstorm': 1,\n",
    "        'mailbomb': 3\n",
    "    }\n",
    "    \n",
    "    final_labels, final_binary_labels = combine_classes(labels, combine_dict)\n",
    "    \n",
    "    return final_labels, final_binary_labels"
   ]
  },
  {
   "cell_type": "code",
   "execution_count": null,
   "metadata": {
    "colab": {},
    "colab_type": "code",
    "id": "9tmW_lVt-56W"
   },
   "outputs": [],
   "source": [
    "train_labels_multiclass, train_labels_binary = extract_labels(train_data)"
   ]
  },
  {
   "cell_type": "code",
   "execution_count": null,
   "metadata": {
    "colab": {
     "base_uri": "https://localhost:8080/",
     "height": 35
    },
    "colab_type": "code",
    "executionInfo": {
     "elapsed": 1159,
     "status": "ok",
     "timestamp": 1577682707521,
     "user": {
      "displayName": "Raghuvansh Raj",
      "photoUrl": "",
      "userId": "11591486281518120801"
     },
     "user_tz": -330
    },
    "id": "LML-AwJi_L2d",
    "outputId": "83092aec-79b6-4c50-9643-2a3e7f89a908"
   },
   "outputs": [],
   "source": [
    "train_labels_multiclass.shape, train_labels_binary.shape"
   ]
  },
  {
   "cell_type": "code",
   "execution_count": null,
   "metadata": {
    "colab": {},
    "colab_type": "code",
    "id": "ObwSkFwH_QL0"
   },
   "outputs": [],
   "source": [
    "test_labels_multiclass, test_labels_binary = extract_labels(test_data)"
   ]
  },
  {
   "cell_type": "code",
   "execution_count": null,
   "metadata": {
    "colab": {
     "base_uri": "https://localhost:8080/",
     "height": 35
    },
    "colab_type": "code",
    "executionInfo": {
     "elapsed": 1498,
     "status": "ok",
     "timestamp": 1577682714790,
     "user": {
      "displayName": "Raghuvansh Raj",
      "photoUrl": "",
      "userId": "11591486281518120801"
     },
     "user_tz": -330
    },
    "id": "ttDFeGGZHFSz",
    "outputId": "d1f075db-bda2-43aa-9776-7e3e61ea888d"
   },
   "outputs": [],
   "source": [
    "test_labels_multiclass.shape, test_labels_binary.shape"
   ]
  },
  {
   "cell_type": "markdown",
   "metadata": {
    "colab_type": "text",
    "id": "7BMWsoWInmYc"
   },
   "source": [
    "## Saving Final CSVs"
   ]
  },
  {
   "cell_type": "code",
   "execution_count": null,
   "metadata": {
    "colab": {},
    "colab_type": "code",
    "id": "ZV2_RQctFjIT"
   },
   "outputs": [],
   "source": [
    "def save_csv(data, name):\n",
    "    if isinstance(data, np.ndarray):\n",
    "        data = pd.DataFrame(data=data[0:, 0:])\n",
    "    \n",
    "    data.to_csv(name, header=False, index=False)"
   ]
  },
  {
   "cell_type": "markdown",
   "metadata": {
    "colab_type": "text",
    "id": "U8NCOgb7lmGd"
   },
   "source": [
    "### Training"
   ]
  },
  {
   "cell_type": "code",
   "execution_count": null,
   "metadata": {
    "colab": {},
    "colab_type": "code",
    "id": "_w3r1oQjJuyu"
   },
   "outputs": [],
   "source": [
    "save_csv(train_features_scaled, 'train_features.csv')"
   ]
  },
  {
   "cell_type": "code",
   "execution_count": null,
   "metadata": {
    "colab": {},
    "colab_type": "code",
    "id": "NjyZVNH9l8yk"
   },
   "outputs": [],
   "source": [
    "save_csv(train_labels_multiclass, 'train_labels_multiclass.csv')"
   ]
  },
  {
   "cell_type": "code",
   "execution_count": null,
   "metadata": {
    "colab": {},
    "colab_type": "code",
    "id": "y_Cth7smmDSq"
   },
   "outputs": [],
   "source": [
    "save_csv(train_labels_binary, 'train_labels_binary.csv')"
   ]
  },
  {
   "cell_type": "markdown",
   "metadata": {
    "colab_type": "text",
    "id": "mCNRqw4jmGHr"
   },
   "source": [
    "### Testing"
   ]
  },
  {
   "cell_type": "code",
   "execution_count": null,
   "metadata": {
    "colab": {},
    "colab_type": "code",
    "id": "v9Yy1ikBHj3G"
   },
   "outputs": [],
   "source": [
    "save_csv(test_features_scaled, 'test_features.csv')"
   ]
  },
  {
   "cell_type": "code",
   "execution_count": null,
   "metadata": {
    "colab": {},
    "colab_type": "code",
    "id": "l1H2clU8Hwqc"
   },
   "outputs": [],
   "source": [
    "save_csv(test_labels_multiclass, 'test_labels_multiclass.csv')"
   ]
  },
  {
   "cell_type": "code",
   "execution_count": null,
   "metadata": {
    "colab": {},
    "colab_type": "code",
    "id": "AHj2FUivP_yZ"
   },
   "outputs": [],
   "source": [
    "save_csv(test_labels_binary, 'test_labels_binary.csv')"
   ]
  },
  {
   "cell_type": "markdown",
   "metadata": {
    "colab_type": "text",
    "id": "21wVeW0fn3wf"
   },
   "source": [
    "## Saving Preprocessing Models"
   ]
  },
  {
   "cell_type": "code",
   "execution_count": null,
   "metadata": {
    "colab": {
     "base_uri": "https://localhost:8080/",
     "height": 35
    },
    "colab_type": "code",
    "executionInfo": {
     "elapsed": 17982,
     "status": "ok",
     "timestamp": 1577682835656,
     "user": {
      "displayName": "Raghuvansh Raj",
      "photoUrl": "",
      "userId": "11591486281518120801"
     },
     "user_tz": -330
    },
    "id": "sU0TaDFtoW5h",
    "outputId": "c9e872a9-edab-4011-b000-93cb703142a5"
   },
   "outputs": [],
   "source": [
    "joblib.dump(min_max_scaler_numeric, 'min_max_scaler_numeric.joblib')"
   ]
  },
  {
   "cell_type": "code",
   "execution_count": null,
   "metadata": {
    "colab": {
     "base_uri": "https://localhost:8080/",
     "height": 35
    },
    "colab_type": "code",
    "executionInfo": {
     "elapsed": 17334,
     "status": "ok",
     "timestamp": 1577682835657,
     "user": {
      "displayName": "Raghuvansh Raj",
      "photoUrl": "",
      "userId": "11591486281518120801"
     },
     "user_tz": -330
    },
    "id": "2fLGd1L0ORBK",
    "outputId": "ca92ad72-40f4-4d46-c6da-4f5501cc2184"
   },
   "outputs": [],
   "source": [
    "joblib.dump(min_max_scaler_pca, 'min_max_scaler_pca.joblib')"
   ]
  },
  {
   "cell_type": "code",
   "execution_count": null,
   "metadata": {
    "colab": {
     "base_uri": "https://localhost:8080/",
     "height": 35
    },
    "colab_type": "code",
    "executionInfo": {
     "elapsed": 16407,
     "status": "ok",
     "timestamp": 1577682835658,
     "user": {
      "displayName": "Raghuvansh Raj",
      "photoUrl": "",
      "userId": "11591486281518120801"
     },
     "user_tz": -330
    },
    "id": "_DV_lncvo0S0",
    "outputId": "fc3ed4cc-1e95-4f1e-c580-6eb4b7568c16"
   },
   "outputs": [],
   "source": [
    "joblib.dump(one_hot_encoder, 'one_hot_encoder.joblib')"
   ]
  },
  {
   "cell_type": "code",
   "execution_count": null,
   "metadata": {
    "colab": {
     "base_uri": "https://localhost:8080/",
     "height": 35
    },
    "colab_type": "code",
    "executionInfo": {
     "elapsed": 15583,
     "status": "ok",
     "timestamp": 1577682835659,
     "user": {
      "displayName": "Raghuvansh Raj",
      "photoUrl": "",
      "userId": "11591486281518120801"
     },
     "user_tz": -330
    },
    "id": "cums5zaPpYny",
    "outputId": "bb80478c-a5be-4ace-d7d9-981b471f2891"
   },
   "outputs": [],
   "source": [
    "joblib.dump(pca_67dims, 'pca_67dims.joblib')"
   ]
  },
  {
   "cell_type": "code",
   "execution_count": null,
   "metadata": {
    "colab": {},
    "colab_type": "code",
    "id": "hkyXQeb2SS9T"
   },
   "outputs": [],
   "source": []
  }
 ],
 "metadata": {
  "colab": {
   "collapsed_sections": [
    "BhxA5PlkDRIV"
   ],
   "name": "NSL-KDD.ipynb",
   "provenance": [],
   "toc_visible": true
  },
  "kernelspec": {
   "display_name": "Python 3",
   "language": "python",
   "name": "python3"
  },
  "language_info": {
   "codemirror_mode": {
    "name": "ipython",
    "version": 3
   },
   "file_extension": ".py",
   "mimetype": "text/x-python",
   "name": "python",
   "nbconvert_exporter": "python",
   "pygments_lexer": "ipython3",
   "version": "3.7.6"
  }
 },
 "nbformat": 4,
 "nbformat_minor": 1
}
