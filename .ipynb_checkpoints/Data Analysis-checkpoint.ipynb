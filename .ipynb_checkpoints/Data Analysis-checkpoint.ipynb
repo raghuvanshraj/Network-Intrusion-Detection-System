{
 "cells": [
  {
   "cell_type": "markdown",
   "metadata": {
    "colab_type": "text",
    "id": "5_PMrvugFZQV"
   },
   "source": [
    "## Mounting Google Drive"
   ]
  },
  {
   "cell_type": "code",
   "execution_count": null,
   "metadata": {
    "colab": {
     "base_uri": "https://localhost:8080/",
     "height": 54
    },
    "colab_type": "code",
    "executionInfo": {
     "elapsed": 1577,
     "status": "ok",
     "timestamp": 1585297014521,
     "user": {
      "displayName": "Raghuvansh Raj",
      "photoUrl": "",
      "userId": "11591486281518120801"
     },
     "user_tz": -330
    },
    "id": "toBEJdkjFcVl",
    "outputId": "31c0f92e-da4e-4e89-e502-83c61704e5c9"
   },
   "outputs": [],
   "source": [
    "from google.colab import drive\n",
    "drive.mount('/content/drive')"
   ]
  },
  {
   "cell_type": "markdown",
   "metadata": {
    "colab_type": "text",
    "id": "jYtDLfqVFZJ5"
   },
   "source": [
    "## Imports"
   ]
  },
  {
   "cell_type": "code",
   "execution_count": null,
   "metadata": {
    "colab": {},
    "colab_type": "code",
    "id": "Ls1SkvXBFiVN"
   },
   "outputs": [],
   "source": [
    "import pandas as pd\n",
    "import numpy as np\n",
    "from sklearn.feature_selection import SelectKBest, chi2\n",
    "from sklearn.preprocessing import MinMaxScaler\n",
    "from sklearn.tree import DecisionTreeClassifier\n",
    "import matplotlib.pyplot as plt\n",
    "import seaborn as sns\n",
    "import os\n",
    "from pprint import pprint"
   ]
  },
  {
   "cell_type": "markdown",
   "metadata": {
    "colab_type": "text",
    "id": "ZEj-p4ENFs-f"
   },
   "source": [
    "## Reading Data"
   ]
  },
  {
   "cell_type": "code",
   "execution_count": null,
   "metadata": {
    "colab": {},
    "colab_type": "code",
    "id": "uc80aNvgF2kx"
   },
   "outputs": [],
   "source": [
    "DATA_DIR = '/content/drive/My Drive/Colab Notebooks/Intrusion Detection/data/NSL-KDD'"
   ]
  },
  {
   "cell_type": "code",
   "execution_count": null,
   "metadata": {
    "colab": {},
    "colab_type": "code",
    "id": "IQLCgtlTKSEn"
   },
   "outputs": [],
   "source": [
    "DATA_COLS = [\n",
    "    'Duration',\n",
    "    'Src Bytes',\n",
    "    'Dst Bytes',\n",
    "    'Land',\n",
    "    'Wrong Fragment',\n",
    "    'Urgent',\n",
    "    'Hot',\n",
    "    'Num Failed Logins',\n",
    "    'Logged In',\n",
    "    'Num Compromised',\n",
    "    'Root Shell',\n",
    "    'Su Attempted',\n",
    "    'Num Root',\n",
    "    'Num File Creations',\n",
    "    'Num Shells',\n",
    "    'Num Access Files',\n",
    "    'Num Outbound Cmds',\n",
    "    'Is Hot Logins',\n",
    "    'Is Guest Login',\n",
    "    'Count',\n",
    "    'Srv Count',\n",
    "    'Serror Rate',\n",
    "    'Srv Serror Rate',\n",
    "    'Rerror Rate',\n",
    "    'Srv Rerror Rate',\n",
    "    'Same Srv Rate',\n",
    "    'Diff Srv Rate',\n",
    "    'Srv Diff Host Rate',\n",
    "    'Dst Host Count',\n",
    "    'Dst Host Srv Count',\n",
    "    'Dst Host Same Srv Rate',\n",
    "    'Dst Host Diff Srv Rate',\n",
    "    'Dst Host Same Src Port Rate',\n",
    "    'Dst Host Srv Diff Host Rate',\n",
    "    'Dst Host Serror Rate',\n",
    "    'Dst Host Srv Serror Rate',\n",
    "    'Dst Host Rerror Rate',\n",
    "    'Dst Host Srv Rerror Rate',\n",
    "    'Protocol Type',\n",
    "    'Service',\n",
    "    'Flag'\n",
    "]"
   ]
  },
  {
   "cell_type": "code",
   "execution_count": null,
   "metadata": {
    "colab": {},
    "colab_type": "code",
    "id": "TpqRoqm4Fu1N"
   },
   "outputs": [],
   "source": [
    "train_data = pd.read_csv(os.path.join(DATA_DIR, 'KDDTrain+.txt'), header=None)"
   ]
  },
  {
   "cell_type": "code",
   "execution_count": null,
   "metadata": {
    "colab": {
     "base_uri": "https://localhost:8080/",
     "height": 224
    },
    "colab_type": "code",
    "executionInfo": {
     "elapsed": 2528,
     "status": "ok",
     "timestamp": 1585297015502,
     "user": {
      "displayName": "Raghuvansh Raj",
      "photoUrl": "",
      "userId": "11591486281518120801"
     },
     "user_tz": -330
    },
    "id": "aEMe41JdGLPa",
    "outputId": "c179de54-c114-425d-8ed4-2e6c85fead6b"
   },
   "outputs": [],
   "source": [
    "train_data.head()"
   ]
  },
  {
   "cell_type": "markdown",
   "metadata": {
    "colab_type": "text",
    "id": "dSQB0kslhxlX"
   },
   "source": [
    "## Data Segregation"
   ]
  },
  {
   "cell_type": "code",
   "execution_count": null,
   "metadata": {
    "colab": {},
    "colab_type": "code",
    "id": "RtBh3uBvhY9F"
   },
   "outputs": [],
   "source": [
    "numeric_features = pd.concat((train_data.iloc[:,0], train_data.iloc[:,4:41]), axis=1)\n",
    "nominal_features = train_data.iloc[:,1:4]\n",
    "labels = train_data.iloc[:,41]"
   ]
  },
  {
   "cell_type": "code",
   "execution_count": null,
   "metadata": {
    "colab": {},
    "colab_type": "code",
    "id": "8MjhBpUfK54m"
   },
   "outputs": [],
   "source": [
    "numeric_cols = DATA_COLS[:-3]\n",
    "nominal_cols = DATA_COLS[-3:]"
   ]
  },
  {
   "cell_type": "code",
   "execution_count": null,
   "metadata": {
    "colab": {
     "base_uri": "https://localhost:8080/",
     "height": 224
    },
    "colab_type": "code",
    "executionInfo": {
     "elapsed": 2511,
     "status": "ok",
     "timestamp": 1585297015505,
     "user": {
      "displayName": "Raghuvansh Raj",
      "photoUrl": "",
      "userId": "11591486281518120801"
     },
     "user_tz": -330
    },
    "id": "ZqEN4s7eG4fm",
    "outputId": "0fbce847-70f4-4cfb-9187-a34823ba7c7f"
   },
   "outputs": [],
   "source": [
    "numeric_features.head()"
   ]
  },
  {
   "cell_type": "code",
   "execution_count": null,
   "metadata": {
    "colab": {
     "base_uri": "https://localhost:8080/",
     "height": 204
    },
    "colab_type": "code",
    "executionInfo": {
     "elapsed": 2502,
     "status": "ok",
     "timestamp": 1585297015506,
     "user": {
      "displayName": "Raghuvansh Raj",
      "photoUrl": "",
      "userId": "11591486281518120801"
     },
     "user_tz": -330
    },
    "id": "ohcUEUCgJaeI",
    "outputId": "2ccf918f-0e15-4a45-f880-7d07902241c5"
   },
   "outputs": [],
   "source": [
    "nominal_features.head()"
   ]
  },
  {
   "cell_type": "code",
   "execution_count": null,
   "metadata": {
    "colab": {
     "base_uri": "https://localhost:8080/",
     "height": 119
    },
    "colab_type": "code",
    "executionInfo": {
     "elapsed": 2492,
     "status": "ok",
     "timestamp": 1585297015507,
     "user": {
      "displayName": "Raghuvansh Raj",
      "photoUrl": "",
      "userId": "11591486281518120801"
     },
     "user_tz": -330
    },
    "id": "eSzW2hYXHocS",
    "outputId": "8bcdf85c-ceb6-4347-929c-b6dc6766a0d3"
   },
   "outputs": [],
   "source": [
    "labels.head()"
   ]
  },
  {
   "cell_type": "code",
   "execution_count": null,
   "metadata": {
    "colab": {},
    "colab_type": "code",
    "id": "J9ks5B1PHqFz"
   },
   "outputs": [],
   "source": [
    "numeric_features_np = numeric_features.to_numpy()\n",
    "nominal_features_np = nominal_features.to_numpy()\n",
    "labels_np = labels.to_numpy()"
   ]
  },
  {
   "cell_type": "markdown",
   "metadata": {
    "colab_type": "text",
    "id": "X6ZTkl8fTbH6"
   },
   "source": [
    "### MinMaxScaler"
   ]
  },
  {
   "cell_type": "code",
   "execution_count": null,
   "metadata": {
    "colab": {},
    "colab_type": "code",
    "id": "P6p_3CloSg3K"
   },
   "outputs": [],
   "source": [
    "min_max_scaler = MinMaxScaler()"
   ]
  },
  {
   "cell_type": "code",
   "execution_count": null,
   "metadata": {
    "colab": {},
    "colab_type": "code",
    "id": "FcDUCbD3SX-Y"
   },
   "outputs": [],
   "source": [
    "numeric_features_scaled = min_max_scaler.fit_transform(numeric_features_np)"
   ]
  },
  {
   "cell_type": "markdown",
   "metadata": {
    "colab_type": "text",
    "id": "3RCAYoMQ_bZE"
   },
   "source": [
    "### Get Dummies"
   ]
  },
  {
   "cell_type": "code",
   "execution_count": null,
   "metadata": {
    "colab": {},
    "colab_type": "code",
    "id": "q0Efl9o__doF"
   },
   "outputs": [],
   "source": [
    "nominal_features_one_hot = pd.get_dummies(nominal_features)"
   ]
  },
  {
   "cell_type": "code",
   "execution_count": null,
   "metadata": {
    "colab": {
     "base_uri": "https://localhost:8080/",
     "height": 253
    },
    "colab_type": "code",
    "executionInfo": {
     "elapsed": 3114,
     "status": "ok",
     "timestamp": 1585297016156,
     "user": {
      "displayName": "Raghuvansh Raj",
      "photoUrl": "",
      "userId": "11591486281518120801"
     },
     "user_tz": -330
    },
    "id": "0Q0-NMl5_lcK",
    "outputId": "d32642f2-eaba-440d-d267-1ed19b852ce3"
   },
   "outputs": [],
   "source": [
    "nominal_features_one_hot.head()"
   ]
  },
  {
   "cell_type": "code",
   "execution_count": null,
   "metadata": {
    "colab": {},
    "colab_type": "code",
    "id": "_e3nBLLp_ssB"
   },
   "outputs": [],
   "source": [
    "nominal_features_one_hot_np = nominal_features_one_hot.to_numpy()"
   ]
  },
  {
   "cell_type": "markdown",
   "metadata": {
    "colab_type": "text",
    "id": "d82JNH96rfW9"
   },
   "source": [
    "## Numeric Features"
   ]
  },
  {
   "cell_type": "markdown",
   "metadata": {
    "colab_type": "text",
    "id": "scBDIo8SI05l"
   },
   "source": [
    "### Univariate Selection"
   ]
  },
  {
   "cell_type": "code",
   "execution_count": null,
   "metadata": {
    "colab": {},
    "colab_type": "code",
    "id": "AxdwMNF0IdTy"
   },
   "outputs": [],
   "source": [
    "select_k_best = SelectKBest(score_func=chi2, k='all')"
   ]
  },
  {
   "cell_type": "code",
   "execution_count": null,
   "metadata": {
    "colab": {},
    "colab_type": "code",
    "id": "51wcRiLyJC3q"
   },
   "outputs": [],
   "source": [
    "k_best = select_k_best.fit(numeric_features_scaled, labels_np)"
   ]
  },
  {
   "cell_type": "code",
   "execution_count": null,
   "metadata": {
    "colab": {},
    "colab_type": "code",
    "id": "nK14MTRsJKEm"
   },
   "outputs": [],
   "source": [
    "numeric_feature_univariate_selection = pd.Series(k_best.scores_, index=numeric_cols)"
   ]
  },
  {
   "cell_type": "code",
   "execution_count": null,
   "metadata": {
    "colab": {
     "base_uri": "https://localhost:8080/",
     "height": 369
    },
    "colab_type": "code",
    "executionInfo": {
     "elapsed": 3995,
     "status": "ok",
     "timestamp": 1585297017062,
     "user": {
      "displayName": "Raghuvansh Raj",
      "photoUrl": "",
      "userId": "11591486281518120801"
     },
     "user_tz": -330
    },
    "id": "pn08allUNTaP",
    "outputId": "1d46c2d8-035d-4a2b-a0c4-e31e9f61ef2e"
   },
   "outputs": [],
   "source": [
    "top_n = 10\n",
    "title = f'Univariate Selection - Top {top_n} Features'\n",
    "\n",
    "fig = plt.figure()\n",
    "numeric_feature_univariate_selection.nlargest(top_n).plot(\n",
    "    kind='bar',\n",
    "    figsize=(5,5),\n",
    "    color='k'\n",
    "    # title=title\n",
    ")\n",
    "\n",
    "plt.ylabel('$Chi^2$ Scores')\n",
    "plt.xlabel('Attributes')\n",
    "\n",
    "fig.tight_layout()\n",
    "\n",
    "plt.savefig(title + '.png')"
   ]
  },
  {
   "cell_type": "code",
   "execution_count": null,
   "metadata": {
    "colab": {
     "base_uri": "https://localhost:8080/",
     "height": 369
    },
    "colab_type": "code",
    "executionInfo": {
     "elapsed": 2119,
     "status": "ok",
     "timestamp": 1585298282409,
     "user": {
      "displayName": "Raghuvansh Raj",
      "photoUrl": "",
      "userId": "11591486281518120801"
     },
     "user_tz": -330
    },
    "id": "ZboUYasDHKCy",
    "outputId": "13385315-e2ed-4e95-8f9f-ca073d815f96"
   },
   "outputs": [],
   "source": [
    "last_n = 10\n",
    "title = f'Univariate Selection - Last {last_n} Features'\n",
    "\n",
    "fig = plt.figure()\n",
    "numeric_feature_univariate_selection.nsmallest(last_n).plot(\n",
    "    kind='bar',\n",
    "    figsize=(5,5),\n",
    "    color='k'\n",
    "    # title=title\n",
    ")\n",
    "\n",
    "plt.ylabel('$Chi^2$ Scores')\n",
    "plt.xlabel('Attributes')\n",
    "\n",
    "fig.tight_layout()\n",
    "\n",
    "plt.savefig(title + '.png')"
   ]
  },
  {
   "cell_type": "markdown",
   "metadata": {
    "colab_type": "text",
    "id": "ZbU7ImTbVi3k"
   },
   "source": [
    "### Correlation Matrix with Heatmap"
   ]
  },
  {
   "cell_type": "code",
   "execution_count": null,
   "metadata": {
    "colab": {},
    "colab_type": "code",
    "id": "JOW_q51qY08p"
   },
   "outputs": [],
   "source": [
    "def plot_heatmap(features, cols, thresh=0.75, figsize=(20,20)):\n",
    "    features_pd = pd.DataFrame(features)\n",
    "    correlation_mat = features_pd.corr()\n",
    "    \n",
    "    top_corr_features = set()\n",
    "    for i in range(38):\n",
    "        for j in range(i+1,38):\n",
    "            if abs(correlation_mat[i][j]) >= thresh:\n",
    "                top_corr_features.add(i)\n",
    "                top_corr_features.add(j)\n",
    "\n",
    "    top_corr_features_list = list(top_corr_features)\n",
    "    top_correlation_mat = features_pd.iloc[:, top_corr_features_list].corr()\n",
    "\n",
    "    top_corr_cols = [cols[i] for i in top_corr_features_list]\n",
    "    \n",
    "    short_col_list = list()\n",
    "    short_cols = []\n",
    "    ch = 'A'\n",
    "    for i in range(len(top_corr_cols)):\n",
    "        short_col_list.append([chr(ord(ch) + i), top_corr_cols[i]])\n",
    "        short_cols.append(chr(ord(ch) + i))\n",
    "\n",
    "    fig = plt.figure(figsize=figsize)\n",
    "    sns.heatmap(top_correlation_mat, xticklabels=short_cols, yticklabels=short_cols, annot=True, cmap=plt.cm.Greys)\n",
    "    \n",
    "    title = f'Correlation Heatmap with {thresh*100}% Threshold'\n",
    "    fig.tight_layout()\n",
    "    \n",
    "    plt.savefig(title + '.png')\n",
    "\n",
    "    return short_col_list"
   ]
  },
  {
   "cell_type": "code",
   "execution_count": null,
   "metadata": {
    "colab": {
     "base_uri": "https://localhost:8080/",
     "height": 0
    },
    "colab_type": "code",
    "executionInfo": {
     "elapsed": 5589,
     "status": "ok",
     "timestamp": 1585297018667,
     "user": {
      "displayName": "Raghuvansh Raj",
      "photoUrl": "",
      "userId": "11591486281518120801"
     },
     "user_tz": -330
    },
    "id": "OSyJBmFQZKsF",
    "outputId": "ed99cf1b-788f-41fe-c506-290d088b7332"
   },
   "outputs": [],
   "source": [
    "short_col_list = plot_heatmap(numeric_features_scaled, numeric_cols, thresh=0.95, figsize=(7,7))"
   ]
  },
  {
   "cell_type": "code",
   "execution_count": null,
   "metadata": {
    "colab": {
     "base_uri": "https://localhost:8080/",
     "height": 0
    },
    "colab_type": "code",
    "executionInfo": {
     "elapsed": 5568,
     "status": "ok",
     "timestamp": 1585297018668,
     "user": {
      "displayName": "Raghuvansh Raj",
      "photoUrl": "",
      "userId": "11591486281518120801"
     },
     "user_tz": -330
    },
    "id": "FDUnxGDbt1NB",
    "outputId": "93d9d64b-5bb0-4eb3-d050-b61e5dfd3a51"
   },
   "outputs": [],
   "source": [
    "short_col_list"
   ]
  },
  {
   "cell_type": "markdown",
   "metadata": {
    "colab_type": "text",
    "id": "bekG0r2XrHb8"
   },
   "source": [
    "## Nominal Features\n",
    "\n"
   ]
  },
  {
   "cell_type": "markdown",
   "metadata": {
    "colab_type": "text",
    "id": "x4QR9pnLrpPU"
   },
   "source": [
    "### Decision Tree Classifier"
   ]
  },
  {
   "cell_type": "code",
   "execution_count": null,
   "metadata": {
    "colab": {
     "base_uri": "https://localhost:8080/",
     "height": 204
    },
    "colab_type": "code",
    "executionInfo": {
     "elapsed": 5565,
     "status": "ok",
     "timestamp": 1585297018669,
     "user": {
      "displayName": "Raghuvansh Raj",
      "photoUrl": "",
      "userId": "11591486281518120801"
     },
     "user_tz": -330
    },
    "id": "90hyPvaZs9AV",
    "outputId": "d49adebc-2497-4a00-b334-9119f8fb1cba"
   },
   "outputs": [],
   "source": [
    "nominal_features.head()"
   ]
  },
  {
   "cell_type": "code",
   "execution_count": null,
   "metadata": {
    "colab": {
     "base_uri": "https://localhost:8080/",
     "height": 119
    },
    "colab_type": "code",
    "executionInfo": {
     "elapsed": 5550,
     "status": "ok",
     "timestamp": 1585297018670,
     "user": {
      "displayName": "Raghuvansh Raj",
      "photoUrl": "",
      "userId": "11591486281518120801"
     },
     "user_tz": -330
    },
    "id": "unS-EeBz_rZi",
    "outputId": "14c1bfb4-1afe-4599-dded-2c1603c2cdee"
   },
   "outputs": [],
   "source": [
    "dtc = DecisionTreeClassifier()\n",
    "dtc.fit(nominal_features_one_hot_np, labels_np)"
   ]
  },
  {
   "cell_type": "code",
   "execution_count": null,
   "metadata": {
    "colab": {
     "base_uri": "https://localhost:8080/",
     "height": 1000
    },
    "colab_type": "code",
    "executionInfo": {
     "elapsed": 1087,
     "status": "ok",
     "timestamp": 1585297283913,
     "user": {
      "displayName": "Raghuvansh Raj",
      "photoUrl": "",
      "userId": "11591486281518120801"
     },
     "user_tz": -330
    },
    "id": "OBaOApGouQHg",
    "outputId": "e3c3ed46-8363-4669-839c-7e4ea3aaf9de"
   },
   "outputs": [],
   "source": [
    "weights = []\n",
    "\n",
    "for col in nominal_features.columns:\n",
    "    weights.append(nominal_features[col].value_counts().to_dict())\n",
    "\n",
    "for curr_val in weights:\n",
    "    for key in curr_val.keys():\n",
    "        curr_val[key] /= nominal_features.shape[0]\n",
    "\n",
    "pprint(weights)"
   ]
  },
  {
   "cell_type": "code",
   "execution_count": null,
   "metadata": {
    "colab": {},
    "colab_type": "code",
    "id": "tqihaWGnuptd"
   },
   "outputs": [],
   "source": [
    "importances = [0] * 3\n",
    "for i in range(84):\n",
    "    curr_column = nominal_features_one_hot.columns[i]\n",
    "    importances[int(curr_column[0])-1] += weights[int(curr_column[0])-1][curr_column[2:]] * dtc.feature_importances_[i]"
   ]
  },
  {
   "cell_type": "code",
   "execution_count": null,
   "metadata": {
    "colab": {
     "base_uri": "https://localhost:8080/",
     "height": 34
    },
    "colab_type": "code",
    "executionInfo": {
     "elapsed": 5533,
     "status": "ok",
     "timestamp": 1585297018672,
     "user": {
      "displayName": "Raghuvansh Raj",
      "photoUrl": "",
      "userId": "11591486281518120801"
     },
     "user_tz": -330
    },
    "id": "KvS-27COxJVK",
    "outputId": "e0f40bc8-a25c-4d0d-fa18-5cb30b5ac8ec"
   },
   "outputs": [],
   "source": [
    "importances"
   ]
  },
  {
   "cell_type": "code",
   "execution_count": null,
   "metadata": {
    "colab": {
     "base_uri": "https://localhost:8080/",
     "height": 369
    },
    "colab_type": "code",
    "executionInfo": {
     "elapsed": 5983,
     "status": "ok",
     "timestamp": 1585297019127,
     "user": {
      "displayName": "Raghuvansh Raj",
      "photoUrl": "",
      "userId": "11591486281518120801"
     },
     "user_tz": -330
    },
    "id": "oqUCavxLyJwY",
    "outputId": "751426c9-5395-4c3c-8c03-60f0cda3419e"
   },
   "outputs": [],
   "source": [
    "importances_series = pd.Series(importances, index=DATA_COLS[-3:])\n",
    "\n",
    "fig = plt.figure()\n",
    "title = 'Feature Importances using Decision Tree Classifier'\n",
    "importances_series.plot(\n",
    "    kind='bar',\n",
    "    # title=title,\n",
    "    figsize=(5,5),\n",
    "    color='k'\n",
    ")\n",
    "\n",
    "plt.ylabel('Weighted Gini Index Scores')\n",
    "plt.xlabel('Attributes')\n",
    "\n",
    "fig.tight_layout()\n",
    "\n",
    "plt.savefig(title + '.png')"
   ]
  },
  {
   "cell_type": "code",
   "execution_count": null,
   "metadata": {
    "colab": {},
    "colab_type": "code",
    "id": "4vWbF_y4zGLc"
   },
   "outputs": [],
   "source": []
  }
 ],
 "metadata": {
  "colab": {
   "name": "Data Analysis.ipynb",
   "provenance": [],
   "toc_visible": true
  },
  "kernelspec": {
   "display_name": "Python 3",
   "language": "python",
   "name": "python3"
  },
  "language_info": {
   "codemirror_mode": {
    "name": "ipython",
    "version": 3
   },
   "file_extension": ".py",
   "mimetype": "text/x-python",
   "name": "python",
   "nbconvert_exporter": "python",
   "pygments_lexer": "ipython3",
   "version": "3.7.6"
  }
 },
 "nbformat": 4,
 "nbformat_minor": 1
}
